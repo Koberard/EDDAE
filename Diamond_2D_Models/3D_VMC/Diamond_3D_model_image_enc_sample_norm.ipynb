{
 "cells": [
  {
   "cell_type": "code",
   "execution_count": 1,
   "id": "adbfdc98-ee96-40a0-8303-4e887b1f07a4",
   "metadata": {},
   "outputs": [
    {
     "name": "stderr",
     "output_type": "stream",
     "text": [
      "2025-07-17 12:20:23.279987: E external/local_xla/xla/stream_executor/cuda/cuda_fft.cc:467] Unable to register cuFFT factory: Attempting to register factory for plugin cuFFT when one has already been registered\n",
      "WARNING: All log messages before absl::InitializeLog() is called are written to STDERR\n",
      "E0000 00:00:1752780023.293627 1037068 cuda_dnn.cc:8579] Unable to register cuDNN factory: Attempting to register factory for plugin cuDNN when one has already been registered\n",
      "E0000 00:00:1752780023.297850 1037068 cuda_blas.cc:1407] Unable to register cuBLAS factory: Attempting to register factory for plugin cuBLAS when one has already been registered\n",
      "W0000 00:00:1752780023.309865 1037068 computation_placer.cc:177] computation placer already registered. Please check linkage and avoid linking the same target more than once.\n",
      "W0000 00:00:1752780023.309876 1037068 computation_placer.cc:177] computation placer already registered. Please check linkage and avoid linking the same target more than once.\n",
      "W0000 00:00:1752780023.309877 1037068 computation_placer.cc:177] computation placer already registered. Please check linkage and avoid linking the same target more than once.\n",
      "W0000 00:00:1752780023.309879 1037068 computation_placer.cc:177] computation placer already registered. Please check linkage and avoid linking the same target more than once.\n",
      "2025-07-17 12:20:23.313884: I tensorflow/core/platform/cpu_feature_guard.cc:210] This TensorFlow binary is optimized to use available CPU instructions in performance-critical operations.\n",
      "To enable the following instructions: AVX2 FMA, in other operations, rebuild TensorFlow with the appropriate compiler flags.\n"
     ]
    }
   ],
   "source": [
    "import h5py\n",
    "import numpy as np\n",
    "import os\n",
    "import matplotlib.pyplot as plt\n",
    "import os\n",
    "import tensorflow as tf"
   ]
  },
  {
   "cell_type": "code",
   "execution_count": 2,
   "id": "3d755537-d8f0-4658-98e5-736975bba3b0",
   "metadata": {},
   "outputs": [
    {
     "name": "stdout",
     "output_type": "stream",
     "text": [
      "(64, 64, 64)\n"
     ]
    }
   ],
   "source": [
    "# minorized reference\n",
    "with h5py.File('/global/u2/k/kberard/SCGSR/Research/Diamond/Data/density_tot_ref.h5', 'r') as file:\n",
    "    #print(\"Keys: %s\" % file.keys())\n",
    "    ref_d = file['density'][:]\n",
    "#print(ref_d)\n",
    "print(ref_d.shape)\n",
    "\n",
    "\n"
   ]
  },
  {
   "cell_type": "code",
   "execution_count": 3,
   "id": "7582d1c8-72cb-404a-bb2a-f3abe8a2f7af",
   "metadata": {},
   "outputs": [],
   "source": [
    "####################################################################################################################################################\n",
    "def stochastic_density(d,N):\n",
    "    # poisson model\n",
    "    #  accurate and fast for all values of N\n",
    "    # N  = number of MC samples\n",
    "    assert isinstance(d,np.ndarray)\n",
    "    assert isinstance(N,(int,float,np.int64,np.float64))\n",
    "    assert N>0\n",
    "    ds = np.random.poisson(N*d)/N\n",
    "    ds*= d.sum()/ds.sum()\n",
    "    return ds\n",
    "#end def stochastic_density\n",
    "\n",
    "####################################################################################################################################################"
   ]
  },
  {
   "cell_type": "code",
   "execution_count": 4,
   "id": "d25fba79-bae7-46e6-bd70-673815d88c86",
   "metadata": {},
   "outputs": [
    {
     "name": "stdout",
     "output_type": "stream",
     "text": [
      "Train, val, generated\n"
     ]
    }
   ],
   "source": [
    "def generate_single_2d_density(ref_d, noise_level):\n",
    "    noisy_3d = stochastic_density(ref_d, noise_level)  # shape: (64, 64, 64)\n",
    "    return noisy_3d\n",
    "\n",
    "# Noise levels to randomly draw from\n",
    "noise_levels = [10000 * (j + 1) for j in range(5)]  # [10000, 20000, ..., 50000]\n",
    "\n",
    "# Sizes\n",
    "num_train = 5000\n",
    "num_val = 1000\n",
    "num_test = 500\n",
    "\n",
    "# Generate train set with mixed noise levels\n",
    "x_train = np.zeros((num_train, 64, 64,64))\n",
    "for i in range(num_train):\n",
    "    noise_level = np.random.choice(noise_levels)\n",
    "    x_train[i] = generate_single_2d_density(ref_d, noise_level)\n",
    "\n",
    "# Generate val set with mixed noise levels\n",
    "x_val = np.zeros((num_val, 64, 64,64))\n",
    "for i in range(num_val):\n",
    "    noise_level = np.random.choice(noise_levels)\n",
    "    x_val[i] = generate_single_2d_density(ref_d, noise_level)\n",
    "\n",
    "\n",
    "\n",
    "print(\"Train, val, generated\")\n"
   ]
  },
  {
   "cell_type": "code",
   "execution_count": 5,
   "id": "fc3e3001-9a33-4e10-a915-6f34a12b52fb",
   "metadata": {},
   "outputs": [
    {
     "name": "stdout",
     "output_type": "stream",
     "text": [
      "test generated\n"
     ]
    }
   ],
   "source": [
    "# Generate test set with fixed noise level\n",
    "x_test = np.zeros((num_test, 64, 64, 64))\n",
    "for i in range(num_test):\n",
    "    x_test[i] = generate_single_2d_density(ref_d, 100000)\n",
    "print(\"test generated\")"
   ]
  },
  {
   "cell_type": "code",
   "execution_count": 6,
   "id": "c762ad87-a089-4fd6-843b-7790b8069745",
   "metadata": {},
   "outputs": [
    {
     "name": "stdout",
     "output_type": "stream",
     "text": [
      "here\n"
     ]
    }
   ],
   "source": [
    "y_test_3d = np.zeros((x_test.shape[0],64,64,64))\n",
    "y_train_3d = np.zeros((x_train.shape[0],64,64,64))\n",
    "y_val_3d = np.zeros((x_val.shape[0],64,64,64))\n",
    "for i in range (y_test_3d.shape[0]):\n",
    "    y_test_3d[i]=stochastic_density(ref_d,1000000)\n",
    "y_test = y_test_3d\n",
    "for i in range (y_train_3d.shape[0]):\n",
    "    y_train_3d[i]=stochastic_density(ref_d,1000000)\n",
    "y_train = y_train_3d\n",
    "\n",
    "for i in range (y_val_3d.shape[0]):\n",
    "    y_val_3d[i]=stochastic_density(ref_d,1000000)\n",
    "y_val = y_val_3d\n",
    "print(\"here\")"
   ]
  },
  {
   "cell_type": "code",
   "execution_count": 36,
   "id": "cd5b89c6-eca3-448a-94ab-b0af64c3ec9e",
   "metadata": {},
   "outputs": [
    {
     "name": "stdout",
     "output_type": "stream",
     "text": [
      "(64, 64, 64)\n",
      "7.999999999980933\n",
      "(64, 64, 3)\n",
      "2313.3766233766232\n",
      "0.9090909090909091\n"
     ]
    }
   ],
   "source": [
    "print(x_train[0].shape)\n",
    "print(np.sum(x_train[0],axis=(0,1,2)))\n",
    "print(x_train_rgb[0].shape)\n",
    "print(np.sum(x_train_rgb[0],axis=(0,1,2)))\n",
    "print(np.max(x_train_rgb[0]))"
   ]
  },
  {
   "cell_type": "code",
   "execution_count": 7,
   "id": "949ca1b9-ee1f-4ace-a14b-10eaf02d2da8",
   "metadata": {},
   "outputs": [],
   "source": [
    "import numpy as np\n",
    "\n",
    "def batch_project_3d_to_rgb(x_train_3d, x_val_3d, x_test_3d,\n",
    "                            y_train_3d, y_val_3d, y_test_3d,\n",
    "                            buffer_scale=1.01):\n",
    "    \"\"\"\n",
    "    Projects all input and output 3D densities to 2D RGB with per-sample normalization.\n",
    "\n",
    "    Args:\n",
    "        x_train_3d, x_val_3d, x_test_3d, y_train_3d, y_val_3d, y_test_3d: ndarray of shape (N, H, W, D)\n",
    "        buffer_scale: float, buffer for normalization (default 1.01)\n",
    "\n",
    "    Returns:\n",
    "        Tuple of normalized RGB arrays in order:\n",
    "        x_train_rgb, x_val_rgb, x_test_rgb,\n",
    "        y_train_rgb, y_val_rgb, y_test_rgb\n",
    "    \"\"\"\n",
    "    def split_sum_rgb(x_3d):\n",
    "        N, H, W, D = x_3d.shape\n",
    "        thirds = np.array_split(np.arange(D), 3)\n",
    "        r = np.sum(x_3d[:, :, :, thirds[0]], axis=-1)\n",
    "        g = np.sum(x_3d[:, :, :, thirds[1]], axis=-1)\n",
    "        b = np.sum(x_3d[:, :, :, thirds[2]], axis=-1)\n",
    "        return np.stack([r, g, b], axis=-1)\n",
    "\n",
    "    def normalize_per_sample(x_rgb):\n",
    "        # Compute per-sample max\n",
    "        max_vals = np.max(x_rgb, axis=(1, 2, 3), keepdims=True)\n",
    "        max_vals = np.where(max_vals == 0, 1.0, max_vals)  # Prevent div by zero\n",
    "        return np.clip(x_rgb / (max_vals * buffer_scale), 0, 1)\n",
    "\n",
    "    # Convert to RGB\n",
    "    x_train_rgb = normalize_per_sample(split_sum_rgb(x_train_3d))\n",
    "    x_val_rgb   = normalize_per_sample(split_sum_rgb(x_val_3d))\n",
    "    x_test_rgb  = normalize_per_sample(split_sum_rgb(x_test_3d))\n",
    "    y_train_rgb = normalize_per_sample(split_sum_rgb(y_train_3d))\n",
    "    y_val_rgb   = normalize_per_sample(split_sum_rgb(y_val_3d))\n",
    "    y_test_rgb  = normalize_per_sample(split_sum_rgb(y_test_3d))\n",
    "\n",
    "    return (\n",
    "        x_train_rgb, x_val_rgb, x_test_rgb,\n",
    "        y_train_rgb, y_val_rgb, y_test_rgb\n",
    "    )\n"
   ]
  },
  {
   "cell_type": "code",
   "execution_count": 8,
   "id": "ddb889cf-73df-4709-8cd0-a256ea94fcda",
   "metadata": {
    "scrolled": true
   },
   "outputs": [
    {
     "name": "stderr",
     "output_type": "stream",
     "text": [
      "I0000 00:00:1752780256.814437 1037068 gpu_device.cc:2019] Created device /job:localhost/replica:0/task:0/device:GPU:0 with 38366 MB memory:  -> device: 0, name: NVIDIA A100-SXM4-40GB, pci bus id: 0000:03:00.0, compute capability: 8.0\n",
      "I0000 00:00:1752780256.817380 1037068 gpu_device.cc:2019] Created device /job:localhost/replica:0/task:0/device:GPU:1 with 38366 MB memory:  -> device: 1, name: NVIDIA A100-SXM4-40GB, pci bus id: 0000:41:00.0, compute capability: 8.0\n",
      "I0000 00:00:1752780256.819098 1037068 gpu_device.cc:2019] Created device /job:localhost/replica:0/task:0/device:GPU:2 with 38366 MB memory:  -> device: 2, name: NVIDIA A100-SXM4-40GB, pci bus id: 0000:82:00.0, compute capability: 8.0\n",
      "I0000 00:00:1752780256.821918 1037068 gpu_device.cc:2019] Created device /job:localhost/replica:0/task:0/device:GPU:3 with 38366 MB memory:  -> device: 3, name: NVIDIA A100-SXM4-40GB, pci bus id: 0000:c1:00.0, compute capability: 8.0\n"
     ]
    },
    {
     "name": "stdout",
     "output_type": "stream",
     "text": [
      "Epoch 1/5\n"
     ]
    },
    {
     "name": "stderr",
     "output_type": "stream",
     "text": [
      "WARNING: All log messages before absl::InitializeLog() is called are written to STDERR\n",
      "I0000 00:00:1752780259.494566 1039092 service.cc:152] XLA service 0x7f5dcc012270 initialized for platform CUDA (this does not guarantee that XLA will be used). Devices:\n",
      "I0000 00:00:1752780259.494591 1039092 service.cc:160]   StreamExecutor device (0): NVIDIA A100-SXM4-40GB, Compute Capability 8.0\n",
      "I0000 00:00:1752780259.494595 1039092 service.cc:160]   StreamExecutor device (1): NVIDIA A100-SXM4-40GB, Compute Capability 8.0\n",
      "I0000 00:00:1752780259.494597 1039092 service.cc:160]   StreamExecutor device (2): NVIDIA A100-SXM4-40GB, Compute Capability 8.0\n",
      "I0000 00:00:1752780259.494599 1039092 service.cc:160]   StreamExecutor device (3): NVIDIA A100-SXM4-40GB, Compute Capability 8.0\n",
      "2025-07-17 12:24:19.584026: I tensorflow/compiler/mlir/tensorflow/utils/dump_mlir_util.cc:269] disabling MLIR crash reproducer, set env var `MLIR_CRASH_REPRODUCER_DIRECTORY` to enable.\n",
      "I0000 00:00:1752780259.865942 1039092 cuda_dnn.cc:529] Loaded cuDNN version 90300\n"
     ]
    },
    {
     "name": "stdout",
     "output_type": "stream",
     "text": [
      "\u001b[1m 40/157\u001b[0m \u001b[32m━━━━━\u001b[0m\u001b[37m━━━━━━━━━━━━━━━\u001b[0m \u001b[1m0s\u001b[0m 4ms/step - loss: 0.2207  "
     ]
    },
    {
     "name": "stderr",
     "output_type": "stream",
     "text": [
      "I0000 00:00:1752780262.317067 1039092 device_compiler.h:188] Compiled cluster using XLA!  This line is logged at most once for the lifetime of the process.\n"
     ]
    },
    {
     "name": "stdout",
     "output_type": "stream",
     "text": [
      "\u001b[1m157/157\u001b[0m \u001b[32m━━━━━━━━━━━━━━━━━━━━\u001b[0m\u001b[37m\u001b[0m \u001b[1m9s\u001b[0m 30ms/step - loss: 0.1581 - val_loss: 0.0393 - learning_rate: 1.0000e-04\n",
      "Epoch 2/5\n",
      "\u001b[1m157/157\u001b[0m \u001b[32m━━━━━━━━━━━━━━━━━━━━\u001b[0m\u001b[37m\u001b[0m \u001b[1m1s\u001b[0m 5ms/step - loss: 0.0324 - val_loss: 0.0217 - learning_rate: 1.0000e-04\n",
      "Epoch 3/5\n",
      "\u001b[1m157/157\u001b[0m \u001b[32m━━━━━━━━━━━━━━━━━━━━\u001b[0m\u001b[37m\u001b[0m \u001b[1m1s\u001b[0m 5ms/step - loss: 0.0202 - val_loss: 0.0173 - learning_rate: 1.0000e-04\n",
      "Epoch 4/5\n",
      "\u001b[1m157/157\u001b[0m \u001b[32m━━━━━━━━━━━━━━━━━━━━\u001b[0m\u001b[37m\u001b[0m \u001b[1m1s\u001b[0m 5ms/step - loss: 0.0168 - val_loss: 0.0153 - learning_rate: 1.0000e-04\n",
      "Epoch 5/5\n",
      "\u001b[1m157/157\u001b[0m \u001b[32m━━━━━━━━━━━━━━━━━━━━\u001b[0m\u001b[37m\u001b[0m \u001b[1m1s\u001b[0m 5ms/step - loss: 0.0151 - val_loss: 0.0141 - learning_rate: 1.0000e-04\n",
      "\u001b[1m1/1\u001b[0m \u001b[32m━━━━━━━━━━━━━━━━━━━━\u001b[0m\u001b[37m\u001b[0m \u001b[1m1s\u001b[0m 616ms/step\n"
     ]
    },
    {
     "data": {
      "image/png": "[encoded data removed]",
      "text/plain": [
       "<Figure size 1200x400 with 6 Axes>"
      ]
     },
     "metadata": {},
     "output_type": "display_data"
    }
   ],
   "source": [
    "x_train_rgb, x_val_rgb, x_test_rgb, y_train_rgb, y_val_rgb, y_test_rgb = batch_project_3d_to_rgb(\n",
    "    x_train, x_val, x_test,\n",
    "    y_train_3d, y_val_3d, y_test_3d,\n",
    "    buffer_scale=1.10\n",
    ")\n",
    "#Try learning rate scheduler\n",
    "import numpy as np\n",
    "import tensorflow as tf\n",
    "from tensorflow.keras import layers, models, callbacks, regularizers\n",
    "import matplotlib.pyplot as plt\n",
    "\n",
    "\n",
    "def renormalize_sum_to_eight(x):\n",
    "    total = tf.reduce_sum(x, axis=[1, 2, 3], keepdims=True)\n",
    "    print(total)\n",
    "    return x / (total + 1e-8) * 8.0\n",
    "\n",
    "# --- Jensen-Shannon Divergence Loss ---\n",
    "def jensen_shannon_divergence_loss(y_true, y_pred):\n",
    "    y_t = tf.cast(y_true, tf.float32)\n",
    "    y_p = tf.cast(y_pred, tf.float32)\n",
    "\n",
    "    y_t = tf.reshape(y_t, [tf.shape(y_t)[0], -1])\n",
    "    y_p = tf.reshape(y_p, [tf.shape(y_p)[0], -1])\n",
    "\n",
    "    y_t /= tf.reduce_sum(y_t, axis=1, keepdims=True) + 1e-8\n",
    "    y_p /= tf.reduce_sum(y_p, axis=1, keepdims=True) + 1e-8\n",
    "\n",
    "    m = 0.5 * (y_t + y_p)\n",
    "    kl_true = tf.reduce_sum(y_t * tf.math.log((y_t + 1e-8) / (m + 1e-8)), axis=1)\n",
    "    kl_pred = tf.reduce_sum(y_p * tf.math.log((y_p + 1e-8) / (m + 1e-8)), axis=1)\n",
    "    return tf.reduce_mean(0.5 * (kl_true + kl_pred))\n",
    "\n",
    "# --- 3D CAE Model Definition ---\n",
    "def create_simple_2d_cae(input_shape=(64, 64, 3), dropout_rate=0.2, l2_strength=1e-8):\n",
    "    reg = regularizers.l2(l2_strength)\n",
    "    input_layer = layers.Input(shape=input_shape)\n",
    "\n",
    "    x = layers.Conv2D(64, (3, 3), activation='relu', padding='same', kernel_regularizer=reg)(input_layer)\n",
    "    x = layers.MaxPooling2D((2, 2))(x)\n",
    "    x = layers.Conv2D(32, (3, 3), activation='relu', padding='same', kernel_regularizer=reg)(x)\n",
    "    x = layers.MaxPooling2D((2, 2))(x)\n",
    "    x = layers.Conv2D(16, (3, 3), activation='relu', padding='same', kernel_regularizer=reg)(x)\n",
    "    x = layers.MaxPooling2D((2, 2))(x)\n",
    "\n",
    "    # Bottleneck\n",
    "    x = layers.Conv2D(16, (3, 3), activation='relu', padding='same', kernel_regularizer=reg)(x)\n",
    "\n",
    "    # Decoder\n",
    "    x = layers.UpSampling2D((2, 2))(x)\n",
    "    x = layers.Conv2D(16, (3, 3), activation='relu', padding='same', kernel_regularizer=reg)(x)\n",
    "    x = layers.UpSampling2D((2, 2))(x)\n",
    "    x = layers.Conv2D(32, (3, 3), activation='relu', padding='same', kernel_regularizer=reg)(x)\n",
    "    x = layers.UpSampling2D((2, 2))(x)\n",
    "    x = layers.Conv2D(64, (3, 3), activation='relu', padding='same', kernel_regularizer=reg)(x)\n",
    "\n",
    "\n",
    "    output_layer =  layers.Conv2D(3, (3, 3),  activation='relu', padding='same')(x)\n",
    "\n",
    "    #output_layer = layers.Lambda(renormalize_sum_to_eight)(x)\n",
    "\n",
    "    return models.Model(inputs=input_layer, outputs=output_layer)\n",
    "\n",
    "\n",
    "\n",
    "\n",
    "# --- Training Pipeline ---\n",
    "if __name__ == '__main__':\n",
    "    # Assume x_train_3d, y_train_3d, etc. are already loaded\n",
    "    # Add channel dim: (64,64,64) → (64,64,64,1)\n",
    "\n",
    "    input_shape = (64, 64, 3)\n",
    "    cae = create_simple_2d_cae(input_shape)\n",
    "    cae.compile(optimizer=tf.keras.optimizers.Adam(1e-4), loss='mae')\n",
    "\n",
    "    # Callbacks\n",
    "    early_stop = callbacks.EarlyStopping(monitor='val_loss', patience=10, restore_best_weights=True)\n",
    "    lr_scheduler = callbacks.ReduceLROnPlateau(\n",
    "    monitor='val_loss',\n",
    "    factor=0.5,\n",
    "    patience=5,\n",
    "    verbose=1,\n",
    "    min_lr=1e-6\n",
    ")\n",
    "    callbacks_list = [early_stop, lr_scheduler]\n",
    "\n",
    "    # Train\n",
    "    cae.fit(x_train_rgb, y_train_rgb,\n",
    "        validation_data=(x_val_rgb, y_val_rgb),\n",
    "        epochs=5,\n",
    "        batch_size=32,\n",
    "        callbacks=callbacks_list,\n",
    "        verbose=1)\n",
    "\n",
    "    # Predict one test volume\n",
    "    i = 0\n",
    "    denoised = cae.predict(x_test_rgb[i:i+1])[0]\n",
    "    noisy_input = x_test_rgb[i]\n",
    "    true_clean = y_test_rgb[i]\n",
    "    \n",
    "    plt.figure(figsize=(12, 4))\n",
    "    plt.subplot(1, 3, 1)\n",
    "    plt.imshow(noisy_input)\n",
    "    plt.title(\"Noisy Input\")\n",
    "    plt.colorbar()\n",
    "    \n",
    "    plt.subplot(1, 3, 2)\n",
    "    plt.imshow(denoised)\n",
    "    plt.title(\"Denoised Output\")\n",
    "    plt.colorbar()\n",
    "    \n",
    "    plt.subplot(1, 3, 3)\n",
    "    plt.imshow(true_clean)\n",
    "    plt.title(\"Clean Target\")\n",
    "    plt.colorbar()\n",
    "    \n",
    "    plt.tight_layout()\n",
    "    plt.show()\n",
    "\n"
   ]
  },
  {
   "cell_type": "code",
   "execution_count": 9,
   "id": "b90a8fa0-237f-4909-a770-667d144d86ce",
   "metadata": {
    "scrolled": true
   },
   "outputs": [
    {
     "name": "stdout",
     "output_type": "stream",
     "text": [
      ">>> Testing on the projected RGB test set\n",
      "(500, 64, 64, 3) Shape of test set\n",
      "(64, 64, 3) Shape of average of test set\n",
      "(64, 64, 3) Reference shape (should be (64, 64, 3))\n",
      "2-norm difference\n",
      "Mean vs DFT 2-norm diff:\n",
      "4.545877398149181\n",
      "\n",
      "Prediction of one test sample vs DFT\n",
      "(1, 64, 64, 3) Test sample shape\n",
      "\u001b[1m1/1\u001b[0m \u001b[32m━━━━━━━━━━━━━━━━━━━━\u001b[0m\u001b[37m\u001b[0m \u001b[1m0s\u001b[0m 98ms/step\n",
      "(64, 64, 3) Prediction shape (64, 64, 3)\n",
      "2-norm(pred vs DFT): 2.0245803171389563\n",
      "\n",
      "Divergence differences\n",
      "\u001b[1m1/1\u001b[0m \u001b[32m━━━━━━━━━━━━━━━━━━━━\u001b[0m\u001b[37m\u001b[0m \u001b[1m0s\u001b[0m 99ms/step\n",
      "JSD(bar{x_test}, y_dft): 0.00023813843\n",
      "JSD(DAE(bar{x}), y_dft): 0.00062359415\n",
      "JSD(DAE(x_i), y_dft): 0.0005143933\n"
     ]
    }
   ],
   "source": [
    "# --- Evaluation on the Test Set ---\n",
    "print(\">>> Testing on the projected RGB test set\")\n",
    "print(x_test_rgb.shape, \"Shape of test set\")\n",
    "\n",
    "# Average prediction (mean image)\n",
    "test_avg = np.mean(x_test_rgb, axis=0)\n",
    "print(test_avg.shape, \"Shape of average of test set\")\n",
    "ref_d = y_test_rgb[0]  # Choose a representative DFT reference\n",
    "print(ref_d.shape, \"Reference shape (should be (64, 64, 3))\")\n",
    "\n",
    "# --- 2-Norm Difference ---\n",
    "print(\"2-norm difference\")\n",
    "print(\"Mean vs DFT 2-norm diff:\")\n",
    "print(np.linalg.norm(test_avg - ref_d))\n",
    "\n",
    "# --- Prediction vs Reference ---\n",
    "print(\"\\nPrediction of one test sample vs DFT\")\n",
    "print(x_test_rgb[0:1].shape, \"Test sample shape\")\n",
    "\n",
    "# Predict denoised image\n",
    "pred = cae.predict(x_test_rgb[0:1])[0]\n",
    "print(pred.shape, \"Prediction shape\", ref_d.shape)\n",
    "print(\"2-norm(pred vs DFT):\", np.linalg.norm(pred - ref_d))\n",
    "\n",
    "# --- Jensen-Shannon Divergence Analysis ---\n",
    "print(\"\\nDivergence differences\")\n",
    "\n",
    "# Predict mean of test set passed through model\n",
    "mean_pred = cae.predict(test_avg.reshape(1, 64, 64, 3))[0]\n",
    "\n",
    "print(\"JSD(bar{x_test}, y_dft):\", jensen_shannon_divergence_loss(test_avg, ref_d.copy()).numpy())\n",
    "print(\"JSD(DAE(bar{x}), y_dft):\", jensen_shannon_divergence_loss(mean_pred, ref_d.copy()).numpy())\n",
    "print(\"JSD(DAE(x_i), y_dft):\", jensen_shannon_divergence_loss(pred, ref_d.copy()).numpy())\n"
   ]
  },
  {
   "cell_type": "code",
   "execution_count": null,
   "id": "5c35c731-1afa-407b-85bf-7bfac11eee56",
   "metadata": {},
   "outputs": [],
   "source": []
  },
  {
   "cell_type": "code",
   "execution_count": 45,
   "id": "0e71ec4b-225a-48f6-bfe3-1ce2616af727",
   "metadata": {},
   "outputs": [
    {
     "name": "stdout",
     "output_type": "stream",
     "text": [
      "Shape of test set: (500, 64, 64, 3)\n",
      "Shape of average of test set: (64, 64, 3)\n",
      "Shape of reference: (64, 64, 3)\n",
      "\n",
      "2-norm difference\n",
      "Mean vs DFT 2-norm diff: 0.0028275657677668147\n",
      "\n",
      "Prediction of one test sample vs DFT\n",
      "\u001b[1m1/1\u001b[0m \u001b[32m━━━━━━━━━━━━━━━━━━━━\u001b[0m\u001b[37m\u001b[0m \u001b[1m0s\u001b[0m 94ms/step\n",
      "Prediction shape: (64, 64, 3)\n",
      "2-norm(pred, ref_d): 0.06067912519128907\n",
      "\n",
      "Jensen-Shannon Divergence\n",
      "\u001b[1m1/1\u001b[0m \u001b[32m━━━━━━━━━━━━━━━━━━━━\u001b[0m\u001b[37m\u001b[0m \u001b[1m0s\u001b[0m 86ms/step\n",
      "JSD(bar{x_test}, y_dft): 0.00022791178\n",
      "JSD(DAE(bar{x}), y_dft): 0.06483744\n",
      "JSD(DAE(x_i), y_dft): 0.06484163\n"
     ]
    }
   ],
   "source": [
    "def normalize_to_electron_count(x, target_sum=8.0):\n",
    "    # Avoid division by zero\n",
    "    current_sum = np.sum(x, axis=(1, 2, 3), keepdims=True)\n",
    "    current_sum[current_sum == 0] = 1.0\n",
    "    return x * (target_sum / current_sum)\n",
    "\n",
    "# Normalize test set and reference to have total sum = 8\n",
    "x_test_norm = normalize_to_electron_count(x_test_rgb.copy(), target_sum=8.0)\n",
    "ref_d_norm = ref_d.copy() * (8.0 / np.sum(ref_d))\n",
    "\n",
    "# --- Average prediction (mean image) ---\n",
    "test_avg = np.mean(x_test_norm, axis=0)\n",
    "print(\"Shape of test set:\", x_test_norm.shape)\n",
    "print(\"Shape of average of test set:\", test_avg.shape)\n",
    "print(\"Shape of reference:\", ref_d_norm.shape)\n",
    "\n",
    "# --- 2-Norm Difference ---\n",
    "print(\"\\n2-norm difference\")\n",
    "print(\"Mean vs DFT 2-norm diff:\", np.linalg.norm(test_avg - ref_d_norm))\n",
    "\n",
    "# --- Prediction vs Reference ---\n",
    "print(\"\\nPrediction of one test sample vs DFT\")\n",
    "pred = cae.predict(x_test_norm[0:1])[0]\n",
    "print(\"Prediction shape:\", pred.shape)\n",
    "\n",
    "# Normalize prediction\n",
    "pred_norm = pred * (8.0 / np.sum(pred))\n",
    "\n",
    "print(\"2-norm(pred, ref_d):\", np.linalg.norm(pred_norm - ref_d_norm))\n",
    "\n",
    "# --- Jensen-Shannon Divergence Analysis ---\n",
    "print(\"\\nJensen-Shannon Divergence\")\n",
    "\n",
    "mean_pred = cae.predict(test_avg.reshape(1, 64, 64, 3))[0]\n",
    "mean_pred_norm = mean_pred * (8.0 / np.sum(mean_pred))\n",
    "\n",
    "print(\"JSD(bar{x_test}, y_dft):\", jensen_shannon_divergence_loss(test_avg, ref_d_norm).numpy())\n",
    "print(\"JSD(DAE(bar{x}), y_dft):\", jensen_shannon_divergence_loss(mean_pred_norm, ref_d_norm).numpy())\n",
    "print(\"JSD(DAE(x_i), y_dft):\", jensen_shannon_divergence_loss(pred_norm, ref_d_norm).numpy())\n"
   ]
  },
  {
   "cell_type": "code",
   "execution_count": null,
   "id": "bc372e01-0428-48d3-9d79-0218a7231c5b",
   "metadata": {},
   "outputs": [],
   "source": []
  }
 ],
 "metadata": {
  "kernelspec": {
   "display_name": "MyEnvironment",
   "language": "python",
   "name": "env"
  },
  "language_info": {
   "codemirror_mode": {
    "name": "ipython",
    "version": 3
   },
   "file_extension": ".py",
   "mimetype": "text/x-python",
   "name": "python",
   "nbconvert_exporter": "python",
   "pygments_lexer": "ipython3",
   "version": "3.12.9"
  }
 },
 "nbformat": 4,
 "nbformat_minor": 5
}
