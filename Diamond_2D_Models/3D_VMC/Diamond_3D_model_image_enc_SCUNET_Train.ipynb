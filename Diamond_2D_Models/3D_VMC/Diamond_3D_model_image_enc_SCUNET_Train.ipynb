{
 "cells": [
  {
   "cell_type": "code",
   "execution_count": 1,
   "id": "adbfdc98-ee96-40a0-8303-4e887b1f07a4",
   "metadata": {},
   "outputs": [
    {
     "name": "stderr",
     "output_type": "stream",
     "text": [
      "2025-08-04 15:20:34.978185: E external/local_xla/xla/stream_executor/cuda/cuda_fft.cc:467] Unable to register cuFFT factory: Attempting to register factory for plugin cuFFT when one has already been registered\n",
      "WARNING: All log messages before absl::InitializeLog() is called are written to STDERR\n",
      "E0000 00:00:1754346034.992145   80275 cuda_dnn.cc:8579] Unable to register cuDNN factory: Attempting to register factory for plugin cuDNN when one has already been registered\n",
      "E0000 00:00:1754346034.996368   80275 cuda_blas.cc:1407] Unable to register cuBLAS factory: Attempting to register factory for plugin cuBLAS when one has already been registered\n",
      "W0000 00:00:1754346035.008660   80275 computation_placer.cc:177] computation placer already registered. Please check linkage and avoid linking the same target more than once.\n",
      "W0000 00:00:1754346035.008673   80275 computation_placer.cc:177] computation placer already registered. Please check linkage and avoid linking the same target more than once.\n",
      "W0000 00:00:1754346035.008675   80275 computation_placer.cc:177] computation placer already registered. Please check linkage and avoid linking the same target more than once.\n",
      "W0000 00:00:1754346035.008676   80275 computation_placer.cc:177] computation placer already registered. Please check linkage and avoid linking the same target more than once.\n",
      "2025-08-04 15:20:35.013092: I tensorflow/core/platform/cpu_feature_guard.cc:210] This TensorFlow binary is optimized to use available CPU instructions in performance-critical operations.\n",
      "To enable the following instructions: AVX2 FMA, in other operations, rebuild TensorFlow with the appropriate compiler flags.\n"
     ]
    }
   ],
   "source": [
    "import h5py\n",
    "import os\n",
    "import sys\n",
    "import tensorflow as tf\n",
    "import numpy as np\n",
    "from bm3d import bm3d_rgb, BM3DProfile\n",
    "module_dir = \"/global/u2/k/kberard/SCGSR/Research/Diamond/stock_models/bm3d-4.0.3/bm3d-4.0.3/examples\" \n",
    "sys.path.insert(0, module_dir)\n",
    "from experiment_funcs import get_experiment_noise, get_psnr, get_cropped_psnr\n",
    "from PIL import Image\n",
    "import matplotlib.pyplot as plt\n"
   ]
  },
  {
   "cell_type": "code",
   "execution_count": 2,
   "id": "dfe7a5c7-675e-40ce-b5d7-487a1b43f6fe",
   "metadata": {},
   "outputs": [
    {
     "name": "stderr",
     "output_type": "stream",
     "text": [
      "/global/u2/k/kberard/environments/SCGSR/lib/python3.12/site-packages/tqdm/auto.py:21: TqdmWarning: IProgress not found. Please update jupyter and ipywidgets. See https://ipywidgets.readthedocs.io/en/stable/user_install.html\n",
      "  from .autonotebook import tqdm as notebook_tqdm\n",
      "/global/u2/k/kberard/environments/SCGSR/lib/python3.12/site-packages/timm/models/layers/__init__.py:48: FutureWarning: Importing from timm.models.layers is deprecated, please import via timm.layers\n",
      "  warnings.warn(f\"Importing from {__name__} is deprecated, please import via timm.layers\", FutureWarning)\n"
     ]
    }
   ],
   "source": [
    "import math\n",
    "import torch\n",
    "import torch.nn as nn\n",
    "import numpy as np\n",
    "from thop import profile\n",
    "from einops import rearrange \n",
    "from einops.layers.torch import Rearrange, Reduce\n",
    "from timm.models.layers import trunc_normal_, DropPath"
   ]
  },
  {
   "cell_type": "code",
   "execution_count": 3,
   "id": "098f2929-3d5d-47b7-bcdb-15cea847764a",
   "metadata": {},
   "outputs": [
    {
     "name": "stdout",
     "output_type": "stream",
     "text": [
      "here\n"
     ]
    }
   ],
   "source": [
    "print(\"here\")"
   ]
  },
  {
   "cell_type": "code",
   "execution_count": 4,
   "id": "3de8dc16-f501-4c5e-ad85-1acc29815660",
   "metadata": {},
   "outputs": [],
   "source": [
    "#image denoise methods to try\n",
    "#arciteture only 2024 https://www.nature.com/articles/s41598-024-60139-x\n",
    "# cascaded gaze 2019 https://github.com/Ascend-Research/CascadedGaze\n",
    "# SwinIR 2021 https://github.com/JingyunLiang/SwinIR?tab=readme-ov-file\n",
    "#scunet, ffdnet (compared in nature paper, very close to nat perf) or dnCNN  toolbox with many models https://github.com/cszn/KAIR\n",
    "#scunet it python based \n",
    "# https://pypi.org/project/bm3d/ Bm3d also in nature paper"
   ]
  },
  {
   "cell_type": "code",
   "execution_count": 5,
   "id": "3d755537-d8f0-4658-98e5-736975bba3b0",
   "metadata": {},
   "outputs": [
    {
     "name": "stdout",
     "output_type": "stream",
     "text": [
      "(64, 64, 64)\n"
     ]
    }
   ],
   "source": [
    "# minorized reference\n",
    "with h5py.File('/global/u2/k/kberard/SCGSR/Research/Diamond/Data/density_tot_ref.h5', 'r') as file:\n",
    "    #print(\"Keys: %s\" % file.keys())\n",
    "    ref_d = file['density'][:]\n",
    "#print(ref_d)\n",
    "print(ref_d.shape)\n",
    "\n",
    "\n"
   ]
  },
  {
   "cell_type": "code",
   "execution_count": 6,
   "id": "7582d1c8-72cb-404a-bb2a-f3abe8a2f7af",
   "metadata": {},
   "outputs": [],
   "source": [
    "####################################################################################################################################################\n",
    "def stochastic_density(d,N):\n",
    "    # poisson model\n",
    "    #  accurate and fast for all values of N\n",
    "    # N  = number of MC samples\n",
    "    assert isinstance(d,np.ndarray)\n",
    "    assert isinstance(N,(int,float,np.int64,np.float64))\n",
    "    assert N>0\n",
    "    ds = np.random.poisson(N*d)/N\n",
    "    ds*= d.sum()/ds.sum()\n",
    "    return ds\n",
    "#end def stochastic_density\n",
    "\n",
    "####################################################################################################################################################"
   ]
  },
  {
   "cell_type": "code",
   "execution_count": 7,
   "id": "de71bb52-087e-4817-b3f1-e39e4493c157",
   "metadata": {},
   "outputs": [],
   "source": [
    "import numpy as np\n",
    "import os\n",
    "\n",
    "def encode_voxel_to_rgb(x_train_3d, x_val_3d, x_test_3d,\n",
    "                        y_train_3d, y_val_3d, y_test_3d,\n",
    "                        ref_d=None, save_dir='scalers'):\n",
    "    \"\"\"\n",
    "    Encode a batch of 3D volumes by normalizing each depth slice independently and replicating to RGB.\n",
    "    Each input of shape (N, 64, 64, 64) is transformed into (N*64, 64, 64, 3).\n",
    "\n",
    "    Args:\n",
    "        *_3d: ndarray of shape (N, 64, 64, 64)\n",
    "        ref_d: optional ndarray of shape (64, 64, 64)\n",
    "        save_dir: directory to save the (min, max) scalers for each batch\n",
    "\n",
    "    Returns:\n",
    "        Tuple of:\n",
    "            x_train_rgb, x_val_rgb, x_test_rgb,\n",
    "            y_train_rgb, y_val_rgb, y_test_rgb,\n",
    "            ref_d_rgb (or None if not provided)\n",
    "    \"\"\"\n",
    "    os.makedirs(save_dir, exist_ok=True)\n",
    "\n",
    "    def process_batch(batch, tag):\n",
    "        N, D, H, W = batch.shape  # (N, 64, 64, 64)\n",
    "        rgb_batch = np.zeros((N * D, H, W, 3), dtype=np.float32)\n",
    "        all_mins = []\n",
    "        all_maxs = []\n",
    "\n",
    "        for i in range(N):\n",
    "            mins = []\n",
    "            maxs = []\n",
    "            for d in range(D):\n",
    "                slice_2d = batch[i, d, :, :]\n",
    "                s_min = float(slice_2d.min())\n",
    "                s_max = float(slice_2d.max())\n",
    "\n",
    "                if s_max == s_min:\n",
    "                    s_max = s_min + 1e-6  # prevent divide-by-zero\n",
    "\n",
    "                normed = (slice_2d - s_min) / (s_max - s_min)\n",
    "                rgb = np.stack([normed] * 3, axis=-1)  # shape: (64, 64, 3)\n",
    "\n",
    "                rgb_batch[i * D + d] = rgb\n",
    "                mins.append(s_min)\n",
    "                maxs.append(s_max)\n",
    "\n",
    "            all_mins.append(mins)\n",
    "            all_maxs.append(maxs)\n",
    "\n",
    "        np.savez(os.path.join(save_dir, f'{tag}_scalers.npz'),\n",
    "                 mins=np.array(all_mins), maxs=np.array(all_maxs))\n",
    "\n",
    "        return rgb_batch\n",
    "\n",
    "    x_train_rgb = process_batch(x_train_3d, 'x_train')\n",
    "    x_val_rgb   = process_batch(x_val_3d, 'x_val')\n",
    "    x_test_rgb  = process_batch(x_test_3d, 'x_test')\n",
    "    y_train_rgb = process_batch(y_train_3d, 'y_train')\n",
    "    y_val_rgb   = process_batch(y_val_3d, 'y_val')\n",
    "    y_test_rgb  = process_batch(y_test_3d, 'y_test')\n",
    "\n",
    "    # Optional: single ref volume\n",
    "    ref_d_rgb = None\n",
    "    if ref_d is not None:\n",
    "        ref_rgb = np.zeros((64, 64, 64, 3), dtype=np.float32)\n",
    "        ref_mins = []\n",
    "        ref_maxs = []\n",
    "        for d in range(64):\n",
    "            slice_2d = ref_d[d, :, :]\n",
    "            s_min = float(slice_2d.min())\n",
    "            s_max = float(slice_2d.max())\n",
    "\n",
    "            if s_max == s_min:\n",
    "                s_max = s_min + 1e-6\n",
    "\n",
    "            normed = (slice_2d - s_min) / (s_max - s_min)\n",
    "            ref_rgb[d] = np.stack([normed] * 3, axis=-1)\n",
    "            ref_mins.append(s_min)\n",
    "            ref_maxs.append(s_max)\n",
    "\n",
    "        np.savez(os.path.join(save_dir, 'ref_d_scalers.npz'),\n",
    "                 mins=np.array(ref_mins), maxs=np.array(ref_maxs))\n",
    "        ref_d_rgb = ref_rgb\n",
    "\n",
    "    return (\n",
    "        x_train_rgb, x_val_rgb, x_test_rgb,\n",
    "        y_train_rgb, y_val_rgb, y_test_rgb,\n",
    "        ref_d_rgb\n",
    "    )\n"
   ]
  },
  {
   "cell_type": "code",
   "execution_count": 8,
   "id": "d2d33fda-97f9-4980-8b8b-63a9637f90cf",
   "metadata": {},
   "outputs": [],
   "source": [
    "import numpy as np\n",
    "\n",
    "def decode_rgb_to_voxel_batch(rgb_data, scaler_path):\n",
    "    \"\"\"\n",
    "    Decode RGB-encoded batch (N*64, 64, 64, 3) back to original (N, 64, 64, 64) data\n",
    "    using per-slice min/max scalers.\n",
    "\n",
    "    Args:\n",
    "        rgb_data: ndarray of shape (N*64, 64, 64, 3)\n",
    "        scaler_path: path to `.npz` file containing 'mins' and 'maxs' arrays\n",
    "                     of shape (N, 64)\n",
    "\n",
    "    Returns:\n",
    "        reconstructed: ndarray of shape (N, 64, 64, 64)\n",
    "    \"\"\"\n",
    "    num_slices = 64\n",
    "    assert rgb_data.ndim == 4 and rgb_data.shape[1:4] == (64, 64, 3), \\\n",
    "        f\"Expected shape (N*64, 64, 64, 3), got {rgb_data.shape}\"\n",
    "\n",
    "    N = rgb_data.shape[0] // num_slices\n",
    "    assert rgb_data.shape[0] == N * num_slices, \"RGB data is not a multiple of 64 slices\"\n",
    "\n",
    "    scalers = np.load(scaler_path)\n",
    "    mins = scalers['mins']  # shape (N, 64)\n",
    "    maxs = scalers['maxs']  # shape (N, 64)\n",
    "\n",
    "    reconstructed = np.zeros((N, 64, 64, 64), dtype=np.float32)\n",
    "\n",
    "    for i in range(N):\n",
    "        for d in range(num_slices):\n",
    "            idx = i * num_slices + d\n",
    "            normed = rgb_data[idx, :, :, 0]  # Use first channel (R), they are all the same\n",
    "            s_min = mins[i, d]\n",
    "            s_max = maxs[i, d]\n",
    "            reconstructed[i, d, :, :] = normed * (s_max - s_min) + s_min\n",
    "\n",
    "    return reconstructed\n"
   ]
  },
  {
   "cell_type": "code",
   "execution_count": null,
   "id": "a2e673d2-0d31-4f81-b1d0-465a43a3fa8d",
   "metadata": {},
   "outputs": [],
   "source": []
  },
  {
   "cell_type": "code",
   "execution_count": 12,
   "id": "5c359b5e-e1ac-48fe-b14f-8deb014adefd",
   "metadata": {},
   "outputs": [
    {
     "name": "stdout",
     "output_type": "stream",
     "text": [
      "done generating\n"
     ]
    }
   ],
   "source": [
    "x_train_rgb, x_val_rgb, x_test_rgb, \\\n",
    "y_train_rgb, y_val_rgb, y_test_rgb, \\\n",
    "ref_d_rgb = encode_voxel_to_rgb(\n",
    "    x_train, x_val, x_test,\n",
    "    y_train_3d, y_val_3d, y_test_3d,\n",
    "    ref_d=ref_d\n",
    ")\n",
    "print(\"done generating\")"
   ]
  },
  {
   "cell_type": "code",
   "execution_count": 9,
   "id": "fecabdcd-bbfa-4ec0-978f-e85037846a46",
   "metadata": {},
   "outputs": [
    {
     "name": "stdout",
     "output_type": "stream",
     "text": [
      "done\n"
     ]
    }
   ],
   "source": [
    "\"\"\"import os\n",
    "save_path = '/pscratch/sd/k/kberard/SCGSR/Data/gen_dat'\n",
    "np.save(os.path.join(save_path, 'x_train_rgb_=3c.npy'), x_train_rgb)\n",
    "np.save(os.path.join(save_path, 'x_val_rgb_=3c.npy'), x_val_rgb)\n",
    "np.save(os.path.join(save_path, 'x_test_rgb_=3c.npy'), x_test_rgb)\n",
    "np.save(os.path.join(save_path, 'y_train_rgb_=3c.npy'), y_train_rgb)\n",
    "np.save(os.path.join(save_path, 'y_val_rgb_=3c.npy'), y_val_rgb)\n",
    "np.save(os.path.join(save_path, 'y_test_rgb_=3c.npy'), y_test_rgb)\n",
    "np.save(os.path.join(save_path, 'ref_d_rgb_=3c.npy'), ref_d_rgb)\n",
    "import numpy as np\"\"\"\n",
    "\n",
    "base_path = '/pscratch/sd/k/kberard/SCGSR/Data/gen_dat'\n",
    "\n",
    "x_train_rgb = np.load(f'{base_path}/x_train_rgb_=3c.npy')\n",
    "x_val_rgb   = np.load(f'{base_path}/x_val_rgb_=3c.npy')\n",
    "x_test_rgb  = np.load(f'{base_path}/x_test_rgb_=3c.npy')\n",
    "y_train_rgb = np.load(f'{base_path}/y_train_rgb_=3c.npy')\n",
    "y_val_rgb   = np.load(f'{base_path}/y_val_rgb_=3c.npy')\n",
    "y_test_rgb  = np.load(f'{base_path}/y_test_rgb_=3c.npy')\n",
    "ref_d_rgb   = np.load(f'{base_path}/ref_d_rgb_=3c.npy')\n",
    "print(\"done\")"
   ]
  },
  {
   "cell_type": "code",
   "execution_count": 10,
   "id": "63532194-96b4-46df-a963-bce1f1bfc05e",
   "metadata": {},
   "outputs": [
    {
     "name": "stdout",
     "output_type": "stream",
     "text": [
      "(64000, 64, 64, 3)\n"
     ]
    }
   ],
   "source": [
    "print(x_train_rgb.shape)"
   ]
  },
  {
   "cell_type": "code",
   "execution_count": 11,
   "id": "14e89326-b00e-4161-b044-3ad0dd812b16",
   "metadata": {},
   "outputs": [
    {
     "name": "stdout",
     "output_type": "stream",
     "text": [
      "(10000, 64, 64, 3)\n",
      "(100, 64, 64, 3)\n",
      "(1000, 64, 64, 3)\n",
      "(1000, 64, 64, 3)\n",
      "(10000, 64, 64, 3)\n",
      "(100, 64, 64, 3)\n"
     ]
    }
   ],
   "source": [
    "\n",
    "x_train_rgb = x_train_rgb[54000:] \n",
    "x_val_rgb   = x_val_rgb[5400:]\n",
    "x_test_rgb  = x_test_rgb[540:] \n",
    "y_train_rgb = y_train_rgb[54000:]\n",
    "y_val_rgb   = y_val_rgb[5400:]\n",
    "y_test_rgb = y_test_rgb[540:] \n",
    "print(x_train_rgb.shape)\n",
    "print(x_test_rgb.shape)\n",
    "print(x_val_rgb.shape)\n",
    "print(y_val_rgb.shape)\n",
    "print(y_train_rgb.shape)\n",
    "print(y_test_rgb.shape)"
   ]
  },
  {
   "cell_type": "code",
   "execution_count": 12,
   "id": "d2c414fa-e44a-4daa-9a4d-166707f5d4bc",
   "metadata": {},
   "outputs": [],
   "source": [
    "import sys\n",
    "module_dir = \"/global/u2/k/kberard/SCGSR/Research/Diamond/stock_models/SCUNet\" \n",
    "sys.path.insert(0, module_dir)\n",
    "from models.network_scunet import SCUNet as SCUNet\n",
    "import numpy as np\n",
    "\n",
    "from torch.utils.data import Dataset\n",
    "import torch\n",
    "import numpy as np\n",
    "\n",
    "class RGBDenoiseDataset(Dataset):\n",
    "    def __init__(self, x, y):\n",
    "        # Normalize to [0, 1] and permute axes to (N, C, H, W)\n",
    "        self.x = torch.tensor(np.transpose(x, (0, 3, 1, 2)), dtype=torch.float32) \n",
    "        self.y = torch.tensor(np.transpose(y, (0, 3, 1, 2)), dtype=torch.float32) \n",
    "\n",
    "    def __len__(self):\n",
    "        return len(self.x)\n",
    "\n",
    "    def __getitem__(self, idx):\n",
    "        return self.x[idx], self.y[idx]\n",
    "\n",
    "\n"
   ]
  },
  {
   "cell_type": "code",
   "execution_count": 13,
   "id": "99a578bc-7151-4e95-808d-7dd0c008175e",
   "metadata": {},
   "outputs": [
    {
     "name": "stdout",
     "output_type": "stream",
     "text": [
      "here\n"
     ]
    }
   ],
   "source": [
    "print(\"here\")"
   ]
  },
  {
   "cell_type": "code",
   "execution_count": 14,
   "id": "b3707ed7-38e1-4687-8228-6aeb83113904",
   "metadata": {},
   "outputs": [],
   "source": [
    "from torch.utils.data import DataLoader\n",
    "\n",
    "# Datasets\n",
    "train_dataset = RGBDenoiseDataset(x_train_rgb, y_train_rgb)\n",
    "val_dataset   = RGBDenoiseDataset(x_val_rgb, y_val_rgb)\n",
    "test_dataset  = RGBDenoiseDataset(x_test_rgb, y_test_rgb)\n",
    "\n",
    "# DataLoaders\n",
    "train_loader = DataLoader(train_dataset, batch_size=4, shuffle=True)\n",
    "val_loader   = DataLoader(val_dataset, batch_size=4)\n",
    "test_loader  = DataLoader(test_dataset, batch_size=1)\n"
   ]
  },
  {
   "cell_type": "code",
   "execution_count": 14,
   "id": "de1371e8-6b72-4a8f-8b15-7cfec2b4eaae",
   "metadata": {},
   "outputs": [
    {
     "name": "stdout",
     "output_type": "stream",
     "text": [
      "Block Initial Type: W, drop_path_rate:0.000000\n",
      "Block Initial Type: SW, drop_path_rate:0.000000\n",
      "Block Initial Type: W, drop_path_rate:0.000000\n",
      "Block Initial Type: SW, drop_path_rate:0.000000\n",
      "Block Initial Type: W, drop_path_rate:0.000000\n",
      "Block Initial Type: SW, drop_path_rate:0.000000\n",
      "Block Initial Type: W, drop_path_rate:0.000000\n",
      "Block Initial Type: W, drop_path_rate:0.000000\n",
      "Block Initial Type: W, drop_path_rate:0.000000\n",
      "Block Initial Type: SW, drop_path_rate:0.000000\n",
      "Block Initial Type: W, drop_path_rate:0.000000\n",
      "Block Initial Type: SW, drop_path_rate:0.000000\n",
      "Block Initial Type: W, drop_path_rate:0.000000\n",
      "Block Initial Type: SW, drop_path_rate:0.000000\n"
     ]
    },
    {
     "name": "stderr",
     "output_type": "stream",
     "text": [
      "\n",
      "KeyboardInterrupt\n",
      "\n",
      "Exception ignored in: <bound method IPythonKernel._clean_thread_parent_frames of <ipykernel.ipkernel.IPythonKernel object at 0x7f1c19f32060>>\n",
      "Traceback (most recent call last):\n",
      "  File \"/global/u2/k/kberard/environments/SCGSR/lib/python3.12/site-packages/ipykernel/ipkernel.py\", line 775, in _clean_thread_parent_frames\n",
      "    def _clean_thread_parent_frames(\n",
      "\n",
      "KeyboardInterrupt: \n",
      "Exception ignored in: <bound method IPythonKernel._clean_thread_parent_frames of <ipykernel.ipkernel.IPythonKernel object at 0x7f1c19f32060>>\n",
      "Traceback (most recent call last):\n",
      "  File \"/global/u2/k/kberard/environments/SCGSR/lib/python3.12/site-packages/ipykernel/ipkernel.py\", line 775, in _clean_thread_parent_frames\n",
      "    def _clean_thread_parent_frames(\n",
      "\n",
      "KeyboardInterrupt: \n",
      "Exception ignored in: <bound method IPythonKernel._clean_thread_parent_frames of <ipykernel.ipkernel.IPythonKernel object at 0x7f1c19f32060>>\n",
      "Traceback (most recent call last):\n",
      "  File \"/global/u2/k/kberard/environments/SCGSR/lib/python3.12/site-packages/ipykernel/ipkernel.py\", line 775, in _clean_thread_parent_frames\n",
      "    def _clean_thread_parent_frames(\n",
      "\n",
      "KeyboardInterrupt: \n"
     ]
    },
    {
     "ename": "KeyboardInterrupt",
     "evalue": "",
     "output_type": "error",
     "traceback": [
      "\u001b[31m---------------------------------------------------------------------------\u001b[39m",
      "\u001b[31mKeyboardInterrupt\u001b[39m                         Traceback (most recent call last)",
      "\u001b[36mFile \u001b[39m\u001b[32m/global/u2/k/kberard/environments/SCGSR/lib/python3.12/site-packages/IPython/core/async_helpers.py:128\u001b[39m, in \u001b[36m_pseudo_sync_runner\u001b[39m\u001b[34m(coro)\u001b[39m\n\u001b[32m    120\u001b[39m \u001b[38;5;250m\u001b[39m\u001b[33;03m\"\"\"\u001b[39;00m\n\u001b[32m    121\u001b[39m \u001b[33;03mA runner that does not really allow async execution, and just advance the coroutine.\u001b[39;00m\n\u001b[32m    122\u001b[39m \n\u001b[32m   (...)\u001b[39m\u001b[32m    125\u001b[39m \u001b[33;03mCredit to Nathaniel Smith\u001b[39;00m\n\u001b[32m    126\u001b[39m \u001b[33;03m\"\"\"\u001b[39;00m\n\u001b[32m    127\u001b[39m \u001b[38;5;28;01mtry\u001b[39;00m:\n\u001b[32m--> \u001b[39m\u001b[32m128\u001b[39m     \u001b[43mcoro\u001b[49m\u001b[43m.\u001b[49m\u001b[43msend\u001b[49m\u001b[43m(\u001b[49m\u001b[38;5;28;43;01mNone\u001b[39;49;00m\u001b[43m)\u001b[49m\n\u001b[32m    129\u001b[39m \u001b[38;5;28;01mexcept\u001b[39;00m \u001b[38;5;167;01mStopIteration\u001b[39;00m \u001b[38;5;28;01mas\u001b[39;00m exc:\n\u001b[32m    130\u001b[39m     \u001b[38;5;28;01mreturn\u001b[39;00m exc.value\n",
      "\u001b[36mFile \u001b[39m\u001b[32m/global/u2/k/kberard/environments/SCGSR/lib/python3.12/site-packages/IPython/core/interactiveshell.py:3386\u001b[39m, in \u001b[36mInteractiveShell.run_cell_async\u001b[39m\u001b[34m(self, raw_cell, store_history, silent, shell_futures, transformed_cell, preprocessing_exc_tuple, cell_id)\u001b[39m\n\u001b[32m   3382\u001b[39m exec_count = \u001b[38;5;28mself\u001b[39m.execution_count\n\u001b[32m   3383\u001b[39m \u001b[38;5;28;01mif\u001b[39;00m result.error_in_exec:\n\u001b[32m   3384\u001b[39m     \u001b[38;5;66;03m# Store formatted traceback and error details\u001b[39;00m\n\u001b[32m   3385\u001b[39m     \u001b[38;5;28mself\u001b[39m.history_manager.exceptions[exec_count] = (\n\u001b[32m-> \u001b[39m\u001b[32m3386\u001b[39m         \u001b[38;5;28;43mself\u001b[39;49m\u001b[43m.\u001b[49m\u001b[43m_format_exception_for_storage\u001b[49m\u001b[43m(\u001b[49m\u001b[43mresult\u001b[49m\u001b[43m.\u001b[49m\u001b[43merror_in_exec\u001b[49m\u001b[43m)\u001b[49m\n\u001b[32m   3387\u001b[39m     )\n\u001b[32m   3389\u001b[39m \u001b[38;5;66;03m# Each cell is a *single* input, regardless of how many lines it has\u001b[39;00m\n\u001b[32m   3390\u001b[39m \u001b[38;5;28mself\u001b[39m.execution_count += \u001b[32m1\u001b[39m\n",
      "\u001b[36mFile \u001b[39m\u001b[32m/global/u2/k/kberard/environments/SCGSR/lib/python3.12/site-packages/IPython/core/interactiveshell.py:3440\u001b[39m, in \u001b[36mInteractiveShell._format_exception_for_storage\u001b[39m\u001b[34m(self, exception, filename, running_compiled_code)\u001b[39m\n\u001b[32m   3437\u001b[39m         stb = evalue._render_traceback_()\n\u001b[32m   3438\u001b[39m     \u001b[38;5;28;01melse\u001b[39;00m:\n\u001b[32m   3439\u001b[39m         \u001b[38;5;66;03m# Otherwise, use InteractiveTB to format the traceback.\u001b[39;00m\n\u001b[32m-> \u001b[39m\u001b[32m3440\u001b[39m         stb = \u001b[38;5;28;43mself\u001b[39;49m\u001b[43m.\u001b[49m\u001b[43mInteractiveTB\u001b[49m\u001b[43m.\u001b[49m\u001b[43mstructured_traceback\u001b[49m\u001b[43m(\u001b[49m\n\u001b[32m   3441\u001b[39m \u001b[43m            \u001b[49m\u001b[43metype\u001b[49m\u001b[43m,\u001b[49m\u001b[43m \u001b[49m\u001b[43mevalue\u001b[49m\u001b[43m,\u001b[49m\u001b[43m \u001b[49m\u001b[43mtb\u001b[49m\u001b[43m,\u001b[49m\u001b[43m \u001b[49m\u001b[43mtb_offset\u001b[49m\u001b[43m=\u001b[49m\u001b[32;43m1\u001b[39;49m\n\u001b[32m   3442\u001b[39m \u001b[43m        \u001b[49m\u001b[43m)\u001b[49m\n\u001b[32m   3443\u001b[39m \u001b[38;5;28;01mexcept\u001b[39;00m \u001b[38;5;167;01mException\u001b[39;00m:\n\u001b[32m   3444\u001b[39m     \u001b[38;5;66;03m# In case formatting fails, fallback to Python's built-in formatting.\u001b[39;00m\n\u001b[32m   3445\u001b[39m     stb = traceback.format_exception(etype, evalue, tb)\n",
      "\u001b[36mFile \u001b[39m\u001b[32m/global/u2/k/kberard/environments/SCGSR/lib/python3.12/site-packages/IPython/core/ultratb.py:1182\u001b[39m, in \u001b[36mAutoFormattedTB.structured_traceback\u001b[39m\u001b[34m(self, etype, evalue, etb, tb_offset, context)\u001b[39m\n\u001b[32m   1180\u001b[39m \u001b[38;5;28;01melse\u001b[39;00m:\n\u001b[32m   1181\u001b[39m     \u001b[38;5;28mself\u001b[39m.tb = etb\n\u001b[32m-> \u001b[39m\u001b[32m1182\u001b[39m \u001b[38;5;28;01mreturn\u001b[39;00m \u001b[43mFormattedTB\u001b[49m\u001b[43m.\u001b[49m\u001b[43mstructured_traceback\u001b[49m\u001b[43m(\u001b[49m\n\u001b[32m   1183\u001b[39m \u001b[43m    \u001b[49m\u001b[38;5;28;43mself\u001b[39;49m\u001b[43m,\u001b[49m\u001b[43m \u001b[49m\u001b[43metype\u001b[49m\u001b[43m,\u001b[49m\u001b[43m \u001b[49m\u001b[43mevalue\u001b[49m\u001b[43m,\u001b[49m\u001b[43m \u001b[49m\u001b[43metb\u001b[49m\u001b[43m,\u001b[49m\u001b[43m \u001b[49m\u001b[43mtb_offset\u001b[49m\u001b[43m,\u001b[49m\u001b[43m \u001b[49m\u001b[43mcontext\u001b[49m\n\u001b[32m   1184\u001b[39m \u001b[43m\u001b[49m\u001b[43m)\u001b[49m\n",
      "\u001b[36mFile \u001b[39m\u001b[32m/global/u2/k/kberard/environments/SCGSR/lib/python3.12/site-packages/IPython/core/ultratb.py:1053\u001b[39m, in \u001b[36mFormattedTB.structured_traceback\u001b[39m\u001b[34m(self, etype, evalue, etb, tb_offset, context)\u001b[39m\n\u001b[32m   1050\u001b[39m mode = \u001b[38;5;28mself\u001b[39m.mode\n\u001b[32m   1051\u001b[39m \u001b[38;5;28;01mif\u001b[39;00m mode \u001b[38;5;129;01min\u001b[39;00m \u001b[38;5;28mself\u001b[39m.verbose_modes:\n\u001b[32m   1052\u001b[39m     \u001b[38;5;66;03m# Verbose modes need a full traceback\u001b[39;00m\n\u001b[32m-> \u001b[39m\u001b[32m1053\u001b[39m     \u001b[38;5;28;01mreturn\u001b[39;00m \u001b[43mVerboseTB\u001b[49m\u001b[43m.\u001b[49m\u001b[43mstructured_traceback\u001b[49m\u001b[43m(\u001b[49m\n\u001b[32m   1054\u001b[39m \u001b[43m        \u001b[49m\u001b[38;5;28;43mself\u001b[39;49m\u001b[43m,\u001b[49m\u001b[43m \u001b[49m\u001b[43metype\u001b[49m\u001b[43m,\u001b[49m\u001b[43m \u001b[49m\u001b[43mevalue\u001b[49m\u001b[43m,\u001b[49m\u001b[43m \u001b[49m\u001b[43metb\u001b[49m\u001b[43m,\u001b[49m\u001b[43m \u001b[49m\u001b[43mtb_offset\u001b[49m\u001b[43m,\u001b[49m\u001b[43m \u001b[49m\u001b[43mcontext\u001b[49m\n\u001b[32m   1055\u001b[39m \u001b[43m    \u001b[49m\u001b[43m)\u001b[49m\n\u001b[32m   1056\u001b[39m \u001b[38;5;28;01melif\u001b[39;00m mode == \u001b[33m\"\u001b[39m\u001b[33mDocs\u001b[39m\u001b[33m\"\u001b[39m:\n\u001b[32m   1057\u001b[39m     \u001b[38;5;66;03m# return DocTB\u001b[39;00m\n\u001b[32m   1058\u001b[39m     \u001b[38;5;28;01mreturn\u001b[39;00m DocTB(\n\u001b[32m   1059\u001b[39m         theme_name=\u001b[38;5;28mself\u001b[39m._theme_name,\n\u001b[32m   1060\u001b[39m         call_pdb=\u001b[38;5;28mself\u001b[39m.call_pdb,\n\u001b[32m   (...)\u001b[39m\u001b[32m   1068\u001b[39m         etype, evalue, etb, tb_offset, \u001b[32m1\u001b[39m\n\u001b[32m   1069\u001b[39m     )  \u001b[38;5;66;03m# type: ignore[arg-type]\u001b[39;00m\n",
      "\u001b[36mFile \u001b[39m\u001b[32m/global/u2/k/kberard/environments/SCGSR/lib/python3.12/site-packages/IPython/core/ultratb.py:861\u001b[39m, in \u001b[36mVerboseTB.structured_traceback\u001b[39m\u001b[34m(self, etype, evalue, etb, tb_offset, context)\u001b[39m\n\u001b[32m    852\u001b[39m \u001b[38;5;28;01mdef\u001b[39;00m\u001b[38;5;250m \u001b[39m\u001b[34mstructured_traceback\u001b[39m(\n\u001b[32m    853\u001b[39m     \u001b[38;5;28mself\u001b[39m,\n\u001b[32m    854\u001b[39m     etype: \u001b[38;5;28mtype\u001b[39m,\n\u001b[32m   (...)\u001b[39m\u001b[32m    858\u001b[39m     context: \u001b[38;5;28mint\u001b[39m = \u001b[32m5\u001b[39m,\n\u001b[32m    859\u001b[39m ) -> \u001b[38;5;28mlist\u001b[39m[\u001b[38;5;28mstr\u001b[39m]:\n\u001b[32m    860\u001b[39m \u001b[38;5;250m    \u001b[39m\u001b[33;03m\"\"\"Return a nice text document describing the traceback.\"\"\"\u001b[39;00m\n\u001b[32m--> \u001b[39m\u001b[32m861\u001b[39m     formatted_exceptions: \u001b[38;5;28mlist\u001b[39m[\u001b[38;5;28mlist\u001b[39m[\u001b[38;5;28mstr\u001b[39m]] = \u001b[38;5;28;43mself\u001b[39;49m\u001b[43m.\u001b[49m\u001b[43mformat_exception_as_a_whole\u001b[49m\u001b[43m(\u001b[49m\n\u001b[32m    862\u001b[39m \u001b[43m        \u001b[49m\u001b[43metype\u001b[49m\u001b[43m,\u001b[49m\u001b[43m \u001b[49m\u001b[43mevalue\u001b[49m\u001b[43m,\u001b[49m\u001b[43m \u001b[49m\u001b[43metb\u001b[49m\u001b[43m,\u001b[49m\u001b[43m \u001b[49m\u001b[43mcontext\u001b[49m\u001b[43m,\u001b[49m\u001b[43m \u001b[49m\u001b[43mtb_offset\u001b[49m\n\u001b[32m    863\u001b[39m \u001b[43m    \u001b[49m\u001b[43m)\u001b[49m\n\u001b[32m    865\u001b[39m     termsize = \u001b[38;5;28mmin\u001b[39m(\u001b[32m75\u001b[39m, get_terminal_size()[\u001b[32m0\u001b[39m])\n\u001b[32m    866\u001b[39m     theme = theme_table[\u001b[38;5;28mself\u001b[39m._theme_name]\n",
      "\u001b[36mFile \u001b[39m\u001b[32m/global/u2/k/kberard/environments/SCGSR/lib/python3.12/site-packages/IPython/core/ultratb.py:746\u001b[39m, in \u001b[36mVerboseTB.format_exception_as_a_whole\u001b[39m\u001b[34m(self, etype, evalue, etb, context, tb_offset)\u001b[39m\n\u001b[32m    744\u001b[39m \u001b[38;5;28;01massert\u001b[39;00m \u001b[38;5;28misinstance\u001b[39m(tb_offset, \u001b[38;5;28mint\u001b[39m)\n\u001b[32m    745\u001b[39m head = \u001b[38;5;28mself\u001b[39m.prepare_header(\u001b[38;5;28mstr\u001b[39m(etype), \u001b[38;5;28mself\u001b[39m.long_header)\n\u001b[32m--> \u001b[39m\u001b[32m746\u001b[39m records = \u001b[38;5;28;43mself\u001b[39;49m\u001b[43m.\u001b[49m\u001b[43mget_records\u001b[49m\u001b[43m(\u001b[49m\u001b[43metb\u001b[49m\u001b[43m,\u001b[49m\u001b[43m \u001b[49m\u001b[43mcontext\u001b[49m\u001b[43m,\u001b[49m\u001b[43m \u001b[49m\u001b[43mtb_offset\u001b[49m\u001b[43m)\u001b[49m \u001b[38;5;28;01mif\u001b[39;00m etb \u001b[38;5;28;01melse\u001b[39;00m []\n\u001b[32m    748\u001b[39m frames = []\n\u001b[32m    749\u001b[39m skipped = \u001b[32m0\u001b[39m\n",
      "\u001b[36mFile \u001b[39m\u001b[32m/global/u2/k/kberard/environments/SCGSR/lib/python3.12/site-packages/IPython/core/ultratb.py:819\u001b[39m, in \u001b[36mVerboseTB.get_records\u001b[39m\u001b[34m(self, etb, context, tb_offset)\u001b[39m\n\u001b[32m    817\u001b[39m \u001b[38;5;28;01mwhile\u001b[39;00m cf \u001b[38;5;129;01mis\u001b[39;00m \u001b[38;5;129;01mnot\u001b[39;00m \u001b[38;5;28;01mNone\u001b[39;00m:\n\u001b[32m    818\u001b[39m     \u001b[38;5;28;01mtry\u001b[39;00m:\n\u001b[32m--> \u001b[39m\u001b[32m819\u001b[39m         mod = \u001b[43minspect\u001b[49m\u001b[43m.\u001b[49m\u001b[43mgetmodule\u001b[49m\u001b[43m(\u001b[49m\u001b[43mcf\u001b[49m\u001b[43m.\u001b[49m\u001b[43mtb_frame\u001b[49m\u001b[43m)\u001b[49m\n\u001b[32m    820\u001b[39m         \u001b[38;5;28;01mif\u001b[39;00m mod \u001b[38;5;129;01mis\u001b[39;00m \u001b[38;5;129;01mnot\u001b[39;00m \u001b[38;5;28;01mNone\u001b[39;00m:\n\u001b[32m    821\u001b[39m             mod_name = mod.\u001b[34m__name__\u001b[39m\n",
      "\u001b[36mFile \u001b[39m\u001b[32m/global/common/software/nersc/pe/conda-envs/25.3.0/python-3.12/nersc-python/lib/python3.12/inspect.py:1016\u001b[39m, in \u001b[36mgetmodule\u001b[39m\u001b[34m(object, _filename)\u001b[39m\n\u001b[32m   1013\u001b[39m         f = getabsfile(module)\n\u001b[32m   1014\u001b[39m         \u001b[38;5;66;03m# Always map to the name the module knows itself by\u001b[39;00m\n\u001b[32m   1015\u001b[39m         modulesbyfile[f] = modulesbyfile[\n\u001b[32m-> \u001b[39m\u001b[32m1016\u001b[39m             \u001b[43mos\u001b[49m\u001b[43m.\u001b[49m\u001b[43mpath\u001b[49m\u001b[43m.\u001b[49m\u001b[43mrealpath\u001b[49m\u001b[43m(\u001b[49m\u001b[43mf\u001b[49m\u001b[43m)\u001b[49m] = module.\u001b[34m__name__\u001b[39m\n\u001b[32m   1017\u001b[39m \u001b[38;5;28;01mif\u001b[39;00m file \u001b[38;5;129;01min\u001b[39;00m modulesbyfile:\n\u001b[32m   1018\u001b[39m     \u001b[38;5;28;01mreturn\u001b[39;00m sys.modules.get(modulesbyfile[file])\n",
      "\u001b[36mFile \u001b[39m\u001b[32m/global/common/software/nersc/pe/conda-envs/25.3.0/python-3.12/nersc-python/lib/python3.12/posixpath.py:427\u001b[39m, in \u001b[36mrealpath\u001b[39m\u001b[34m(filename, strict)\u001b[39m\n\u001b[32m    424\u001b[39m \u001b[38;5;250m    \u001b[39m\u001b[33;03m\"\"\"Return the canonical path of the specified filename, eliminating any\u001b[39;00m\n\u001b[32m    425\u001b[39m \u001b[33;03msymbolic links encountered in the path.\"\"\"\u001b[39;00m\n\u001b[32m    426\u001b[39m     filename = os.fspath(filename)\n\u001b[32m--> \u001b[39m\u001b[32m427\u001b[39m     path, ok = \u001b[43m_joinrealpath\u001b[49m\u001b[43m(\u001b[49m\u001b[43mfilename\u001b[49m\u001b[43m[\u001b[49m\u001b[43m:\u001b[49m\u001b[32;43m0\u001b[39;49m\u001b[43m]\u001b[49m\u001b[43m,\u001b[49m\u001b[43m \u001b[49m\u001b[43mfilename\u001b[49m\u001b[43m,\u001b[49m\u001b[43m \u001b[49m\u001b[43mstrict\u001b[49m\u001b[43m,\u001b[49m\u001b[43m \u001b[49m\u001b[43m{\u001b[49m\u001b[43m}\u001b[49m\u001b[43m)\u001b[49m\n\u001b[32m    428\u001b[39m     \u001b[38;5;28;01mreturn\u001b[39;00m abspath(path)\n",
      "\u001b[36mFile \u001b[39m\u001b[32m/global/common/software/nersc/pe/conda-envs/25.3.0/python-3.12/nersc-python/lib/python3.12/posixpath.py:462\u001b[39m, in \u001b[36m_joinrealpath\u001b[39m\u001b[34m(path, rest, strict, seen)\u001b[39m\n\u001b[32m    460\u001b[39m newpath = join(path, name)\n\u001b[32m    461\u001b[39m \u001b[38;5;28;01mtry\u001b[39;00m:\n\u001b[32m--> \u001b[39m\u001b[32m462\u001b[39m     st = \u001b[43mos\u001b[49m\u001b[43m.\u001b[49m\u001b[43mlstat\u001b[49m\u001b[43m(\u001b[49m\u001b[43mnewpath\u001b[49m\u001b[43m)\u001b[49m\n\u001b[32m    463\u001b[39m \u001b[38;5;28;01mexcept\u001b[39;00m \u001b[38;5;167;01mOSError\u001b[39;00m:\n\u001b[32m    464\u001b[39m     \u001b[38;5;28;01mif\u001b[39;00m strict:\n",
      "\u001b[31mKeyboardInterrupt\u001b[39m: "
     ]
    }
   ],
   "source": [
    "device = torch.device(\"cuda\" if torch.cuda.is_available() else \"cpu\")\n",
    "\n",
    "model = SCUNet(in_nc=3, input_resolution=64).to(device)\n",
    "optimizer = torch.optim.Adam(model.parameters(), lr=1e-4)\n",
    "loss_fn = torch.nn.MSELoss()\n",
    "\n",
    "\n",
    "\n",
    "# Training example\n",
    "for noisy, clean in train_loader:\n",
    "    noisy, clean = noisy.to(device), clean.to(device)\n",
    "    optimizer.zero_grad()\n",
    "    output = model(noisy)\n",
    "    loss = loss_fn(output, clean)\n",
    "    loss.backward()\n",
    "    optimizer.step()\n",
    "model.eval()\n",
    "\n",
    "\n"
   ]
  },
  {
   "cell_type": "code",
   "execution_count": null,
   "id": "319eba7c-2f1c-4786-b088-cfe4bb9c40da",
   "metadata": {},
   "outputs": [],
   "source": [
    "torch.save(model, 'scunet_trained')\n",
    "\"\"\"import torch\n",
    "from models.network_scunet import SCUNet  # wherever your SCUNet is defined\n",
    "torch.serialization.add_safe_globals([SCUNet])\n",
    "\n",
    "model = torch.load('scunet_trained', weights_only=False)\n",
    "model.eval()\"\"\"\n"
   ]
  },
  {
   "cell_type": "code",
   "execution_count": 15,
   "id": "7304bee9-9031-47ea-983c-983c42b1f1df",
   "metadata": {},
   "outputs": [],
   "source": [
    "from utils import utils_image as util\n",
    "\n",
    "def denoise_with_scunet(rgb_image_np, model, device='cuda'):\n",
    "    \"\"\"\n",
    "    Args:\n",
    "        rgb_image_np: (H, W, 3), float32 or float64, values in [0,1]\n",
    "        model: SCUNet model\n",
    "        device: 'cuda' or 'cpu'\n",
    "    \n",
    "    Returns:\n",
    "        Denoised image (H, W, 3), uint8\n",
    "    \"\"\"\n",
    "    # Make sure image is float32 in [0,1]\n",
    "    img = rgb_image_np.astype(np.float32)\n",
    "    img_tensor = util.single2tensor4(img).to(device)\n",
    "    with torch.no_grad():\n",
    "        output_tensor = model(img_tensor)\n",
    "    output_np = util.tensor2single(output_tensor)\n",
    "    return np.clip(output_np.transpose(1, 2, 0), 0, 1)\n",
    "device = 'cuda' if torch.cuda.is_available() else 'cpu'\n",
    "scunet_denoised = denoise_with_scunet(x_test_rgb[0], model, device=device)\n"
   ]
  },
  {
   "cell_type": "code",
   "execution_count": 16,
   "id": "e20b7889-8da4-4ade-8afe-06adfd62b27a",
   "metadata": {},
   "outputs": [
    {
     "name": "stdout",
     "output_type": "stream",
     "text": [
      "(64, 64, 3)\n"
     ]
    },
    {
     "ename": "TypeError",
     "evalue": "Invalid shape (64, 64, 64, 3) for image data",
     "output_type": "error",
     "traceback": [
      "\u001b[31m---------------------------------------------------------------------------\u001b[39m",
      "\u001b[31mTypeError\u001b[39m                                 Traceback (most recent call last)",
      "\u001b[36mCell\u001b[39m\u001b[36m \u001b[39m\u001b[32mIn[16]\u001b[39m\u001b[32m, line 10\u001b[39m\n\u001b[32m      8\u001b[39m \u001b[38;5;66;03m# --- Plot ---\u001b[39;00m\n\u001b[32m      9\u001b[39m fig, axs = plt.subplots(\u001b[32m1\u001b[39m, \u001b[32m4\u001b[39m, figsize=(\u001b[32m12\u001b[39m, \u001b[32m4\u001b[39m))\n\u001b[32m---> \u001b[39m\u001b[32m10\u001b[39m \u001b[43maxs\u001b[49m\u001b[43m[\u001b[49m\u001b[32;43m0\u001b[39;49m\u001b[43m]\u001b[49m\u001b[43m.\u001b[49m\u001b[43mimshow\u001b[49m\u001b[43m(\u001b[49m\u001b[43mref_d_rgb\u001b[49m\u001b[43m)\u001b[49m\n\u001b[32m     11\u001b[39m axs[\u001b[32m0\u001b[39m].set_title(\u001b[33m\"\u001b[39m\u001b[33mClean\u001b[39m\u001b[33m\"\u001b[39m)\n\u001b[32m     12\u001b[39m axs[\u001b[32m0\u001b[39m].axis(\u001b[33m\"\u001b[39m\u001b[33moff\u001b[39m\u001b[33m\"\u001b[39m)\n",
      "\u001b[36mFile \u001b[39m\u001b[32m/global/u2/k/kberard/environments/SCGSR/lib/python3.12/site-packages/matplotlib/__init__.py:1521\u001b[39m, in \u001b[36m_preprocess_data.<locals>.inner\u001b[39m\u001b[34m(ax, data, *args, **kwargs)\u001b[39m\n\u001b[32m   1518\u001b[39m \u001b[38;5;129m@functools\u001b[39m.wraps(func)\n\u001b[32m   1519\u001b[39m \u001b[38;5;28;01mdef\u001b[39;00m\u001b[38;5;250m \u001b[39m\u001b[34minner\u001b[39m(ax, *args, data=\u001b[38;5;28;01mNone\u001b[39;00m, **kwargs):\n\u001b[32m   1520\u001b[39m     \u001b[38;5;28;01mif\u001b[39;00m data \u001b[38;5;129;01mis\u001b[39;00m \u001b[38;5;28;01mNone\u001b[39;00m:\n\u001b[32m-> \u001b[39m\u001b[32m1521\u001b[39m         \u001b[38;5;28;01mreturn\u001b[39;00m \u001b[43mfunc\u001b[49m\u001b[43m(\u001b[49m\n\u001b[32m   1522\u001b[39m \u001b[43m            \u001b[49m\u001b[43max\u001b[49m\u001b[43m,\u001b[49m\n\u001b[32m   1523\u001b[39m \u001b[43m            \u001b[49m\u001b[43m*\u001b[49m\u001b[38;5;28;43mmap\u001b[39;49m\u001b[43m(\u001b[49m\u001b[43mcbook\u001b[49m\u001b[43m.\u001b[49m\u001b[43msanitize_sequence\u001b[49m\u001b[43m,\u001b[49m\u001b[43m \u001b[49m\u001b[43margs\u001b[49m\u001b[43m)\u001b[49m\u001b[43m,\u001b[49m\n\u001b[32m   1524\u001b[39m \u001b[43m            \u001b[49m\u001b[43m*\u001b[49m\u001b[43m*\u001b[49m\u001b[43m{\u001b[49m\u001b[43mk\u001b[49m\u001b[43m:\u001b[49m\u001b[43m \u001b[49m\u001b[43mcbook\u001b[49m\u001b[43m.\u001b[49m\u001b[43msanitize_sequence\u001b[49m\u001b[43m(\u001b[49m\u001b[43mv\u001b[49m\u001b[43m)\u001b[49m\u001b[43m \u001b[49m\u001b[38;5;28;43;01mfor\u001b[39;49;00m\u001b[43m \u001b[49m\u001b[43mk\u001b[49m\u001b[43m,\u001b[49m\u001b[43m \u001b[49m\u001b[43mv\u001b[49m\u001b[43m \u001b[49m\u001b[38;5;129;43;01min\u001b[39;49;00m\u001b[43m \u001b[49m\u001b[43mkwargs\u001b[49m\u001b[43m.\u001b[49m\u001b[43mitems\u001b[49m\u001b[43m(\u001b[49m\u001b[43m)\u001b[49m\u001b[43m}\u001b[49m\u001b[43m)\u001b[49m\n\u001b[32m   1526\u001b[39m     bound = new_sig.bind(ax, *args, **kwargs)\n\u001b[32m   1527\u001b[39m     auto_label = (bound.arguments.get(label_namer)\n\u001b[32m   1528\u001b[39m                   \u001b[38;5;129;01mor\u001b[39;00m bound.kwargs.get(label_namer))\n",
      "\u001b[36mFile \u001b[39m\u001b[32m/global/u2/k/kberard/environments/SCGSR/lib/python3.12/site-packages/matplotlib/axes/_axes.py:5979\u001b[39m, in \u001b[36mAxes.imshow\u001b[39m\u001b[34m(self, X, cmap, norm, aspect, interpolation, alpha, vmin, vmax, colorizer, origin, extent, interpolation_stage, filternorm, filterrad, resample, url, **kwargs)\u001b[39m\n\u001b[32m   5976\u001b[39m \u001b[38;5;28;01mif\u001b[39;00m aspect \u001b[38;5;129;01mis\u001b[39;00m \u001b[38;5;129;01mnot\u001b[39;00m \u001b[38;5;28;01mNone\u001b[39;00m:\n\u001b[32m   5977\u001b[39m     \u001b[38;5;28mself\u001b[39m.set_aspect(aspect)\n\u001b[32m-> \u001b[39m\u001b[32m5979\u001b[39m \u001b[43mim\u001b[49m\u001b[43m.\u001b[49m\u001b[43mset_data\u001b[49m\u001b[43m(\u001b[49m\u001b[43mX\u001b[49m\u001b[43m)\u001b[49m\n\u001b[32m   5980\u001b[39m im.set_alpha(alpha)\n\u001b[32m   5981\u001b[39m \u001b[38;5;28;01mif\u001b[39;00m im.get_clip_path() \u001b[38;5;129;01mis\u001b[39;00m \u001b[38;5;28;01mNone\u001b[39;00m:\n\u001b[32m   5982\u001b[39m     \u001b[38;5;66;03m# image does not already have clipping set, clip to Axes patch\u001b[39;00m\n",
      "\u001b[36mFile \u001b[39m\u001b[32m/global/u2/k/kberard/environments/SCGSR/lib/python3.12/site-packages/matplotlib/image.py:685\u001b[39m, in \u001b[36m_ImageBase.set_data\u001b[39m\u001b[34m(self, A)\u001b[39m\n\u001b[32m    683\u001b[39m \u001b[38;5;28;01mif\u001b[39;00m \u001b[38;5;28misinstance\u001b[39m(A, PIL.Image.Image):\n\u001b[32m    684\u001b[39m     A = pil_to_array(A)  \u001b[38;5;66;03m# Needed e.g. to apply png palette.\u001b[39;00m\n\u001b[32m--> \u001b[39m\u001b[32m685\u001b[39m \u001b[38;5;28mself\u001b[39m._A = \u001b[38;5;28;43mself\u001b[39;49m\u001b[43m.\u001b[49m\u001b[43m_normalize_image_array\u001b[49m\u001b[43m(\u001b[49m\u001b[43mA\u001b[49m\u001b[43m)\u001b[49m\n\u001b[32m    686\u001b[39m \u001b[38;5;28mself\u001b[39m._imcache = \u001b[38;5;28;01mNone\u001b[39;00m\n\u001b[32m    687\u001b[39m \u001b[38;5;28mself\u001b[39m.stale = \u001b[38;5;28;01mTrue\u001b[39;00m\n",
      "\u001b[36mFile \u001b[39m\u001b[32m/global/u2/k/kberard/environments/SCGSR/lib/python3.12/site-packages/matplotlib/image.py:653\u001b[39m, in \u001b[36m_ImageBase._normalize_image_array\u001b[39m\u001b[34m(A)\u001b[39m\n\u001b[32m    651\u001b[39m     A = A.squeeze(-\u001b[32m1\u001b[39m)  \u001b[38;5;66;03m# If just (M, N, 1), assume scalar and apply colormap.\u001b[39;00m\n\u001b[32m    652\u001b[39m \u001b[38;5;28;01mif\u001b[39;00m \u001b[38;5;129;01mnot\u001b[39;00m (A.ndim == \u001b[32m2\u001b[39m \u001b[38;5;129;01mor\u001b[39;00m A.ndim == \u001b[32m3\u001b[39m \u001b[38;5;129;01mand\u001b[39;00m A.shape[-\u001b[32m1\u001b[39m] \u001b[38;5;129;01min\u001b[39;00m [\u001b[32m3\u001b[39m, \u001b[32m4\u001b[39m]):\n\u001b[32m--> \u001b[39m\u001b[32m653\u001b[39m     \u001b[38;5;28;01mraise\u001b[39;00m \u001b[38;5;167;01mTypeError\u001b[39;00m(\u001b[33mf\u001b[39m\u001b[33m\"\u001b[39m\u001b[33mInvalid shape \u001b[39m\u001b[38;5;132;01m{\u001b[39;00mA.shape\u001b[38;5;132;01m}\u001b[39;00m\u001b[33m for image data\u001b[39m\u001b[33m\"\u001b[39m)\n\u001b[32m    654\u001b[39m \u001b[38;5;28;01mif\u001b[39;00m A.ndim == \u001b[32m3\u001b[39m:\n\u001b[32m    655\u001b[39m     \u001b[38;5;66;03m# If the input data has values outside the valid range (after\u001b[39;00m\n\u001b[32m    656\u001b[39m     \u001b[38;5;66;03m# normalisation), we issue a warning and then clip X to the bounds\u001b[39;00m\n\u001b[32m    657\u001b[39m     \u001b[38;5;66;03m# - otherwise casting wraps extreme values, hiding outliers and\u001b[39;00m\n\u001b[32m    658\u001b[39m     \u001b[38;5;66;03m# making reliable interpretation impossible.\u001b[39;00m\n\u001b[32m    659\u001b[39m     high = \u001b[32m255\u001b[39m \u001b[38;5;28;01mif\u001b[39;00m np.issubdtype(A.dtype, np.integer) \u001b[38;5;28;01melse\u001b[39;00m \u001b[32m1\u001b[39m\n",
      "\u001b[31mTypeError\u001b[39m: Invalid shape (64, 64, 64, 3) for image data"
     ]
    },
    {
     "data": {
      "image/png": "[encoded data removed]",
      "text/plain": [
       "<Figure size 1200x400 with 4 Axes>"
      ]
     },
     "metadata": {},
     "output_type": "display_data"
    }
   ],
   "source": [
    "import matplotlib.pyplot as plt\n",
    "x_clean = ref_d_rgb            # shape: (64, 64, 3), dtype: float32\n",
    "                              # or whatever sampling parameter you want\n",
    "x_noisy = x_train_rgb[0] \n",
    "x_denoised = np.transpose(scunet_denoised, (0,2,1))\n",
    "print(x_denoised.shape)\n",
    "\n",
    "# --- Plot ---\n",
    "fig, axs = plt.subplots(1, 4, figsize=(12, 4))\n",
    "axs[0].imshow(ref_d_rgb)\n",
    "axs[0].set_title(\"Clean\")\n",
    "axs[0].axis(\"off\")\n",
    "\n",
    "axs[1].imshow(x_noisy)\n",
    "axs[1].set_title(\"Noisy (Poisson)\")\n",
    "axs[1].axis(\"off\")\n",
    "\n",
    "\n",
    "axs[2].imshow(x_denoised)\n",
    "axs[2].set_title(\"Scu_Base Denoised Renorm\")\n",
    "axs[2].axis(\"off\")\n",
    "\n",
    "def normalize_per_sample(x_rgb):\n",
    "        max_vals = np.max(x_rgb, axis=(1, 2), keepdims=True)\n",
    "        max_vals = np.where(max_vals == 0, 1.0, max_vals)  # Prevent div by zero\n",
    "        return np.clip(x_rgb / (max_vals * 1), 0, 1)\n",
    "\n",
    "#might need to be renormalized because max is no longer 1\n",
    "renorm_den = normalize_per_sample(x_denoised)\n",
    "axs[3].imshow(renorm_den)\n",
    "axs[3].set_title(\"Scu_base Denoised Renorm\")\n",
    "axs[3].axis(\"off\")\n",
    "\n",
    "plt.tight_layout()\n",
    "plt.show()\n"
   ]
  },
  {
   "cell_type": "code",
   "execution_count": null,
   "id": "b7c6cbee-e39d-4771-88f0-d295040f6d5f",
   "metadata": {},
   "outputs": [],
   "source": [
    "print(\"here\")"
   ]
  },
  {
   "cell_type": "code",
   "execution_count": 14,
   "id": "72761f03-46e9-458c-b26c-4fb7376c3455",
   "metadata": {},
   "outputs": [
    {
     "name": "stdout",
     "output_type": "stream",
     "text": [
      "1.0\n",
      "3822.646322693739\n",
      "\n",
      "1.0\n",
      "2586.8709677419342\n",
      "\n",
      "0.97849387\n",
      "3641.4072\n",
      "\n",
      "1.0\n",
      "4315.4463\n"
     ]
    }
   ],
   "source": [
    "print(np.max(x_clean))\n",
    "print(np.sum(x_clean,axis=(0,1,2)))\n",
    "print()\n",
    "print(np.max(x_noisy))\n",
    "print(np.sum(x_noisy,axis=(0,1,2)))\n",
    "print()\n",
    "print(np.max(np.clip(x_denoised, 0, 1)))\n",
    "print(np.sum(np.clip(x_denoised, 0, 1),axis=(0,1,2)))\n",
    "print()\n",
    "print(np.max(np.clip(renorm_den, 0, 1)))\n",
    "print(np.sum(np.clip(renorm_den, 0, 1),axis=(0,1,2)))\n",
    "\n"
   ]
  },
  {
   "cell_type": "code",
   "execution_count": 15,
   "id": "4fbb6282-821d-4757-9c84-2b14448a3097",
   "metadata": {},
   "outputs": [],
   "source": [
    "def jensen_shannon_divergence_loss(y_true, y_pred):\n",
    "    y_t = tf.cast(y_true, tf.float32)\n",
    "    y_p = tf.cast(y_pred, tf.float32)\n",
    "\n",
    "    y_t = tf.reshape(y_t, [tf.shape(y_t)[0], -1])\n",
    "    y_p = tf.reshape(y_p, [tf.shape(y_p)[0], -1])\n",
    "\n",
    "    y_t /= tf.reduce_sum(y_t, axis=1, keepdims=True) + 1e-8\n",
    "    y_p /= tf.reduce_sum(y_p, axis=1, keepdims=True) + 1e-8\n",
    "\n",
    "    m = 0.5 * (y_t + y_p)\n",
    "\n",
    "    kl_true = tf.reduce_sum(y_t * tf.math.log((y_t + 1e-8) / (m + 1e-8)), axis=1)\n",
    "    kl_pred = tf.reduce_sum(y_p * tf.math.log((y_p + 1e-8) / (m + 1e-8)), axis=1)\n",
    "\n",
    "    jsd = 0.5 * (kl_true + kl_pred)\n",
    "\n",
    "    return tf.reduce_mean(jsd)"
   ]
  },
  {
   "cell_type": "code",
   "execution_count": 16,
   "id": "40483d90-776a-46fd-b9b5-9247bde2cc10",
   "metadata": {},
   "outputs": [
    {
     "name": "stdout",
     "output_type": "stream",
     "text": [
      "\n",
      ">>> Evaluation Metrics on BM3D Denoised Image\n",
      "2-norm (x_denoised vs ref_d_rgb): 2.0683\n",
      "2-norm (renormalized vs ref_d_rgb): 7.4685\n"
     ]
    },
    {
     "name": "stderr",
     "output_type": "stream",
     "text": [
      "2025-07-29 10:18:25.136713: E external/local_xla/xla/stream_executor/cuda/cuda_fft.cc:467] Unable to register cuFFT factory: Attempting to register factory for plugin cuFFT when one has already been registered\n",
      "WARNING: All log messages before absl::InitializeLog() is called are written to STDERR\n",
      "E0000 00:00:1753809505.148979 1923608 cuda_dnn.cc:8579] Unable to register cuDNN factory: Attempting to register factory for plugin cuDNN when one has already been registered\n",
      "E0000 00:00:1753809505.152321 1923608 cuda_blas.cc:1407] Unable to register cuBLAS factory: Attempting to register factory for plugin cuBLAS when one has already been registered\n",
      "W0000 00:00:1753809505.162470 1923608 computation_placer.cc:177] computation placer already registered. Please check linkage and avoid linking the same target more than once.\n",
      "W0000 00:00:1753809505.162485 1923608 computation_placer.cc:177] computation placer already registered. Please check linkage and avoid linking the same target more than once.\n",
      "W0000 00:00:1753809505.162487 1923608 computation_placer.cc:177] computation placer already registered. Please check linkage and avoid linking the same target more than once.\n",
      "W0000 00:00:1753809505.162488 1923608 computation_placer.cc:177] computation placer already registered. Please check linkage and avoid linking the same target more than once.\n",
      "2025-07-29 10:18:25.166624: I tensorflow/core/platform/cpu_feature_guard.cc:210] This TensorFlow binary is optimized to use available CPU instructions in performance-critical operations.\n",
      "To enable the following instructions: AVX2 FMA, in other operations, rebuild TensorFlow with the appropriate compiler flags.\n",
      "I0000 00:00:1753809522.771033 1923608 gpu_device.cc:2019] Created device /job:localhost/replica:0/task:0/device:GPU:0 with 38366 MB memory:  -> device: 0, name: NVIDIA A100-SXM4-40GB, pci bus id: 0000:03:00.0, compute capability: 8.0\n",
      "I0000 00:00:1753809522.775119 1923608 gpu_device.cc:2019] Created device /job:localhost/replica:0/task:0/device:GPU:1 with 38366 MB memory:  -> device: 1, name: NVIDIA A100-SXM4-40GB, pci bus id: 0000:41:00.0, compute capability: 8.0\n",
      "I0000 00:00:1753809522.777772 1923608 gpu_device.cc:2019] Created device /job:localhost/replica:0/task:0/device:GPU:2 with 38366 MB memory:  -> device: 2, name: NVIDIA A100-SXM4-40GB, pci bus id: 0000:82:00.0, compute capability: 8.0\n",
      "I0000 00:00:1753809522.779783 1923608 gpu_device.cc:2019] Created device /job:localhost/replica:0/task:0/device:GPU:3 with 38366 MB memory:  -> device: 3, name: NVIDIA A100-SXM4-40GB, pci bus id: 0000:c1:00.0, compute capability: 8.0\n"
     ]
    },
    {
     "name": "stdout",
     "output_type": "stream",
     "text": [
      "JSD (x_noisy vs ref_d_rgb): 0.012791\n",
      "JSD (x_denoised vs ref_d_rgb): 0.000297\n",
      "JSD (renormalized vs ref_d_rgb): 0.000297\n"
     ]
    }
   ],
   "source": [
    "# --- Evaluation ---\n",
    "print(\"\\n>>> Evaluation Metrics on BM3D Denoised Image\")\n",
    "\n",
    "# 2-norm difference (before/after renorm)\n",
    "norm_original = np.linalg.norm(x_denoised - x_clean)\n",
    "norm_renormed = np.linalg.norm(renorm_den - x_clean)\n",
    "\n",
    "print(f\"2-norm (x_denoised vs ref_d_rgb): {norm_original:.4f}\")\n",
    "print(f\"2-norm (renormalized vs ref_d_rgb): {norm_renormed:.4f}\")\n",
    "\n",
    "# Jensen-Shannon divergence setup\n",
    "import tensorflow as tf\n",
    "from tensorflow.keras.losses import KLDivergence\n",
    "\n",
    "jsd_noisy = jensen_shannon_divergence_loss(tf.convert_to_tensor(x_noisy, dtype=tf.float32),\n",
    "                                               tf.convert_to_tensor(x_clean, dtype=tf.float32))\n",
    "jsd_original = jensen_shannon_divergence_loss(tf.convert_to_tensor(x_denoised, dtype=tf.float32),\n",
    "                                               tf.convert_to_tensor(x_clean, dtype=tf.float32))\n",
    "jsd_renormed = jensen_shannon_divergence_loss(tf.convert_to_tensor(renorm_den, dtype=tf.float32),\n",
    "                                               tf.convert_to_tensor(x_clean, dtype=tf.float32))\n",
    "print(f\"JSD (x_noisy vs ref_d_rgb): {jsd_noisy.numpy():.6f}\")\n",
    "print(f\"JSD (x_denoised vs ref_d_rgb): {jsd_original.numpy():.6f}\")\n",
    "print(f\"JSD (renormalized vs ref_d_rgb): {jsd_renormed.numpy():.6f}\")"
   ]
  },
  {
   "cell_type": "code",
   "execution_count": null,
   "id": "78ee2c6b-f520-4922-a27f-5a3311e51cd3",
   "metadata": {},
   "outputs": [],
   "source": []
  }
 ],
 "metadata": {
  "kernelspec": {
   "display_name": "SCGSR",
   "language": "python",
   "name": "scgsr"
  },
  "language_info": {
   "codemirror_mode": {
    "name": "ipython",
    "version": 3
   },
   "file_extension": ".py",
   "mimetype": "text/x-python",
   "name": "python",
   "nbconvert_exporter": "python",
   "pygments_lexer": "ipython3",
   "version": "3.12.9"
  }
 },
 "nbformat": 4,
 "nbformat_minor": 5
}
