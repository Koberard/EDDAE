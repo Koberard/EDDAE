{
 "cells": [
  {
   "cell_type": "code",
   "execution_count": 1,
   "id": "d569c77d-d2dc-4191-8f62-a2f05855b9c1",
   "metadata": {},
   "outputs": [
    {
     "name": "stderr",
     "output_type": "stream",
     "text": [
      "2025-08-05 16:09:01.966332: E external/local_xla/xla/stream_executor/cuda/cuda_fft.cc:467] Unable to register cuFFT factory: Attempting to register factory for plugin cuFFT when one has already been registered\n",
      "WARNING: All log messages before absl::InitializeLog() is called are written to STDERR\n",
      "E0000 00:00:1754435341.980044 1644696 cuda_dnn.cc:8579] Unable to register cuDNN factory: Attempting to register factory for plugin cuDNN when one has already been registered\n",
      "E0000 00:00:1754435341.984269 1644696 cuda_blas.cc:1407] Unable to register cuBLAS factory: Attempting to register factory for plugin cuBLAS when one has already been registered\n",
      "W0000 00:00:1754435341.996258 1644696 computation_placer.cc:177] computation placer already registered. Please check linkage and avoid linking the same target more than once.\n",
      "W0000 00:00:1754435341.996270 1644696 computation_placer.cc:177] computation placer already registered. Please check linkage and avoid linking the same target more than once.\n",
      "W0000 00:00:1754435341.996271 1644696 computation_placer.cc:177] computation placer already registered. Please check linkage and avoid linking the same target more than once.\n",
      "W0000 00:00:1754435341.996273 1644696 computation_placer.cc:177] computation placer already registered. Please check linkage and avoid linking the same target more than once.\n",
      "2025-08-05 16:09:02.000280: I tensorflow/core/platform/cpu_feature_guard.cc:210] This TensorFlow binary is optimized to use available CPU instructions in performance-critical operations.\n",
      "To enable the following instructions: AVX2 FMA, in other operations, rebuild TensorFlow with the appropriate compiler flags.\n",
      "/global/u2/k/kberard/environments/SCGSR/lib/python3.12/site-packages/tqdm/auto.py:21: TqdmWarning: IProgress not found. Please update jupyter and ipywidgets. See https://ipywidgets.readthedocs.io/en/stable/user_install.html\n",
      "  from .autonotebook import tqdm as notebook_tqdm\n",
      "/global/u2/k/kberard/environments/SCGSR/lib/python3.12/site-packages/timm/models/layers/__init__.py:48: FutureWarning: Importing from timm.models.layers is deprecated, please import via timm.layers\n",
      "  warnings.warn(f\"Importing from {__name__} is deprecated, please import via timm.layers\", FutureWarning)\n"
     ]
    }
   ],
   "source": [
    "import h5py\n",
    "import numpy as np\n",
    "import os\n",
    "from bm3d import bm3d\n",
    "import matplotlib.pyplot as plt\n",
    "import tensorflow as tf\n",
    "from keras.layers import Lambda\n",
    "from tensorflow.keras import layers, models, callbacks, regularizers\n",
    "import matplotlib.pyplot as plt\n",
    "from bm3d import bm3d_rgb, BM3DProfile\n",
    "import sys\n",
    "module_dir = \"/global/u2/k/kberard/SCGSR/Research/Diamond/stock_models/bm3d-4.0.3/bm3d-4.0.3/examples\" \n",
    "sys.path.insert(0, module_dir)\n",
    "from experiment_funcs import get_experiment_noise, get_psnr, get_cropped_psnr\n",
    "from PIL import Image\n",
    "import math\n",
    "import torch\n",
    "import torch.nn as nn\n",
    "import torch.optim as optim\n",
    "from thop import profile\n",
    "from einops import rearrange \n",
    "from einops.layers.torch import Rearrange, Reduce\n",
    "from timm.models.layers import trunc_normal_, DropPath\n",
    "from keras.models import load_model\n",
    "import keras\n",
    "\n",
    "\n",
    "module_dir_scu = \"/global/u2/k/kberard/SCGSR/Research/Diamond/stock_models/SCUNet\" \n",
    "sys.path.insert(0, module_dir_scu)\n",
    "from models.network_scunet import SCUNet as SCUNet\n",
    "from torch.utils.data import Dataset\n",
    "from utils import utils_image as util\n",
    "import joblib\n",
    "from sklearn.preprocessing import MinMaxScaler"
   ]
  },
  {
   "cell_type": "code",
   "execution_count": 2,
   "id": "9d3d675f-5f1d-45f4-a87d-34f8a8b4d14f",
   "metadata": {},
   "outputs": [],
   "source": [
    "def run_denoising_pipeline(noisy_path, ref_path, model_name, save_path='denoised_output.npy'):\n",
    "    # Load data\n",
    "    with h5py.File(ref_path, 'r') as f:\n",
    "        ref_d = f['density'][:]\n",
    "    with h5py.File(noisy_path, 'r') as f:\n",
    "        test_d = f['density'][:]\n",
    "\n",
    "    model_dict = {\n",
    "        'scunet_trained': scunet_trained_test_pipeline,\n",
    "        'scunet_pre': scunet_pre_test_pipeline,\n",
    "        'scunet_ft': scunet_FT_test_pipeline,\n",
    "        'nature': Nature_test_pipeline,\n",
    "        'CAE': CAE_test_pipeline,\n",
    "        'CAE_3D': CAE_3D_test_pipeline,\n",
    "        'bm3d': bm3d_test_pipeline\n",
    "    }\n",
    "\n",
    "    if model_name not in model_dict:\n",
    "        raise ValueError(f\"Unsupported model: {model_name}. Choose from: {list(model_dict.keys())}\")\n",
    "\n",
    "    # Capture printed metrics and denoised output\n",
    "    import io\n",
    "    from contextlib import redirect_stdout\n",
    "\n",
    "    # Redirect stdout to capture\n",
    "    f = io.StringIO()\n",
    "    with redirect_stdout(f):\n",
    "        model_dict[model_name](test_d, ref_d)\n",
    "    print(f.getvalue())  # Print all output once\n",
    "\n",
    "    # Save denoised result (retrieved from function scope if needed)\n",
    "    if model_name == 'CAE_3D':\n",
    "        denoised_volume = CAE_3D_mod.predict(test_d.reshape(1,64,64,64,1)).reshape(64,64,64)\n",
    "    elif model_name in ['CAE', 'scunet_trained', 'scunet_pre', 'scunet_ft', 'nature', 'bm3d']:\n",
    "        # All these use encode_rgb → decode_rgb\n",
    "        denoised_rgb = encode_voxel_to_rgb(test_d)\n",
    "        if model_name == 'CAE':\n",
    "            denoised_rgb = CAE_mod.predict(denoised_rgb)\n",
    "        elif model_name == 'nature':\n",
    "            denoised_rgb = nature_mod.predict(denoised_rgb)\n",
    "        elif model_name == 'scunet_trained':\n",
    "            torch.serialization.add_safe_globals([SCUNet])\n",
    "            model = torch.load('scunet_trained', weights_only=False)\n",
    "            model.eval()\n",
    "            denoised_rgb = np.zeros_like(denoised_rgb)\n",
    "            for i in range(64):\n",
    "                img_tensor = torch.from_numpy(np.transpose(denoised_rgb[i], (2, 0, 1))).float().unsqueeze(0).to('cpu')\n",
    "                with torch.no_grad():\n",
    "                    output_tensor = model(img_tensor)\n",
    "                denoised_rgb[i] = np.transpose(output_tensor.squeeze().cpu().numpy(), (1, 2, 0))\n",
    "        # All decoded to voxel grid\n",
    "        denoised_volume = decode_rgb_to_voxel(denoised_rgb)\n",
    "    else:\n",
    "        raise NotImplementedError(\"Denoised output extraction not defined for this model\")\n",
    "\n",
    "    np.save(save_path, denoised_volume)\n",
    "    print(f\"Denoised volume saved to {save_path}\")\n",
    "    return(denoised_volume)\n"
   ]
  },
  {
   "cell_type": "code",
   "execution_count": 3,
   "id": "0430d29e-eb72-470c-ba32-a0dcd6a1dbe9",
   "metadata": {},
   "outputs": [
    {
     "ename": "NameError",
     "evalue": "name 'scunet_trained_test_pipeline' is not defined",
     "output_type": "error",
     "traceback": [
      "\u001b[31m---------------------------------------------------------------------------\u001b[39m",
      "\u001b[31mNameError\u001b[39m                                 Traceback (most recent call last)",
      "\u001b[36mCell\u001b[39m\u001b[36m \u001b[39m\u001b[32mIn[3]\u001b[39m\u001b[32m, line 1\u001b[39m\n\u001b[32m----> \u001b[39m\u001b[32m1\u001b[39m den = \u001b[43mrun_denoising_pipeline\u001b[49m\u001b[43m(\u001b[49m\n\u001b[32m      2\u001b[39m \u001b[43m    \u001b[49m\u001b[43mnoisy_path\u001b[49m\u001b[43m=\u001b[49m\u001b[33;43m'\u001b[39;49m\u001b[33;43m/pscratch/sd/k/kberard/SCGSR/Data/diamond_1x1x1_bfd/density_data/vmc_J2/density_tot_vmc_mean_0000655360.h5\u001b[39;49m\u001b[33;43m'\u001b[39;49m\u001b[43m,\u001b[49m\n\u001b[32m      3\u001b[39m \u001b[43m    \u001b[49m\u001b[43mref_path\u001b[49m\u001b[43m=\u001b[49m\u001b[33;43m'\u001b[39;49m\u001b[33;43m/global/u2/k/kberard/SCGSR/Research/Diamond/Data/density_tot_ref.h5\u001b[39;49m\u001b[33;43m'\u001b[39;49m\u001b[43m,\u001b[49m\n\u001b[32m      4\u001b[39m \u001b[43m    \u001b[49m\u001b[43mmodel_name\u001b[49m\u001b[43m=\u001b[49m\u001b[33;43m'\u001b[39;49m\u001b[33;43mCAE_3D\u001b[39;49m\u001b[33;43m'\u001b[39;49m\u001b[43m,\u001b[49m\u001b[43m  \u001b[49m\u001b[38;5;66;43;03m# or 'bm3d', 'scunet_trained', etc.\u001b[39;49;00m\n\u001b[32m      5\u001b[39m \u001b[43m    \u001b[49m\u001b[43msave_path\u001b[49m\u001b[43m=\u001b[49m\u001b[33;43m'\u001b[39;49m\u001b[33;43mdenoised_CAE_3D_output.npy\u001b[39;49m\u001b[33;43m'\u001b[39;49m\n\u001b[32m      6\u001b[39m \u001b[43m)\u001b[49m\n",
      "\u001b[36mCell\u001b[39m\u001b[36m \u001b[39m\u001b[32mIn[2]\u001b[39m\u001b[32m, line 9\u001b[39m, in \u001b[36mrun_denoising_pipeline\u001b[39m\u001b[34m(noisy_path, ref_path, model_name, save_path)\u001b[39m\n\u001b[32m      5\u001b[39m \u001b[38;5;28;01mwith\u001b[39;00m h5py.File(noisy_path, \u001b[33m'\u001b[39m\u001b[33mr\u001b[39m\u001b[33m'\u001b[39m) \u001b[38;5;28;01mas\u001b[39;00m f:\n\u001b[32m      6\u001b[39m     test_d = f[\u001b[33m'\u001b[39m\u001b[33mdensity\u001b[39m\u001b[33m'\u001b[39m][:]\n\u001b[32m      8\u001b[39m model_dict = {\n\u001b[32m----> \u001b[39m\u001b[32m9\u001b[39m     \u001b[33m'\u001b[39m\u001b[33mscunet_trained\u001b[39m\u001b[33m'\u001b[39m: \u001b[43mscunet_trained_test_pipeline\u001b[49m,\n\u001b[32m     10\u001b[39m     \u001b[33m'\u001b[39m\u001b[33mscunet_pre\u001b[39m\u001b[33m'\u001b[39m: scunet_pre_test_pipeline,\n\u001b[32m     11\u001b[39m     \u001b[33m'\u001b[39m\u001b[33mscunet_ft\u001b[39m\u001b[33m'\u001b[39m: scunet_FT_test_pipeline,\n\u001b[32m     12\u001b[39m     \u001b[33m'\u001b[39m\u001b[33mnature\u001b[39m\u001b[33m'\u001b[39m: Nature_test_pipeline,\n\u001b[32m     13\u001b[39m     \u001b[33m'\u001b[39m\u001b[33mCAE\u001b[39m\u001b[33m'\u001b[39m: CAE_test_pipeline,\n\u001b[32m     14\u001b[39m     \u001b[33m'\u001b[39m\u001b[33mCAE_3D\u001b[39m\u001b[33m'\u001b[39m: CAE_3D_test_pipeline,\n\u001b[32m     15\u001b[39m     \u001b[33m'\u001b[39m\u001b[33mbm3d\u001b[39m\u001b[33m'\u001b[39m: bm3d_test_pipeline\n\u001b[32m     16\u001b[39m }\n\u001b[32m     18\u001b[39m \u001b[38;5;28;01mif\u001b[39;00m model_name \u001b[38;5;129;01mnot\u001b[39;00m \u001b[38;5;129;01min\u001b[39;00m model_dict:\n\u001b[32m     19\u001b[39m     \u001b[38;5;28;01mraise\u001b[39;00m \u001b[38;5;167;01mValueError\u001b[39;00m(\u001b[33mf\u001b[39m\u001b[33m\"\u001b[39m\u001b[33mUnsupported model: \u001b[39m\u001b[38;5;132;01m{\u001b[39;00mmodel_name\u001b[38;5;132;01m}\u001b[39;00m\u001b[33m. Choose from: \u001b[39m\u001b[38;5;132;01m{\u001b[39;00m\u001b[38;5;28mlist\u001b[39m(model_dict.keys())\u001b[38;5;132;01m}\u001b[39;00m\u001b[33m\"\u001b[39m)\n",
      "\u001b[31mNameError\u001b[39m: name 'scunet_trained_test_pipeline' is not defined"
     ]
    }
   ],
   "source": [
    "den = run_denoising_pipeline(\n",
    "    noisy_path='/pscratch/sd/k/kberard/SCGSR/Data/diamond_1x1x1_bfd/density_data/vmc_J2/density_tot_vmc_mean_0000655360.h5',\n",
    "    ref_path='/global/u2/k/kberard/SCGSR/Research/Diamond/Data/density_tot_ref.h5',\n",
    "    model_name='CAE_3D',  # or 'bm3d', 'scunet_trained', etc.\n",
    "    save_path='denoised_CAE_3D_output.npy'\n",
    ")\n"
   ]
  },
  {
   "cell_type": "code",
   "execution_count": null,
   "id": "dfa81f77-ba18-4380-8e99-fc1aeb773106",
   "metadata": {},
   "outputs": [],
   "source": [
    "print(\"here\")"
   ]
  },
  {
   "cell_type": "code",
   "execution_count": null,
   "id": "cbca4577-ddf9-4e5d-8ce7-a7dacadf8326",
   "metadata": {},
   "outputs": [],
   "source": []
  }
 ],
 "metadata": {
  "kernelspec": {
   "display_name": "SCGSR",
   "language": "python",
   "name": "scgsr"
  },
  "language_info": {
   "codemirror_mode": {
    "name": "ipython",
    "version": 3
   },
   "file_extension": ".py",
   "mimetype": "text/x-python",
   "name": "python",
   "nbconvert_exporter": "python",
   "pygments_lexer": "ipython3",
   "version": "3.12.9"
  }
 },
 "nbformat": 4,
 "nbformat_minor": 5
}
