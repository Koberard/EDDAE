{
 "cells": [
  {
   "cell_type": "code",
   "execution_count": 1,
   "id": "adbfdc98-ee96-40a0-8303-4e887b1f07a4",
   "metadata": {},
   "outputs": [
    {
     "name": "stderr",
     "output_type": "stream",
     "text": [
      "2025-08-05 09:33:45.342481: E external/local_xla/xla/stream_executor/cuda/cuda_fft.cc:467] Unable to register cuFFT factory: Attempting to register factory for plugin cuFFT when one has already been registered\n",
      "WARNING: All log messages before absl::InitializeLog() is called are written to STDERR\n",
      "E0000 00:00:1754411625.355914   94742 cuda_dnn.cc:8579] Unable to register cuDNN factory: Attempting to register factory for plugin cuDNN when one has already been registered\n",
      "E0000 00:00:1754411625.360037   94742 cuda_blas.cc:1407] Unable to register cuBLAS factory: Attempting to register factory for plugin cuBLAS when one has already been registered\n",
      "W0000 00:00:1754411625.371922   94742 computation_placer.cc:177] computation placer already registered. Please check linkage and avoid linking the same target more than once.\n",
      "W0000 00:00:1754411625.371934   94742 computation_placer.cc:177] computation placer already registered. Please check linkage and avoid linking the same target more than once.\n",
      "W0000 00:00:1754411625.371936   94742 computation_placer.cc:177] computation placer already registered. Please check linkage and avoid linking the same target more than once.\n",
      "W0000 00:00:1754411625.371937   94742 computation_placer.cc:177] computation placer already registered. Please check linkage and avoid linking the same target more than once.\n",
      "2025-08-05 09:33:45.376296: I tensorflow/core/platform/cpu_feature_guard.cc:210] This TensorFlow binary is optimized to use available CPU instructions in performance-critical operations.\n",
      "To enable the following instructions: AVX2 FMA, in other operations, rebuild TensorFlow with the appropriate compiler flags.\n"
     ]
    }
   ],
   "source": [
    "import h5py\n",
    "import os\n",
    "import sys\n",
    "import tensorflow as tf\n",
    "import numpy as np\n",
    "from bm3d import bm3d_rgb, BM3DProfile\n",
    "module_dir = \"/global/u2/k/kberard/SCGSR/Research/Diamond/stock_models/bm3d-4.0.3/bm3d-4.0.3/examples\" \n",
    "sys.path.insert(0, module_dir)\n",
    "from experiment_funcs import get_experiment_noise, get_psnr, get_cropped_psnr\n",
    "from PIL import Image\n",
    "import matplotlib.pyplot as plt\n"
   ]
  },
  {
   "cell_type": "code",
   "execution_count": 2,
   "id": "dfe7a5c7-675e-40ce-b5d7-487a1b43f6fe",
   "metadata": {},
   "outputs": [
    {
     "name": "stderr",
     "output_type": "stream",
     "text": [
      "/global/u2/k/kberard/environments/SCGSR/lib/python3.12/site-packages/tqdm/auto.py:21: TqdmWarning: IProgress not found. Please update jupyter and ipywidgets. See https://ipywidgets.readthedocs.io/en/stable/user_install.html\n",
      "  from .autonotebook import tqdm as notebook_tqdm\n",
      "/global/u2/k/kberard/environments/SCGSR/lib/python3.12/site-packages/timm/models/layers/__init__.py:48: FutureWarning: Importing from timm.models.layers is deprecated, please import via timm.layers\n",
      "  warnings.warn(f\"Importing from {__name__} is deprecated, please import via timm.layers\", FutureWarning)\n"
     ]
    }
   ],
   "source": [
    "import math\n",
    "import torch\n",
    "import torch.nn as nn\n",
    "import numpy as np\n",
    "from thop import profile\n",
    "from einops import rearrange \n",
    "from einops.layers.torch import Rearrange, Reduce\n",
    "from timm.models.layers import trunc_normal_, DropPath"
   ]
  },
  {
   "cell_type": "code",
   "execution_count": 3,
   "id": "098f2929-3d5d-47b7-bcdb-15cea847764a",
   "metadata": {},
   "outputs": [
    {
     "name": "stdout",
     "output_type": "stream",
     "text": [
      "here\n"
     ]
    }
   ],
   "source": [
    "print(\"here\")"
   ]
  },
  {
   "cell_type": "code",
   "execution_count": null,
   "id": "3de8dc16-f501-4c5e-ad85-1acc29815660",
   "metadata": {},
   "outputs": [],
   "source": [
    "#image denoise methods to try\n",
    "#arciteture only 2024 https://www.nature.com/articles/s41598-024-60139-x\n",
    "# cascaded gaze 2019 https://github.com/Ascend-Research/CascadedGaze\n",
    "# SwinIR 2021 https://github.com/JingyunLiang/SwinIR?tab=readme-ov-file\n",
    "#scunet, ffdnet (compared in nature paper, very close to nat perf) or dnCNN  toolbox with many models https://github.com/cszn/KAIR\n",
    "#scunet it python based \n",
    "# https://pypi.org/project/bm3d/ Bm3d also in nature paper"
   ]
  },
  {
   "cell_type": "code",
   "execution_count": 4,
   "id": "3d755537-d8f0-4658-98e5-736975bba3b0",
   "metadata": {},
   "outputs": [
    {
     "name": "stdout",
     "output_type": "stream",
     "text": [
      "(64, 64, 64)\n"
     ]
    }
   ],
   "source": [
    "# minorized reference\n",
    "with h5py.File('/global/u2/k/kberard/SCGSR/Research/Diamond/Data/density_tot_ref.h5', 'r') as file:\n",
    "    #print(\"Keys: %s\" % file.keys())\n",
    "    ref_d = file['density'][:]\n",
    "#print(ref_d)\n",
    "print(ref_d.shape)\n",
    "\n",
    "\n"
   ]
  },
  {
   "cell_type": "code",
   "execution_count": 5,
   "id": "7582d1c8-72cb-404a-bb2a-f3abe8a2f7af",
   "metadata": {},
   "outputs": [],
   "source": [
    "####################################################################################################################################################\n",
    "def stochastic_density(d,N):\n",
    "    # poisson model\n",
    "    #  accurate and fast for all values of N\n",
    "    # N  = number of MC samples\n",
    "    assert isinstance(d,np.ndarray)\n",
    "    assert isinstance(N,(int,float,np.int64,np.float64))\n",
    "    assert N>0\n",
    "    ds = np.random.poisson(N*d)/N\n",
    "    ds*= d.sum()/ds.sum()\n",
    "    return ds\n",
    "#end def stochastic_density\n",
    "\n",
    "####################################################################################################################################################"
   ]
  },
  {
   "cell_type": "code",
   "execution_count": 5,
   "id": "d25fba79-bae7-46e6-bd70-673815d88c86",
   "metadata": {},
   "outputs": [
    {
     "name": "stderr",
     "output_type": "stream",
     "text": [
      "\n",
      "KeyboardInterrupt\n",
      "\n",
      "Exception ignored in: <bound method IPythonKernel._clean_thread_parent_frames of <ipykernel.ipkernel.IPythonKernel object at 0x7f49654cbf20>>\n",
      "Traceback (most recent call last):\n",
      "  File \"/global/u2/k/kberard/environments/SCGSR/lib/python3.12/site-packages/ipykernel/ipkernel.py\", line 775, in _clean_thread_parent_frames\n",
      "    def _clean_thread_parent_frames(\n",
      "\n",
      "KeyboardInterrupt: \n",
      "\n",
      "KeyboardInterrupt\n",
      "\n"
     ]
    }
   ],
   "source": [
    "def generate_single_2d_density(ref_d, noise_level):\n",
    "    noisy_3d = stochastic_density(ref_d, noise_level)  # shape: (64, 64, 64)\n",
    "    return noisy_3d\n",
    "\n",
    "# Noise levels to randomly draw from\n",
    "noise_levels = [10000 * (j + 1) for j in range(5)]  # [10000, 20000, ..., 50000]\n",
    "\n",
    "# Sizes\n",
    "num_train = 1000\n",
    "num_val = 100\n",
    "num_test = 10\n",
    "\n",
    "# Generate train set with mixed noise levels\n",
    "x_train = np.zeros((num_train, 64, 64,64))\n",
    "for i in range(num_train):\n",
    "    noise_level = np.random.choice(noise_levels)\n",
    "    x_train[i] = generate_single_2d_density(ref_d, noise_level)\n",
    "\n",
    "# Generate val set with mixed noise levels\n",
    "x_val = np.zeros((num_val, 64, 64,64))\n",
    "for i in range(num_val):\n",
    "    noise_level = np.random.choice(noise_levels)\n",
    "    x_val[i] = generate_single_2d_density(ref_d, noise_level)\n",
    "\n",
    "\n",
    "\n",
    "print(\"Train, val, generated\")\n"
   ]
  },
  {
   "cell_type": "code",
   "execution_count": 7,
   "id": "fc3e3001-9a33-4e10-a915-6f34a12b52fb",
   "metadata": {},
   "outputs": [
    {
     "name": "stdout",
     "output_type": "stream",
     "text": [
      "test generated\n"
     ]
    }
   ],
   "source": [
    "# Generate test set with fixed noise level\n",
    "x_test = np.zeros((num_test, 64, 64, 64))\n",
    "for i in range(num_test):\n",
    "    x_test[i] = generate_single_2d_density(ref_d, 100000)\n",
    "print(\"test generated\")"
   ]
  },
  {
   "cell_type": "code",
   "execution_count": 8,
   "id": "361107c4-4800-443c-98f6-b8f14fdbb640",
   "metadata": {},
   "outputs": [
    {
     "name": "stdout",
     "output_type": "stream",
     "text": [
      "(64, 64, 64)\n"
     ]
    }
   ],
   "source": [
    "print(ref_d.shape)"
   ]
  },
  {
   "cell_type": "code",
   "execution_count": 9,
   "id": "c762ad87-a089-4fd6-843b-7790b8069745",
   "metadata": {},
   "outputs": [
    {
     "name": "stdout",
     "output_type": "stream",
     "text": [
      "here\n"
     ]
    }
   ],
   "source": [
    "y_test_3d = np.zeros((x_test.shape[0],64,64,64))\n",
    "y_train_3d = np.zeros((x_train.shape[0],64,64,64))\n",
    "y_val_3d = np.zeros((x_val.shape[0],64,64,64))\n",
    "for i in range (y_test_3d.shape[0]):\n",
    "    y_test_3d[i]=stochastic_density(ref_d,1000000)\n",
    "y_test = y_test_3d\n",
    "for i in range (y_train_3d.shape[0]):\n",
    "    y_train_3d[i]=stochastic_density(ref_d,1000000)\n",
    "y_train = y_train_3d\n",
    "\n",
    "for i in range (y_val_3d.shape[0]):\n",
    "    y_val_3d[i]=stochastic_density(ref_d,1000000)\n",
    "y_val = y_val_3d\n",
    "print(\"here\")"
   ]
  },
  {
   "cell_type": "code",
   "execution_count": 6,
   "id": "d7c0e7ef-cb21-439e-959f-0c1f997b8f2f",
   "metadata": {},
   "outputs": [
    {
     "name": "stdout",
     "output_type": "stream",
     "text": [
      "ERROR! Session/line number was not unique in database. History logging moved to new session 760\n"
     ]
    }
   ],
   "source": [
    "import numpy as np\n",
    "import os\n",
    "\n",
    "def encode_voxel_to_rgb(x_train_3d, x_val_3d, x_test_3d,\n",
    "                        y_train_3d, y_val_3d, y_test_3d,\n",
    "                        ref_d=None, save_dir='scalers'):\n",
    "    \"\"\"\n",
    "    Encode a batch of 3D volumes by normalizing each depth slice independently and replicating to RGB.\n",
    "    Each input of shape (N, 64, 64, 64) is transformed into (N*64, 64, 64, 3).\n",
    "\n",
    "    Args:\n",
    "        *_3d: ndarray of shape (N, 64, 64, 64)\n",
    "        ref_d: optional ndarray of shape (64, 64, 64)\n",
    "        save_dir: directory to save the (min, max) scalers for each batch\n",
    "\n",
    "    Returns:\n",
    "        Tuple of:\n",
    "            x_train_rgb, x_val_rgb, x_test_rgb,\n",
    "            y_train_rgb, y_val_rgb, y_test_rgb,\n",
    "            ref_d_rgb (or None if not provided)\n",
    "    \"\"\"\n",
    "    os.makedirs(save_dir, exist_ok=True)\n",
    "\n",
    "    def process_batch(batch, tag):\n",
    "        N, D, H, W = batch.shape  # (N, 64, 64, 64)\n",
    "        rgb_batch = np.zeros((N * D, H, W, 3), dtype=np.float32)\n",
    "        all_mins = []\n",
    "        all_maxs = []\n",
    "\n",
    "        for i in range(N):\n",
    "            mins = []\n",
    "            maxs = []\n",
    "            for d in range(D):\n",
    "                slice_2d = batch[i, d, :, :]\n",
    "                s_min = float(slice_2d.min())\n",
    "                s_max = float(slice_2d.max())\n",
    "\n",
    "                if s_max == s_min:\n",
    "                    s_max = s_min + 1e-6  # prevent divide-by-zero\n",
    "\n",
    "                normed = (slice_2d - s_min) / (s_max - s_min)\n",
    "                rgb = np.stack([normed] * 3, axis=-1)  # shape: (64, 64, 3)\n",
    "\n",
    "                rgb_batch[i * D + d] = rgb\n",
    "                mins.append(s_min)\n",
    "                maxs.append(s_max)\n",
    "\n",
    "            all_mins.append(mins)\n",
    "            all_maxs.append(maxs)\n",
    "\n",
    "        np.savez(os.path.join(save_dir, f'{tag}_scalers.npz'),\n",
    "                 mins=np.array(all_mins), maxs=np.array(all_maxs))\n",
    "\n",
    "        return rgb_batch\n",
    "\n",
    "    x_train_rgb = process_batch(x_train_3d, 'x_train')\n",
    "    x_val_rgb   = process_batch(x_val_3d, 'x_val')\n",
    "    x_test_rgb  = process_batch(x_test_3d, 'x_test')\n",
    "    y_train_rgb = process_batch(y_train_3d, 'y_train')\n",
    "    y_val_rgb   = process_batch(y_val_3d, 'y_val')\n",
    "    y_test_rgb  = process_batch(y_test_3d, 'y_test')\n",
    "\n",
    "    # Optional: single ref volume\n",
    "    ref_d_rgb = None\n",
    "    if ref_d is not None:\n",
    "        ref_rgb = np.zeros((64, 64, 64, 3), dtype=np.float32)\n",
    "        ref_mins = []\n",
    "        ref_maxs = []\n",
    "        for d in range(64):\n",
    "            slice_2d = ref_d[d, :, :]\n",
    "            s_min = float(slice_2d.min())\n",
    "            s_max = float(slice_2d.max())\n",
    "\n",
    "            if s_max == s_min:\n",
    "                s_max = s_min + 1e-6\n",
    "\n",
    "            normed = (slice_2d - s_min) / (s_max - s_min)\n",
    "            ref_rgb[d] = np.stack([normed] * 3, axis=-1)\n",
    "            ref_mins.append(s_min)\n",
    "            ref_maxs.append(s_max)\n",
    "\n",
    "        np.savez(os.path.join(save_dir, 'ref_d_scalers.npz'),\n",
    "                 mins=np.array(ref_mins), maxs=np.array(ref_maxs))\n",
    "        ref_d_rgb = ref_rgb\n",
    "\n",
    "    return (\n",
    "        x_train_rgb, x_val_rgb, x_test_rgb,\n",
    "        y_train_rgb, y_val_rgb, y_test_rgb,\n",
    "        ref_d_rgb\n",
    "    )\n"
   ]
  },
  {
   "cell_type": "code",
   "execution_count": 7,
   "id": "f1632db1-edfd-4d2b-b121-00449b6563bd",
   "metadata": {},
   "outputs": [],
   "source": [
    "import numpy as np\n",
    "\n",
    "def decode_rgb_to_voxel_batch(rgb_data, scaler_path):\n",
    "    \"\"\"\n",
    "    Decode RGB-encoded batch (N*64, 64, 64, 3) back to original (N, 64, 64, 64) data\n",
    "    using per-slice min/max scalers.\n",
    "\n",
    "    Args:\n",
    "        rgb_data: ndarray of shape (N*64, 64, 64, 3)\n",
    "        scaler_path: path to `.npz` file containing 'mins' and 'maxs' arrays\n",
    "                     of shape (N, 64)\n",
    "\n",
    "    Returns:\n",
    "        reconstructed: ndarray of shape (N, 64, 64, 64)\n",
    "    \"\"\"\n",
    "    num_slices = 64\n",
    "    assert rgb_data.ndim == 4 and rgb_data.shape[1:4] == (64, 64, 3), \\\n",
    "        f\"Expected shape (N*64, 64, 64, 3), got {rgb_data.shape}\"\n",
    "\n",
    "    N = rgb_data.shape[0] // num_slices\n",
    "    assert rgb_data.shape[0] == N * num_slices, \"RGB data is not a multiple of 64 slices\"\n",
    "\n",
    "    scalers = np.load(scaler_path)\n",
    "    mins = scalers['mins']  # shape (N, 64)\n",
    "    maxs = scalers['maxs']  # shape (N, 64)\n",
    "\n",
    "    reconstructed = np.zeros((N, 64, 64, 64), dtype=np.float32)\n",
    "\n",
    "    for i in range(N):\n",
    "        for d in range(num_slices):\n",
    "            idx = i * num_slices + d\n",
    "            normed = rgb_data[idx, :, :, 0]  # Use first channel (R), they are all the same\n",
    "            s_min = mins[i, d]\n",
    "            s_max = maxs[i, d]\n",
    "            reconstructed[i, d, :, :] = normed * (s_max - s_min) + s_min\n",
    "\n",
    "    return reconstructed\n"
   ]
  },
  {
   "cell_type": "code",
   "execution_count": 12,
   "id": "5c359b5e-e1ac-48fe-b14f-8deb014adefd",
   "metadata": {},
   "outputs": [
    {
     "name": "stdout",
     "output_type": "stream",
     "text": [
      "done generating\n"
     ]
    }
   ],
   "source": [
    "x_train_rgb, x_val_rgb, x_test_rgb, \\\n",
    "y_train_rgb, y_val_rgb, y_test_rgb, \\\n",
    "ref_d_rgb = encode_voxel_to_rgb(\n",
    "    x_train, x_val, x_test,\n",
    "    y_train_3d, y_val_3d, y_test_3d,\n",
    "    ref_d=ref_d\n",
    ")\n",
    "print(\"done generating\")"
   ]
  },
  {
   "cell_type": "code",
   "execution_count": 13,
   "id": "573c85e1-bd73-4485-949d-bdc32541c48d",
   "metadata": {},
   "outputs": [
    {
     "name": "stdout",
     "output_type": "stream",
     "text": [
      "(1000, 64, 64, 64)\n",
      "(1000, 64, 64, 64)\n",
      "True\n"
     ]
    }
   ],
   "source": [
    "# Encode first\n",
    "#x_train_rgb = encode_voxel_to_rgb(x_train, x_val, x_test, y_train, y_val, y_test)[0]\n",
    "\n",
    "\n",
    "x_train_reconstructed = decode_rgb_to_voxel_batch(x_train_rgb, 'scalers/x_train_scalers.npz')\n",
    "\n",
    "print(x_train.shape)               # (N, 64, 64, 64)\n",
    "print(x_train_reconstructed.shape) # (N, 64, 64, 64)\n",
    "\n",
    "print(np.allclose(x_train, x_train_reconstructed, atol=1e-5))  # Should be True"
   ]
  },
  {
   "cell_type": "code",
   "execution_count": 14,
   "id": "e316ee67-b848-4283-988c-3c448e99b1a9",
   "metadata": {},
   "outputs": [
    {
     "name": "stdout",
     "output_type": "stream",
     "text": [
      "(64000, 64, 64, 3)\n",
      "old enc size was (5000, 64, 64, 3)\n"
     ]
    }
   ],
   "source": [
    "print(x_train_rgb.shape)\n",
    "print(\"old enc size was (5000, 64, 64, 3)\")"
   ]
  },
  {
   "cell_type": "code",
   "execution_count": 15,
   "id": "2451f1c3-8aee-4ea8-9fc1-751f332c5b0f",
   "metadata": {},
   "outputs": [
    {
     "name": "stdout",
     "output_type": "stream",
     "text": [
      "0.17631179288255\n",
      "0.17269565325948735\n"
     ]
    }
   ],
   "source": [
    "print(np.sum(ref_d[0],axis=(0,1)))\n",
    "print(np.sum(x_train[0,0],axis=(0,1)))"
   ]
  },
  {
   "cell_type": "code",
   "execution_count": 16,
   "id": "e1ef7683-cf0d-403f-8505-d799d339666f",
   "metadata": {},
   "outputs": [],
   "source": [
    "x_train = 0\n",
    "x_val=0\n",
    "x_test=0\n",
    "y_train_3d=0\n",
    "y_val_3d=0\n",
    "y_test_3d=0\n",
    "y_train=0\n",
    "y_test=0\n",
    "y_val=0"
   ]
  },
  {
   "cell_type": "code",
   "execution_count": 8,
   "id": "2eacce89-d2a0-4847-8278-2b2486379096",
   "metadata": {},
   "outputs": [
    {
     "name": "stdout",
     "output_type": "stream",
     "text": [
      "done\n"
     ]
    }
   ],
   "source": [
    "\"\"\"import os\n",
    "save_path = '/pscratch/sd/k/kberard/SCGSR/Data/gen_dat'\n",
    "np.save(os.path.join(save_path, 'x_train_rgb_=3c.npy'), x_train_rgb)\n",
    "np.save(os.path.join(save_path, 'x_val_rgb_=3c.npy'), x_val_rgb)\n",
    "np.save(os.path.join(save_path, 'x_test_rgb_=3c.npy'), x_test_rgb)\n",
    "np.save(os.path.join(save_path, 'y_train_rgb_=3c.npy'), y_train_rgb)\n",
    "np.save(os.path.join(save_path, 'y_val_rgb_=3c.npy'), y_val_rgb)\n",
    "np.save(os.path.join(save_path, 'y_test_rgb_=3c.npy'), y_test_rgb)\n",
    "np.save(os.path.join(save_path, 'ref_d_rgb_=3c.npy'), ref_d_rgb)\n",
    "import numpy as np\"\"\"\n",
    "\n",
    "base_path = '/pscratch/sd/k/kberard/SCGSR/Data/gen_dat'\n",
    "\n",
    "x_train_rgb = np.load(f'{base_path}/x_train_rgb_=3c.npy')\n",
    "x_val_rgb   = np.load(f'{base_path}/x_val_rgb_=3c.npy')\n",
    "x_test_rgb  = np.load(f'{base_path}/x_test_rgb_=3c.npy')\n",
    "y_train_rgb = np.load(f'{base_path}/y_train_rgb_=3c.npy')\n",
    "y_val_rgb   = np.load(f'{base_path}/y_val_rgb_=3c.npy')\n",
    "y_test_rgb  = np.load(f'{base_path}/y_test_rgb_=3c.npy')\n",
    "ref_d_rgb   = np.load(f'{base_path}/ref_d_rgb_=3c.npy')\n",
    "print(\"done\")"
   ]
  },
  {
   "cell_type": "code",
   "execution_count": 10,
   "id": "40483d90-776a-46fd-b9b5-9247bde2cc10",
   "metadata": {},
   "outputs": [],
   "source": [
    "import tensorflow as tf\n",
    "from tensorflow.keras import layers, models\n",
    "\n",
    "# --- DenseNet blocks ---\n",
    "\n",
    "def conv_block(x, growth_rate=12):\n",
    "    x1 = layers.BatchNormalization()(x)\n",
    "    x1 = layers.Conv2D(48, (1, 1), padding='same', activation='relu')(x1)\n",
    "    x1 = layers.BatchNormalization()(x1)\n",
    "    x1 = layers.Conv2D(growth_rate, (3, 3), padding='same', activation='relu')(x1)\n",
    "    return layers.Concatenate()([x, x1])\n",
    "\n",
    "def dense_block(x, num_layers=4, growth_rate=12):\n",
    "    for _ in range(num_layers):\n",
    "        x = conv_block(x, growth_rate)\n",
    "    return x\n",
    "\n",
    "def transition_layer(x, out_channels=24):\n",
    "    return layers.Conv2D(out_channels, (1, 1), padding='same')(x)\n",
    "\n",
    "# --- Fusion block ---\n",
    "# 👇 Define a serializable custom layer for tf.ones_like\n",
    "@tf.keras.utils.register_keras_serializable()\n",
    "class OnesLikeLayer(tf.keras.layers.Layer):\n",
    "    def call(self, inputs):\n",
    "        return tf.ones_like(inputs)\n",
    "\n",
    "def caffm(alpha, x, y):\n",
    "    one_tensor = OnesLikeLayer()(alpha)\n",
    "    inverse_alpha = layers.Subtract()([one_tensor, alpha])\n",
    "    \n",
    "    weighted_x = layers.Multiply()([alpha, x])\n",
    "    weighted_y = layers.Multiply()([inverse_alpha, y])\n",
    "    \n",
    "    return layers.Add()([weighted_x, weighted_y])\n",
    "\n",
    "\n",
    "# --- Model definition ---\n",
    "\n",
    "def build_denoising_model(input_shape=(64, 64, 3)):\n",
    "    inputs = layers.Input(shape=input_shape)\n",
    "    \n",
    "    # Initial conv\n",
    "    x = layers.Conv2D(64, (3, 3), padding='same', activation='relu')(inputs)\n",
    "    x = layers.Conv2D(24, (3, 3), padding='same', activation='relu')(x)\n",
    "\n",
    "    # Dense blocks + transitions\n",
    "    db1 = dense_block(x)\n",
    "    tr1 = transition_layer(db1)\n",
    "\n",
    "    db2 = dense_block(tr1)\n",
    "    tr2 = transition_layer(db2)\n",
    "\n",
    "    db3 = dense_block(tr2)\n",
    "\n",
    "    # Learnable fusion weight\n",
    "    alpha = layers.Conv2D(1, (1, 1), activation='sigmoid', padding='same')(db3)\n",
    "    \n",
    "    # Expand alpha to matc\n",
    "    \n",
    "    alpha = layers.Concatenate()([alpha]*db1.shape[-1])\n",
    "\n",
    "    fused = caffm(alpha, db1, db3)\n",
    "\n",
    "    # Final residual connection\n",
    "    output = layers.Conv2D(3, (3, 3), padding='same')(fused)\n",
    "    residual_output = layers.Subtract()([inputs, output])\n",
    "\n",
    "    return models.Model(inputs, residual_output)\n"
   ]
  },
  {
   "cell_type": "code",
   "execution_count": 11,
   "id": "185346b7-9019-41c5-b55b-f191356b529a",
   "metadata": {},
   "outputs": [
    {
     "name": "stderr",
     "output_type": "stream",
     "text": [
      "I0000 00:00:1754078667.045628  449738 gpu_device.cc:2019] Created device /job:localhost/replica:0/task:0/device:GPU:0 with 38366 MB memory:  -> device: 0, name: NVIDIA A100-SXM4-40GB, pci bus id: 0000:03:00.0, compute capability: 8.0\n",
      "I0000 00:00:1754078667.052353  449738 gpu_device.cc:2019] Created device /job:localhost/replica:0/task:0/device:GPU:1 with 38366 MB memory:  -> device: 1, name: NVIDIA A100-SXM4-40GB, pci bus id: 0000:41:00.0, compute capability: 8.0\n",
      "I0000 00:00:1754078667.054821  449738 gpu_device.cc:2019] Created device /job:localhost/replica:0/task:0/device:GPU:2 with 38366 MB memory:  -> device: 2, name: NVIDIA A100-SXM4-40GB, pci bus id: 0000:82:00.0, compute capability: 8.0\n",
      "I0000 00:00:1754078667.056543  449738 gpu_device.cc:2019] Created device /job:localhost/replica:0/task:0/device:GPU:3 with 38366 MB memory:  -> device: 3, name: NVIDIA A100-SXM4-40GB, pci bus id: 0000:c1:00.0, compute capability: 8.0\n"
     ]
    },
    {
     "name": "stdout",
     "output_type": "stream",
     "text": [
      "Epoch 1/50\n"
     ]
    },
    {
     "name": "stderr",
     "output_type": "stream",
     "text": [
      "WARNING: All log messages before absl::InitializeLog() is called are written to STDERR\n",
      "I0000 00:00:1754078679.234721  450424 service.cc:152] XLA service 0x7f7ac401c920 initialized for platform CUDA (this does not guarantee that XLA will be used). Devices:\n",
      "I0000 00:00:1754078679.234752  450424 service.cc:160]   StreamExecutor device (0): NVIDIA A100-SXM4-40GB, Compute Capability 8.0\n",
      "I0000 00:00:1754078679.234761  450424 service.cc:160]   StreamExecutor device (1): NVIDIA A100-SXM4-40GB, Compute Capability 8.0\n",
      "I0000 00:00:1754078679.234763  450424 service.cc:160]   StreamExecutor device (2): NVIDIA A100-SXM4-40GB, Compute Capability 8.0\n",
      "I0000 00:00:1754078679.234764  450424 service.cc:160]   StreamExecutor device (3): NVIDIA A100-SXM4-40GB, Compute Capability 8.0\n",
      "2025-08-01 13:04:39.507412: I tensorflow/compiler/mlir/tensorflow/utils/dump_mlir_util.cc:269] disabling MLIR crash reproducer, set env var `MLIR_CRASH_REPRODUCER_DIRECTORY` to enable.\n",
      "I0000 00:00:1754078681.009857  450424 cuda_dnn.cc:529] Loaded cuDNN version 90300\n"
     ]
    },
    {
     "name": "stdout",
     "output_type": "stream",
     "text": [
      "\u001b[1m   7/2000\u001b[0m \u001b[37m━━━━━━━━━━━━━━━━━━━━\u001b[0m \u001b[1m39s\u001b[0m 20ms/step - loss: 0.6378   "
     ]
    },
    {
     "name": "stderr",
     "output_type": "stream",
     "text": [
      "I0000 00:00:1754078688.195525  450424 device_compiler.h:188] Compiled cluster using XLA!  This line is logged at most once for the lifetime of the process.\n"
     ]
    },
    {
     "name": "stdout",
     "output_type": "stream",
     "text": [
      "\u001b[1m2000/2000\u001b[0m \u001b[32m━━━━━━━━━━━━━━━━━━━━\u001b[0m\u001b[37m\u001b[0m \u001b[1m54s\u001b[0m 18ms/step - loss: 0.0332 - val_loss: 0.0061\n",
      "Epoch 2/50\n",
      "\u001b[1m2000/2000\u001b[0m \u001b[32m━━━━━━━━━━━━━━━━━━━━\u001b[0m\u001b[37m\u001b[0m \u001b[1m34s\u001b[0m 17ms/step - loss: 0.0056 - val_loss: 0.0050\n",
      "Epoch 3/50\n",
      "\u001b[1m2000/2000\u001b[0m \u001b[32m━━━━━━━━━━━━━━━━━━━━\u001b[0m\u001b[37m\u001b[0m \u001b[1m35s\u001b[0m 18ms/step - loss: 0.0048 - val_loss: 0.0043\n",
      "Epoch 4/50\n",
      "\u001b[1m2000/2000\u001b[0m \u001b[32m━━━━━━━━━━━━━━━━━━━━\u001b[0m\u001b[37m\u001b[0m \u001b[1m35s\u001b[0m 17ms/step - loss: 0.0043 - val_loss: 0.0043\n",
      "Epoch 5/50\n",
      "\u001b[1m2000/2000\u001b[0m \u001b[32m━━━━━━━━━━━━━━━━━━━━\u001b[0m\u001b[37m\u001b[0m \u001b[1m35s\u001b[0m 17ms/step - loss: 0.0040 - val_loss: 0.0037\n",
      "Epoch 6/50\n",
      "\u001b[1m2000/2000\u001b[0m \u001b[32m━━━━━━━━━━━━━━━━━━━━\u001b[0m\u001b[37m\u001b[0m \u001b[1m35s\u001b[0m 18ms/step - loss: 0.0038 - val_loss: 0.0036\n",
      "Epoch 7/50\n",
      "\u001b[1m2000/2000\u001b[0m \u001b[32m━━━━━━━━━━━━━━━━━━━━\u001b[0m\u001b[37m\u001b[0m \u001b[1m35s\u001b[0m 18ms/step - loss: 0.0036 - val_loss: 0.0039\n",
      "Epoch 8/50\n",
      "\u001b[1m2000/2000\u001b[0m \u001b[32m━━━━━━━━━━━━━━━━━━━━\u001b[0m\u001b[37m\u001b[0m \u001b[1m35s\u001b[0m 18ms/step - loss: 0.0035 - val_loss: 0.0042\n",
      "Epoch 9/50\n",
      "\u001b[1m2000/2000\u001b[0m \u001b[32m━━━━━━━━━━━━━━━━━━━━\u001b[0m\u001b[37m\u001b[0m \u001b[1m35s\u001b[0m 18ms/step - loss: 0.0035 - val_loss: 0.0033\n",
      "Epoch 10/50\n",
      "\u001b[1m2000/2000\u001b[0m \u001b[32m━━━━━━━━━━━━━━━━━━━━\u001b[0m\u001b[37m\u001b[0m \u001b[1m35s\u001b[0m 17ms/step - loss: 0.0033 - val_loss: 0.0032\n",
      "Epoch 11/50\n",
      "\u001b[1m2000/2000\u001b[0m \u001b[32m━━━━━━━━━━━━━━━━━━━━\u001b[0m\u001b[37m\u001b[0m \u001b[1m35s\u001b[0m 17ms/step - loss: 0.0033 - val_loss: 0.0035\n",
      "Epoch 12/50\n",
      "\u001b[1m2000/2000\u001b[0m \u001b[32m━━━━━━━━━━━━━━━━━━━━\u001b[0m\u001b[37m\u001b[0m \u001b[1m35s\u001b[0m 17ms/step - loss: 0.0032 - val_loss: 0.0034\n",
      "Epoch 13/50\n",
      "\u001b[1m2000/2000\u001b[0m \u001b[32m━━━━━━━━━━━━━━━━━━━━\u001b[0m\u001b[37m\u001b[0m \u001b[1m35s\u001b[0m 18ms/step - loss: 0.0032 - val_loss: 0.0033\n",
      "Epoch 14/50\n",
      "\u001b[1m2000/2000\u001b[0m \u001b[32m━━━━━━━━━━━━━━━━━━━━\u001b[0m\u001b[37m\u001b[0m \u001b[1m35s\u001b[0m 17ms/step - loss: 0.0032 - val_loss: 0.0032\n",
      "Epoch 15/50\n",
      "\u001b[1m2000/2000\u001b[0m \u001b[32m━━━━━━━━━━━━━━━━━━━━\u001b[0m\u001b[37m\u001b[0m \u001b[1m34s\u001b[0m 17ms/step - loss: 0.0031 - val_loss: 0.0031\n",
      "Epoch 16/50\n",
      "\u001b[1m2000/2000\u001b[0m \u001b[32m━━━━━━━━━━━━━━━━━━━━\u001b[0m\u001b[37m\u001b[0m \u001b[1m35s\u001b[0m 17ms/step - loss: 0.0031 - val_loss: 0.0031\n",
      "Epoch 17/50\n",
      "\u001b[1m2000/2000\u001b[0m \u001b[32m━━━━━━━━━━━━━━━━━━━━\u001b[0m\u001b[37m\u001b[0m \u001b[1m35s\u001b[0m 17ms/step - loss: 0.0031 - val_loss: 0.0032\n",
      "Epoch 18/50\n",
      "\u001b[1m2000/2000\u001b[0m \u001b[32m━━━━━━━━━━━━━━━━━━━━\u001b[0m\u001b[37m\u001b[0m \u001b[1m35s\u001b[0m 17ms/step - loss: 0.0031 - val_loss: 0.0032\n",
      "Epoch 19/50\n",
      "\u001b[1m2000/2000\u001b[0m \u001b[32m━━━━━━━━━━━━━━━━━━━━\u001b[0m\u001b[37m\u001b[0m \u001b[1m35s\u001b[0m 17ms/step - loss: 0.0031 - val_loss: 0.0032\n",
      "Epoch 20/50\n",
      "\u001b[1m2000/2000\u001b[0m \u001b[32m━━━━━━━━━━━━━━━━━━━━\u001b[0m\u001b[37m\u001b[0m \u001b[1m35s\u001b[0m 18ms/step - loss: 0.0031 - val_loss: 0.0032\n",
      "Epoch 21/50\n",
      "\u001b[1m2000/2000\u001b[0m \u001b[32m━━━━━━━━━━━━━━━━━━━━\u001b[0m\u001b[37m\u001b[0m \u001b[1m35s\u001b[0m 17ms/step - loss: 0.0031 - val_loss: 0.0033\n",
      "Epoch 22/50\n",
      "\u001b[1m2000/2000\u001b[0m \u001b[32m━━━━━━━━━━━━━━━━━━━━\u001b[0m\u001b[37m\u001b[0m \u001b[1m35s\u001b[0m 18ms/step - loss: 0.0031 - val_loss: 0.0031\n",
      "Epoch 23/50\n",
      "\u001b[1m2000/2000\u001b[0m \u001b[32m━━━━━━━━━━━━━━━━━━━━\u001b[0m\u001b[37m\u001b[0m \u001b[1m35s\u001b[0m 17ms/step - loss: 0.0030 - val_loss: 0.0031\n",
      "Epoch 24/50\n",
      "\u001b[1m2000/2000\u001b[0m \u001b[32m━━━━━━━━━━━━━━━━━━━━\u001b[0m\u001b[37m\u001b[0m \u001b[1m35s\u001b[0m 17ms/step - loss: 0.0030 - val_loss: 0.0031\n",
      "Epoch 25/50\n",
      "\u001b[1m2000/2000\u001b[0m \u001b[32m━━━━━━━━━━━━━━━━━━━━\u001b[0m\u001b[37m\u001b[0m \u001b[1m35s\u001b[0m 17ms/step - loss: 0.0030 - val_loss: 0.0031\n",
      "Epoch 26/50\n",
      "\u001b[1m2000/2000\u001b[0m \u001b[32m━━━━━━━━━━━━━━━━━━━━\u001b[0m\u001b[37m\u001b[0m \u001b[1m35s\u001b[0m 17ms/step - loss: 0.0030 - val_loss: 0.0032\n",
      "Epoch 27/50\n",
      "\u001b[1m2000/2000\u001b[0m \u001b[32m━━━━━━━━━━━━━━━━━━━━\u001b[0m\u001b[37m\u001b[0m \u001b[1m35s\u001b[0m 17ms/step - loss: 0.0030 - val_loss: 0.0031\n",
      "Epoch 28/50\n",
      "\u001b[1m2000/2000\u001b[0m \u001b[32m━━━━━━━━━━━━━━━━━━━━\u001b[0m\u001b[37m\u001b[0m \u001b[1m35s\u001b[0m 17ms/step - loss: 0.0030 - val_loss: 0.0030\n",
      "Epoch 29/50\n",
      "\u001b[1m2000/2000\u001b[0m \u001b[32m━━━━━━━━━━━━━━━━━━━━\u001b[0m\u001b[37m\u001b[0m \u001b[1m35s\u001b[0m 17ms/step - loss: 0.0030 - val_loss: 0.0033\n",
      "Epoch 30/50\n",
      "\u001b[1m2000/2000\u001b[0m \u001b[32m━━━━━━━━━━━━━━━━━━━━\u001b[0m\u001b[37m\u001b[0m \u001b[1m35s\u001b[0m 18ms/step - loss: 0.0030 - val_loss: 0.0030\n",
      "Epoch 31/50\n",
      "\u001b[1m2000/2000\u001b[0m \u001b[32m━━━━━━━━━━━━━━━━━━━━\u001b[0m\u001b[37m\u001b[0m \u001b[1m35s\u001b[0m 18ms/step - loss: 0.0030 - val_loss: 0.0033\n",
      "Epoch 32/50\n",
      "\u001b[1m2000/2000\u001b[0m \u001b[32m━━━━━━━━━━━━━━━━━━━━\u001b[0m\u001b[37m\u001b[0m \u001b[1m35s\u001b[0m 18ms/step - loss: 0.0030 - val_loss: 0.0031\n",
      "Epoch 33/50\n",
      "\u001b[1m2000/2000\u001b[0m \u001b[32m━━━━━━━━━━━━━━━━━━━━\u001b[0m\u001b[37m\u001b[0m \u001b[1m35s\u001b[0m 17ms/step - loss: 0.0030 - val_loss: 0.0030\n",
      "Epoch 34/50\n",
      "\u001b[1m2000/2000\u001b[0m \u001b[32m━━━━━━━━━━━━━━━━━━━━\u001b[0m\u001b[37m\u001b[0m \u001b[1m35s\u001b[0m 17ms/step - loss: 0.0030 - val_loss: 0.0030\n",
      "Epoch 35/50\n",
      "\u001b[1m2000/2000\u001b[0m \u001b[32m━━━━━━━━━━━━━━━━━━━━\u001b[0m\u001b[37m\u001b[0m \u001b[1m34s\u001b[0m 17ms/step - loss: 0.0030 - val_loss: 0.0031\n",
      "Epoch 36/50\n",
      "\u001b[1m2000/2000\u001b[0m \u001b[32m━━━━━━━━━━━━━━━━━━━━\u001b[0m\u001b[37m\u001b[0m \u001b[1m35s\u001b[0m 17ms/step - loss: 0.0030 - val_loss: 0.0031\n",
      "Epoch 37/50\n",
      "\u001b[1m2000/2000\u001b[0m \u001b[32m━━━━━━━━━━━━━━━━━━━━\u001b[0m\u001b[37m\u001b[0m \u001b[1m35s\u001b[0m 18ms/step - loss: 0.0030 - val_loss: 0.0030\n",
      "Epoch 38/50\n",
      "\u001b[1m2000/2000\u001b[0m \u001b[32m━━━━━━━━━━━━━━━━━━━━\u001b[0m\u001b[37m\u001b[0m \u001b[1m35s\u001b[0m 18ms/step - loss: 0.0030 - val_loss: 0.0030\n",
      "Epoch 39/50\n",
      "\u001b[1m2000/2000\u001b[0m \u001b[32m━━━━━━━━━━━━━━━━━━━━\u001b[0m\u001b[37m\u001b[0m \u001b[1m35s\u001b[0m 18ms/step - loss: 0.0030 - val_loss: 0.0030\n",
      "Epoch 40/50\n",
      "\u001b[1m2000/2000\u001b[0m \u001b[32m━━━━━━━━━━━━━━━━━━━━\u001b[0m\u001b[37m\u001b[0m \u001b[1m35s\u001b[0m 17ms/step - loss: 0.0030 - val_loss: 0.0031\n",
      "Epoch 41/50\n",
      "\u001b[1m2000/2000\u001b[0m \u001b[32m━━━━━━━━━━━━━━━━━━━━\u001b[0m\u001b[37m\u001b[0m \u001b[1m35s\u001b[0m 17ms/step - loss: 0.0030 - val_loss: 0.0031\n",
      "Epoch 42/50\n",
      "\u001b[1m2000/2000\u001b[0m \u001b[32m━━━━━━━━━━━━━━━━━━━━\u001b[0m\u001b[37m\u001b[0m \u001b[1m35s\u001b[0m 17ms/step - loss: 0.0030 - val_loss: 0.0032\n",
      "Epoch 43/50\n",
      "\u001b[1m2000/2000\u001b[0m \u001b[32m━━━━━━━━━━━━━━━━━━━━\u001b[0m\u001b[37m\u001b[0m \u001b[1m35s\u001b[0m 18ms/step - loss: 0.0030 - val_loss: 0.0031\n",
      "Epoch 44/50\n",
      "\u001b[1m2000/2000\u001b[0m \u001b[32m━━━━━━━━━━━━━━━━━━━━\u001b[0m\u001b[37m\u001b[0m \u001b[1m35s\u001b[0m 18ms/step - loss: 0.0029 - val_loss: 0.0030\n",
      "Epoch 45/50\n",
      "\u001b[1m2000/2000\u001b[0m \u001b[32m━━━━━━━━━━━━━━━━━━━━\u001b[0m\u001b[37m\u001b[0m \u001b[1m35s\u001b[0m 17ms/step - loss: 0.0030 - val_loss: 0.0030\n",
      "Epoch 46/50\n",
      "\u001b[1m2000/2000\u001b[0m \u001b[32m━━━━━━━━━━━━━━━━━━━━\u001b[0m\u001b[37m\u001b[0m \u001b[1m35s\u001b[0m 18ms/step - loss: 0.0029 - val_loss: 0.0030\n",
      "Epoch 47/50\n",
      "\u001b[1m2000/2000\u001b[0m \u001b[32m━━━━━━━━━━━━━━━━━━━━\u001b[0m\u001b[37m\u001b[0m \u001b[1m35s\u001b[0m 18ms/step - loss: 0.0030 - val_loss: 7.0521\n",
      "Epoch 48/50\n",
      "\u001b[1m2000/2000\u001b[0m \u001b[32m━━━━━━━━━━━━━━━━━━━━\u001b[0m\u001b[37m\u001b[0m \u001b[1m35s\u001b[0m 18ms/step - loss: 0.0029 - val_loss: 0.0032\n",
      "Epoch 49/50\n",
      "\u001b[1m2000/2000\u001b[0m \u001b[32m━━━━━━━━━━━━━━━━━━━━\u001b[0m\u001b[37m\u001b[0m \u001b[1m35s\u001b[0m 17ms/step - loss: 0.0029 - val_loss: 0.0031\n",
      "Epoch 50/50\n",
      "\u001b[1m2000/2000\u001b[0m \u001b[32m━━━━━━━━━━━━━━━━━━━━\u001b[0m\u001b[37m\u001b[0m \u001b[1m35s\u001b[0m 18ms/step - loss: 0.0029 - val_loss: 0.0031\n",
      "\u001b[1m20/20\u001b[0m \u001b[32m━━━━━━━━━━━━━━━━━━━━\u001b[0m\u001b[37m\u001b[0m \u001b[1m0s\u001b[0m 8ms/step - loss: 0.0030 \n",
      "\u001b[1m20/20\u001b[0m \u001b[32m━━━━━━━━━━━━━━━━━━━━\u001b[0m\u001b[37m\u001b[0m \u001b[1m2s\u001b[0m 9ms/step\n"
     ]
    }
   ],
   "source": [
    "# Build model\n",
    "model = build_denoising_model()\n",
    "model.compile(optimizer='adam', loss='mse')\n",
    "\n",
    "# Train the model on your data\n",
    "model.fit(x_train_rgb, y_train_rgb,\n",
    "          validation_data=(x_val_rgb, y_val_rgb),\n",
    "          batch_size=32,\n",
    "          epochs=50)\n",
    "\n",
    "# Evaluate on test set\n",
    "model.evaluate(x_test_rgb, y_test_rgb)\n",
    "\n",
    "# Predict denoised outputs\n",
    "denoised_images = model.predict(x_test_rgb)\n"
   ]
  },
  {
   "cell_type": "code",
   "execution_count": 12,
   "id": "7bbbf42c-3349-467b-a06f-557b28250d46",
   "metadata": {},
   "outputs": [],
   "source": [
    "model.save(\"Nature.keras\")"
   ]
  },
  {
   "cell_type": "code",
   "execution_count": 18,
   "id": "0b8b8047-aad2-4477-955e-2984cb726942",
   "metadata": {},
   "outputs": [
    {
     "name": "stdout",
     "output_type": "stream",
     "text": [
      "\u001b[1m1/1\u001b[0m \u001b[32m━━━━━━━━━━━━━━━━━━━━\u001b[0m\u001b[37m\u001b[0m \u001b[1m0s\u001b[0m 80ms/step\n"
     ]
    }
   ],
   "source": [
    "import matplotlib.pyplot as plt\n",
    "\n",
    "x_denoised = model.predict(x_test_rgb[0:1])[0]  # Add batch, then squeeze"
   ]
  },
  {
   "cell_type": "code",
   "execution_count": 21,
   "id": "ed674b11-453e-4ab7-9bfa-551710b202f1",
   "metadata": {},
   "outputs": [
    {
     "name": "stdout",
     "output_type": "stream",
     "text": [
      "(64, 64, 3)\n"
     ]
    }
   ],
   "source": [
    "print(x_denoised.shape)"
   ]
  },
  {
   "cell_type": "code",
   "execution_count": 26,
   "id": "0dd623a6-8dd8-46b7-a1b3-fe3226e4ca31",
   "metadata": {},
   "outputs": [
    {
     "name": "stdout",
     "output_type": "stream",
     "text": [
      "(64, 64, 3)\n",
      "(64, 64, 3)\n",
      "(64, 64, 64, 3)\n"
     ]
    }
   ],
   "source": [
    "print(x_noisy.shape)\n",
    "print(x_clean.shape)\n",
    "print(ref_d_rgb.shape)"
   ]
  },
  {
   "cell_type": "code",
   "execution_count": 11,
   "id": "99cabfa5-ca27-40b9-a466-06002644522d",
   "metadata": {},
   "outputs": [],
   "source": [
    "###################################TESTING###################################\n",
    "############# Nature #####################\n",
    "import tensorflow as tf\n",
    "@tf.keras.utils.register_keras_serializable()\n",
    "class OnesLikeLayer(tf.keras.layers.Layer):\n",
    "    def call(self, inputs):\n",
    "        return tf.ones_like(inputs)\n",
    "def ones_like_fn(a):\n",
    "    return tf.ones_like(a)\n",
    "# Now load the model\n",
    "nature_mod = tf.keras.models.load_model(\n",
    "    \"Nature.keras\",\n",
    "    custom_objects={'ones_like_fn': ones_like_fn}\n",
    ")\n",
    "\n",
    "\n",
    "from tensorflow.keras.models import load_model\n",
    "model = load_model(\"Nature.keras\")\n"
   ]
  },
  {
   "cell_type": "code",
   "execution_count": 16,
   "id": "fd7946c6-feaa-490c-b8e5-21553c408e08",
   "metadata": {},
   "outputs": [],
   "source": [
    "def encode_voxel_to_rgb(test_d, save_path='slice_scalers.npz'):\n",
    "    \"\"\"\n",
    "    Normalize each XY slice independently and encode to RGB (repeated channels).\n",
    "    Saves (min, max) for each slice for reconstruction.\n",
    "    \n",
    "    Returns:\n",
    "        rgb_volume: (64, 64, 64, 3)\n",
    "    \"\"\"\n",
    "    rgb_volume = np.zeros((64, 64, 64, 3), dtype=np.float32)\n",
    "    mins = []\n",
    "    maxs = []\n",
    "\n",
    "    for i in range(64):\n",
    "        slice_2d = test_d[i, :, :]\n",
    "        s_min = float(slice_2d.min())\n",
    "        s_max = float(slice_2d.max())\n",
    "\n",
    "        if s_max == s_min:\n",
    "            s_max = s_min + 1e-6  # Avoid divide-by-zero for flat slices\n",
    "\n",
    "        normed = (slice_2d - s_min) / (s_max - s_min)\n",
    "        rgb_volume[i, :, :, :] = np.stack([normed]*3, axis=-1)  # (64, 64, 3)\n",
    "\n",
    "        mins.append(s_min)\n",
    "        maxs.append(s_max)\n",
    "\n",
    "    #np.savez(save_path, mins=np.array(mins), maxs=np.array(maxs))\n",
    "    return rgb_volume  # shape: (64, 64, 64, 3)\n"
   ]
  },
  {
   "cell_type": "code",
   "execution_count": 20,
   "id": "4f190146-ff68-4fb3-9100-06cc2a6bdb99",
   "metadata": {},
   "outputs": [
    {
     "name": "stdout",
     "output_type": "stream",
     "text": [
      "(64, 64, 64, 3)\n",
      "(1, 64, 64, 3)\n",
      "\u001b[1m1/1\u001b[0m \u001b[32m━━━━━━━━━━━━━━━━━━━━\u001b[0m\u001b[37m\u001b[0m \u001b[1m0s\u001b[0m 94ms/step\n",
      "\u001b[1m1/1\u001b[0m \u001b[32m━━━━━━━━━━━━━━━━━━━━\u001b[0m\u001b[37m\u001b[0m \u001b[1m0s\u001b[0m 89ms/step\n"
     ]
    }
   ],
   "source": [
    "#### test file #######\n",
    "with h5py.File('/pscratch/sd/k/kberard/SCGSR/Data/diamond_1x1x1_bfd/density_data/vmc_J2/density_tot_vmc_mean_0000655360.h5', 'r') as file:\n",
    "    #print(\"Keys: %s\" % file.keys())\n",
    "    test_d = file['density'][:]\n",
    "print(encode_voxel_to_rgb(test_d).shape)\n",
    "print(x_test_rgb[0:1].shape)\n",
    "x_denoised = model.predict(x_test_rgb[0:1])[0]  # Add batch, then squeeze\n",
    "x_den_test = model.predict(encode_voxel_to_rgb(test_d)[:1][0:1])"
   ]
  },
  {
   "cell_type": "code",
   "execution_count": 25,
   "id": "0840c532-9383-40cb-a60f-39059ac6a780",
   "metadata": {},
   "outputs": [
    {
     "name": "stdout",
     "output_type": "stream",
     "text": [
      "(64, 64, 3) nosie (1, 64, 64, 3)\n"
     ]
    },
    {
     "data": {
      "image/png": "[encoded data removed]",
      "text/plain": [
       "<Figure size 1200x400 with 4 Axes>"
      ]
     },
     "metadata": {},
     "output_type": "display_data"
    }
   ],
   "source": [
    "\n",
    "\n",
    "x_noisy = x_test_rgb[0]\n",
    "x_clean = y_test_rgb[0]\n",
    "\n",
    "# --- Plot ---\n",
    "fig, axs = plt.subplots(1, 4, figsize=(12, 4))\n",
    "axs[0].imshow(ref_d_rgb[0])\n",
    "axs[0].set_title(\"Clean\")\n",
    "axs[0].axis(\"off\")\n",
    "\n",
    "axs[1].imshow(x_noisy)\n",
    "axs[1].set_title(\"Noisy (Poisson)\")\n",
    "axs[1].axis(\"off\")\n",
    "print(x_noisy.shape,\"nosie\",x_den_test.shape)\n",
    "\n",
    "axs[2].imshow(x_den_test[0])\n",
    "axs[2].set_title(\"Nature Denoised Renorm\")\n",
    "axs[2].axis(\"off\")\n",
    "\n",
    "def normalize_per_sample(x_rgb):\n",
    "        max_vals = np.max(x_rgb, axis=(1, 2), keepdims=True)\n",
    "        max_vals = np.where(max_vals == 0, 1.0, max_vals)  # Prevent div by zero\n",
    "        return np.clip(x_rgb / (max_vals * 1), 0, 1)\n",
    "\n",
    "#might need to be renormalized because max is no longer 1\n",
    "renorm_den = normalize_per_sample(x_denoised)\n",
    "axs[3].imshow(renorm_den)\n",
    "axs[3].set_title(\"Nature Denoised Renorm\")\n",
    "axs[3].axis(\"off\")\n",
    "\n",
    "plt.tight_layout()\n",
    "plt.show()\n"
   ]
  },
  {
   "cell_type": "code",
   "execution_count": 26,
   "id": "cf3f4c7f-14d9-4f79-ba46-5db0c28f511d",
   "metadata": {},
   "outputs": [
    {
     "name": "stdout",
     "output_type": "stream",
     "text": [
      "Pixel sample (0,0):\n",
      "  Clean      : [0.125 0.125 0.125]\n",
      "  Noisy      : [0.04761905 0.04761905 0.04761905]\n",
      "  Denoised   : [0.21148904 0.2114392  0.21149452]\n",
      "  Renormed   : [0.27547964 0.27541474 0.27548677]\n",
      "Clean      max: 1.0000, sum: 4299.60\n",
      "Noisy      max: 1.0000, sum: 2516.14\n",
      "Denoised   max: 0.8123, sum: 4345.17\n",
      "Renormed   max: 1.0000, sum: 6979.03\n"
     ]
    }
   ],
   "source": [
    "print(\"Pixel sample (0,0):\")\n",
    "print(\"  Clean      :\", x_clean[0,0])\n",
    "print(\"  Noisy      :\", x_noisy[0,0])\n",
    "print(\"  Denoised   :\", x_denoised[0,0])\n",
    "print(\"  Renormed   :\", renorm_den[0,0])\n",
    "\n",
    "for label, img in zip([\"Clean\", \"Noisy\", \"Denoised\", \"Renormed\"],\n",
    "                      [x_clean, x_noisy, np.clip(x_denoised, 0, 1), renorm_den]):\n",
    "    print(f\"{label:<10} max: {np.max(img):.4f}, sum: {np.sum(img):.2f}\")\n"
   ]
  },
  {
   "cell_type": "code",
   "execution_count": 29,
   "id": "43b88de0-8eee-46ed-8126-3f8b97d78b75",
   "metadata": {},
   "outputs": [],
   "source": [
    "def jensen_shannon_divergence_loss(y_true, y_pred):\n",
    "    y_t = tf.cast(y_true, tf.float32)\n",
    "    y_p = tf.cast(y_pred, tf.float32)\n",
    "\n",
    "    y_t = tf.reshape(y_t, [tf.shape(y_t)[0], -1])\n",
    "    y_p = tf.reshape(y_p, [tf.shape(y_p)[0], -1])\n",
    "\n",
    "    y_t /= tf.reduce_sum(y_t, axis=1, keepdims=True) + 1e-8\n",
    "    y_p /= tf.reduce_sum(y_p, axis=1, keepdims=True) + 1e-8\n",
    "\n",
    "    m = 0.5 * (y_t + y_p)\n",
    "\n",
    "    kl_true = tf.reduce_sum(y_t * tf.math.log((y_t + 1e-8) / (m + 1e-8)), axis=1)\n",
    "    kl_pred = tf.reduce_sum(y_p * tf.math.log((y_p + 1e-8) / (m + 1e-8)), axis=1)\n",
    "\n",
    "    jsd = 0.5 * (kl_true + kl_pred)\n",
    "\n",
    "    return tf.reduce_mean(jsd)"
   ]
  },
  {
   "cell_type": "code",
   "execution_count": 30,
   "id": "91780d0a-398d-47df-90de-023643a2645e",
   "metadata": {},
   "outputs": [
    {
     "name": "stdout",
     "output_type": "stream",
     "text": [
      "\n",
      ">>> Evaluation Metrics on BM3D Denoised Image\n",
      "2-norm (x_denoised vs ref_d_rgb): 7.2029\n",
      "2-norm (renormalized vs ref_d_rgb): 29.7510\n",
      "JSD (x_noisy vs ref_d_rgb): 0.041275\n",
      "JSD (x_denoised vs ref_d_rgb): 0.004962\n",
      "JSD (renormalized vs ref_d_rgb): 0.004962\n"
     ]
    }
   ],
   "source": [
    "# --- Evaluation ---\n",
    "print(\"\\n>>> Evaluation Metrics on BM3D Denoised Image\")\n",
    "\n",
    "# 2-norm difference (before/after renorm)\n",
    "norm_original = np.linalg.norm(x_denoised - x_clean)\n",
    "norm_renormed = np.linalg.norm(renorm_den - x_clean)\n",
    "\n",
    "print(f\"2-norm (x_denoised vs ref_d_rgb): {norm_original:.4f}\")\n",
    "print(f\"2-norm (renormalized vs ref_d_rgb): {norm_renormed:.4f}\")\n",
    "\n",
    "# Jensen-Shannon divergence setup\n",
    "import tensorflow as tf\n",
    "from tensorflow.keras.losses import KLDivergence\n",
    "\n",
    "jsd_noisy = jensen_shannon_divergence_loss(tf.convert_to_tensor(x_noisy, dtype=tf.float32),\n",
    "                                               tf.convert_to_tensor(x_clean, dtype=tf.float32))\n",
    "jsd_original = jensen_shannon_divergence_loss(tf.convert_to_tensor(x_denoised, dtype=tf.float32),\n",
    "                                               tf.convert_to_tensor(x_clean, dtype=tf.float32))\n",
    "jsd_renormed = jensen_shannon_divergence_loss(tf.convert_to_tensor(renorm_den, dtype=tf.float32),\n",
    "                                               tf.convert_to_tensor(x_clean, dtype=tf.float32))\n",
    "print(f\"JSD (x_noisy vs ref_d_rgb): {jsd_noisy.numpy():.6f}\")\n",
    "print(f\"JSD (x_denoised vs ref_d_rgb): {jsd_original.numpy():.6f}\")\n",
    "print(f\"JSD (renormalized vs ref_d_rgb): {jsd_renormed.numpy():.6f}\")"
   ]
  },
  {
   "cell_type": "code",
   "execution_count": 37,
   "id": "88c2a238-93a6-4b71-851e-a9e8e12193c3",
   "metadata": {},
   "outputs": [],
   "source": [
    "A=decode_rgb_to_voxel_batch(x_test_rgb,'scalers/x_test_scalers.npz')"
   ]
  },
  {
   "cell_type": "code",
   "execution_count": 38,
   "id": "e6dc3857-4eb7-4bfa-beba-9d4067ebf0f7",
   "metadata": {},
   "outputs": [
    {
     "name": "stdout",
     "output_type": "stream",
     "text": [
      "(10, 64, 64, 64)\n"
     ]
    }
   ],
   "source": [
    "print(A.shape)"
   ]
  },
  {
   "cell_type": "code",
   "execution_count": 39,
   "id": "8840da04-4f4a-4ec9-8bfd-bb1560635be3",
   "metadata": {},
   "outputs": [
    {
     "name": "stdout",
     "output_type": "stream",
     "text": [
      "(640, 64, 64, 3)\n"
     ]
    }
   ],
   "source": [
    "print(x_test_rgb.shape)"
   ]
  },
  {
   "cell_type": "code",
   "execution_count": null,
   "id": "741f96d8-bdbb-4037-bc1d-7ca91a774040",
   "metadata": {},
   "outputs": [],
   "source": []
  }
 ],
 "metadata": {
  "kernelspec": {
   "display_name": "SCGSR",
   "language": "python",
   "name": "scgsr"
  },
  "language_info": {
   "codemirror_mode": {
    "name": "ipython",
    "version": 3
   },
   "file_extension": ".py",
   "mimetype": "text/x-python",
   "name": "python",
   "nbconvert_exporter": "python",
   "pygments_lexer": "ipython3",
   "version": "3.12.9"
  }
 },
 "nbformat": 4,
 "nbformat_minor": 5
}
