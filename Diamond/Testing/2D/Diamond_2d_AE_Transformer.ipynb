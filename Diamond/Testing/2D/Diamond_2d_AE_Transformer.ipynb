{
 "cells": [
  {
   "cell_type": "code",
   "execution_count": 2,
   "id": "adbfdc98-ee96-40a0-8303-4e887b1f07a4",
   "metadata": {},
   "outputs": [
    {
     "name": "stderr",
     "output_type": "stream",
     "text": [
      "2025-06-17 07:04:39.840374: E external/local_xla/xla/stream_executor/cuda/cuda_fft.cc:467] Unable to register cuFFT factory: Attempting to register factory for plugin cuFFT when one has already been registered\n",
      "WARNING: All log messages before absl::InitializeLog() is called are written to STDERR\n",
      "E0000 00:00:1750169079.859328 1479790 cuda_dnn.cc:8579] Unable to register cuDNN factory: Attempting to register factory for plugin cuDNN when one has already been registered\n",
      "E0000 00:00:1750169079.864471 1479790 cuda_blas.cc:1407] Unable to register cuBLAS factory: Attempting to register factory for plugin cuBLAS when one has already been registered\n",
      "W0000 00:00:1750169079.904022 1479790 computation_placer.cc:177] computation placer already registered. Please check linkage and avoid linking the same target more than once.\n",
      "W0000 00:00:1750169079.904229 1479790 computation_placer.cc:177] computation placer already registered. Please check linkage and avoid linking the same target more than once.\n",
      "W0000 00:00:1750169079.904232 1479790 computation_placer.cc:177] computation placer already registered. Please check linkage and avoid linking the same target more than once.\n",
      "W0000 00:00:1750169079.904235 1479790 computation_placer.cc:177] computation placer already registered. Please check linkage and avoid linking the same target more than once.\n",
      "2025-06-17 07:04:39.925747: I tensorflow/core/platform/cpu_feature_guard.cc:210] This TensorFlow binary is optimized to use available CPU instructions in performance-critical operations.\n",
      "To enable the following instructions: AVX2 FMA, in other operations, rebuild TensorFlow with the appropriate compiler flags.\n"
     ]
    }
   ],
   "source": [
    "import h5py\n",
    "import numpy as np\n",
    "import os\n",
    "import matplotlib.pyplot as plt\n",
    "import os\n",
    "\n",
    "\n",
    "\n",
    "import tensorflow as tf"
   ]
  },
  {
   "cell_type": "code",
   "execution_count": 3,
   "id": "6df8481b-6820-4c14-8927-fa7563f2ade4",
   "metadata": {},
   "outputs": [
    {
     "name": "stdout",
     "output_type": "stream",
     "text": [
      "TensorFlow version: 2.19.0\n",
      "Built with CUDA: True\n",
      "Built with GPU support: True\n",
      "GPUs Available: [PhysicalDevice(name='/physical_device:GPU:0', device_type='GPU')]\n"
     ]
    }
   ],
   "source": [
    "import tensorflow as tf\n",
    "\n",
    "print(\"TensorFlow version:\", tf.__version__)\n",
    "print(\"Built with CUDA:\", tf.test.is_built_with_cuda())\n",
    "print(\"Built with GPU support:\", tf.test.is_built_with_gpu_support())\n",
    "print(\"GPUs Available:\", tf.config.list_physical_devices('GPU'))\n"
   ]
  },
  {
   "cell_type": "code",
   "execution_count": 4,
   "id": "4956e98c-e31f-41b8-af86-cd1d18e600cd",
   "metadata": {},
   "outputs": [
    {
     "name": "stdout",
     "output_type": "stream",
     "text": [
      "2.19.0\n",
      "Num GPUs Available:  1\n"
     ]
    }
   ],
   "source": [
    "import tensorflow as tf\n",
    "print(tf.__version__)\n",
    "print(\"Num GPUs Available: \", len(tf.config.list_physical_devices('GPU')))\n"
   ]
  },
  {
   "cell_type": "code",
   "execution_count": 5,
   "id": "97746b16-3d1a-4ec7-86b5-63f850e1eb52",
   "metadata": {},
   "outputs": [
    {
     "name": "stdout",
     "output_type": "stream",
     "text": [
      "/global/u2/k/kberard/SCGSR/Research/Diamond/Testing\n"
     ]
    }
   ],
   "source": [
    "current_directory = os.getcwd()\n",
    "print(current_directory)"
   ]
  },
  {
   "cell_type": "code",
   "execution_count": 6,
   "id": "3d755537-d8f0-4658-98e5-736975bba3b0",
   "metadata": {},
   "outputs": [
    {
     "name": "stdout",
     "output_type": "stream",
     "text": [
      "(64, 64, 64)\n"
     ]
    },
    {
     "data": {
      "text/plain": [
       "(64, 64)"
      ]
     },
     "execution_count": 6,
     "metadata": {},
     "output_type": "execute_result"
    }
   ],
   "source": [
    "# minorized reference\n",
    "with h5py.File('/global/u2/k/kberard/SCGSR/Research/Diamond/Data/density_tot_ref.h5', 'r') as file:\n",
    "    #print(\"Keys: %s\" % file.keys())\n",
    "    ref_d = file['density'][:]\n",
    "#print(ref_d)\n",
    "print(ref_d.shape)\n",
    "minorized_ref_d = (np.sum(ref_d,axis=2))\n",
    "minorized_ref_d.shape\n",
    "\n"
   ]
  },
  {
   "cell_type": "code",
   "execution_count": 7,
   "id": "6b9a028b-abe8-4cbc-a387-27a6755b26d1",
   "metadata": {},
   "outputs": [
    {
     "name": "stdout",
     "output_type": "stream",
     "text": [
      "Keys: <KeysViewHDF5 ['axes', 'centered', 'density', 'density_data_type', 'density_type', 'folding', 'grid', 'nelec', 'points', 'stochastic_type', 'tiling', 'weights']>\n",
      "(1024, 64, 64, 64)\n"
     ]
    },
    {
     "data": {
      "text/plain": [
       "(1024, 64, 64)"
      ]
     },
     "execution_count": 7,
     "metadata": {},
     "output_type": "execute_result"
    }
   ],
   "source": [
    "# minorized reference\n",
    "with h5py.File('/global/u2/k/kberard/SCGSR/Research/Diamond/Data/density_tot_vmc_samples_1024_0005160960.h5', 'r') as file:\n",
    "    print(\"Keys: %s\" % file.keys())\n",
    "    tot_VMC_d = file['density'][:]\n",
    "#print(ref_d)\n",
    "print(tot_VMC_d.shape)\n",
    "minorized_tot_VMC_d = (np.sum(tot_VMC_d,axis=2))\n",
    "minorized_tot_VMC_d.shape"
   ]
  },
  {
   "cell_type": "code",
   "execution_count": 8,
   "id": "7f430b1a-838c-4b09-b0ff-7dc256ad68c0",
   "metadata": {},
   "outputs": [
    {
     "name": "stdout",
     "output_type": "stream",
     "text": [
      "(124, 64, 64)\n",
      "(900, 64, 64)\n",
      "(64, 64)\n"
     ]
    }
   ],
   "source": [
    "x_test = minorized_tot_VMC_d[900:]\n",
    "print(x_test.shape)\n",
    "train_val = minorized_tot_VMC_d[:900]\n",
    "print(train_val.shape)\n",
    "sample_mean_ref = np.mean(train_val, axis=0)\n",
    "print(sample_mean_ref.shape)"
   ]
  },
  {
   "cell_type": "code",
   "execution_count": 9,
   "id": "3ab39e90-f479-4bd6-88e4-74c40fe4047f",
   "metadata": {},
   "outputs": [],
   "source": [
    "from sklearn.model_selection import train_test_split\n",
    "x_train,x_val = train_test_split(train_val, test_size=.15, train_size=.85, random_state=42, shuffle=True)"
   ]
  },
  {
   "cell_type": "code",
   "execution_count": 10,
   "id": "92540d80-130d-494e-a521-a471963eec3a",
   "metadata": {},
   "outputs": [
    {
     "name": "stdout",
     "output_type": "stream",
     "text": [
      "(124, 64, 64)\n",
      "(765, 64, 64)\n",
      "(135, 64, 64)\n"
     ]
    }
   ],
   "source": [
    "print(x_test.shape)\n",
    "print(x_train.shape)\n",
    "print(x_val.shape)"
   ]
  },
  {
   "cell_type": "code",
   "execution_count": 11,
   "id": "7f59ab54-67c1-488a-8d2b-332f20bf8529",
   "metadata": {},
   "outputs": [
    {
     "data": {
      "text/plain": [
       "'for i in range (y_test.shape[0]):\\n    y_test[i]=minorized_ref_d\\n\\nfor i in range (y_train.shape[0]):\\n    y_train[i]=minorized_ref_d\\n\\nfor i in range (y_val.shape[0]):\\n    y_val[i]=minorized_ref_d'"
      ]
     },
     "execution_count": 11,
     "metadata": {},
     "output_type": "execute_result"
    }
   ],
   "source": [
    "y_test = np.zeros((x_test.shape))\n",
    "y_train = np.zeros((x_train.shape))\n",
    "y_val = np.zeros((x_val.shape))\n",
    "\n",
    "for i in range (y_test.shape[0]):\n",
    "    y_test[i]=sample_mean_ref\n",
    "\n",
    "for i in range (y_train.shape[0]):\n",
    "    y_train[i]=sample_mean_ref\n",
    "\n",
    "for i in range (y_val.shape[0]):\n",
    "    y_val[i]=sample_mean_ref\n",
    "\n",
    "# to use DFT ref\n",
    "\"\"\"for i in range (y_test.shape[0]):\n",
    "    y_test[i]=minorized_ref_d\n",
    "\n",
    "for i in range (y_train.shape[0]):\n",
    "    y_train[i]=minorized_ref_d\n",
    "\n",
    "for i in range (y_val.shape[0]):\n",
    "    y_val[i]=minorized_ref_d\"\"\""
   ]
  },
  {
   "cell_type": "code",
   "execution_count": 15,
   "id": "9f035da2-94b3-4b60-80ac-e8f6ad5071d5",
   "metadata": {},
   "outputs": [],
   "source": [
    "# Add channel dimension\n",
    "x_train = x_train[..., np.newaxis]\n",
    "x_val   = x_val[..., np.newaxis]\n",
    "x_test  = x_test[..., np.newaxis]\n",
    "\n",
    "y_train = y_train[..., np.newaxis]\n",
    "y_val   = y_val[..., np.newaxis]\n",
    "y_test   = y_test[..., np.newaxis]"
   ]
  },
  {
   "cell_type": "code",
   "execution_count": 12,
   "id": "78cfc1b3",
   "metadata": {},
   "outputs": [
    {
     "data": {
      "text/plain": [
       "'from scipy.spatial import distance\\ndef jensen_shannon_divergence(P, Q):\\n    print(P,Q)\\n    print(type(P))\\n    P = P.flatten()\\n    Q = Q.flatten()\\n    P = P / np.sum(P)\\n    Q = Q / np.sum(Q)\\n    return (distance.jensenshannon(P,Q))**2'"
      ]
     },
     "execution_count": 12,
     "metadata": {},
     "output_type": "execute_result"
    }
   ],
   "source": [
    "# another way of computing JS\n",
    "\"\"\"from scipy.spatial import distance\n",
    "def jensen_shannon_divergence(P, Q):\n",
    "    print(P,Q)\n",
    "    print(type(P))\n",
    "    P = P.flatten()\n",
    "    Q = Q.flatten()\n",
    "    P = P / np.sum(P)\n",
    "    Q = Q / np.sum(Q)\n",
    "    return (distance.jensenshannon(P,Q))**2\"\"\""
   ]
  },
  {
   "cell_type": "code",
   "execution_count": 17,
   "id": "3809fe58-ca0f-48e8-9b81-eb5626a66d49",
   "metadata": {},
   "outputs": [],
   "source": [
    "import tensorflow as tf\n",
    "\n",
    "def jensen_shannon_divergence_loss(y_true, y_pred):\n",
    "    y_t = tf.cast(y_true, tf.float32)\n",
    "    y_p = tf.cast(y_pred, tf.float32)\n",
    "\n",
    "    y_t = tf.reshape(y_t, [tf.shape(y_t)[0], -1])\n",
    "    y_p = tf.reshape(y_p, [tf.shape(y_p)[0], -1])\n",
    "\n",
    "    y_t /= tf.reduce_sum(y_t, axis=1, keepdims=True) + 1e-8\n",
    "    y_p /= tf.reduce_sum(y_p, axis=1, keepdims=True) + 1e-8\n",
    "\n",
    "    m = 0.5 * (y_t + y_p)\n",
    "\n",
    "    kl_true = tf.reduce_sum(y_t * tf.math.log((y_t + 1e-8) / (m + 1e-8)), axis=1)\n",
    "    kl_pred = tf.reduce_sum(y_p * tf.math.log((y_p + 1e-8) / (m + 1e-8)), axis=1)\n",
    "\n",
    "    jsd = 0.5 * (kl_true + kl_pred)\n",
    "\n",
    "    return tf.reduce_mean(jsd)\n"
   ]
  },
  {
   "cell_type": "code",
   "execution_count": 14,
   "id": "f583decd",
   "metadata": {},
   "outputs": [
    {
     "name": "stderr",
     "output_type": "stream",
     "text": [
      "I0000 00:00:1750162739.748794 2251991 gpu_device.cc:2019] Created device /job:localhost/replica:0/task:0/device:GPU:0 with 34363 MB memory:  -> device: 0, name: NVIDIA A100-PCIE-40GB, pci bus id: 0000:c3:00.0, compute capability: 8.0\n"
     ]
    },
    {
     "name": "stdout",
     "output_type": "stream",
     "text": [
      "Epoch 1/100\n"
     ]
    },
    {
     "name": "stderr",
     "output_type": "stream",
     "text": [
      "WARNING: All log messages before absl::InitializeLog() is called are written to STDERR\n",
      "I0000 00:00:1750162743.357331   65100 service.cc:152] XLA service 0x7fb3d800cb40 initialized for platform CUDA (this does not guarantee that XLA will be used). Devices:\n",
      "I0000 00:00:1750162743.357682   65100 service.cc:160]   StreamExecutor device (0): NVIDIA A100-PCIE-40GB, Compute Capability 8.0\n",
      "2025-06-17 05:19:03.433094: I tensorflow/compiler/mlir/tensorflow/utils/dump_mlir_util.cc:269] disabling MLIR crash reproducer, set env var `MLIR_CRASH_REPRODUCER_DIRECTORY` to enable.\n",
      "I0000 00:00:1750162743.746686   65100 cuda_dnn.cc:529] Loaded cuDNN version 90300\n"
     ]
    },
    {
     "name": "stdout",
     "output_type": "stream",
     "text": [
      "\u001b[1m 41/153\u001b[0m \u001b[32m━━━━━\u001b[0m\u001b[37m━━━━━━━━━━━━━━━\u001b[0m \u001b[1m0s\u001b[0m 4ms/step - loss: 0.0474  "
     ]
    },
    {
     "name": "stderr",
     "output_type": "stream",
     "text": [
      "I0000 00:00:1750162746.977592   65100 device_compiler.h:188] Compiled cluster using XLA!  This line is logged at most once for the lifetime of the process.\n"
     ]
    },
    {
     "name": "stdout",
     "output_type": "stream",
     "text": [
      "\u001b[1m153/153\u001b[0m \u001b[32m━━━━━━━━━━━━━━━━━━━━\u001b[0m\u001b[37m\u001b[0m \u001b[1m7s\u001b[0m 14ms/step - loss: 0.0349 - val_loss: 1.9859e-04\n",
      "Epoch 2/100\n",
      "\u001b[1m153/153\u001b[0m \u001b[32m━━━━━━━━━━━━━━━━━━━━\u001b[0m\u001b[37m\u001b[0m \u001b[1m1s\u001b[0m 3ms/step - loss: 1.1911e-04 - val_loss: 2.7168e-05\n",
      "Epoch 3/100\n",
      "\u001b[1m153/153\u001b[0m \u001b[32m━━━━━━━━━━━━━━━━━━━━\u001b[0m\u001b[37m\u001b[0m \u001b[1m1s\u001b[0m 3ms/step - loss: 2.0553e-05 - val_loss: 8.9497e-06\n",
      "Epoch 4/100\n",
      "\u001b[1m153/153\u001b[0m \u001b[32m━━━━━━━━━━━━━━━━━━━━\u001b[0m\u001b[37m\u001b[0m \u001b[1m1s\u001b[0m 3ms/step - loss: 7.3315e-06 - val_loss: 4.0456e-06\n",
      "Epoch 5/100\n",
      "\u001b[1m153/153\u001b[0m \u001b[32m━━━━━━━━━━━━━━━━━━━━\u001b[0m\u001b[37m\u001b[0m \u001b[1m1s\u001b[0m 3ms/step - loss: 3.4531e-06 - val_loss: 2.1120e-06\n",
      "Epoch 6/100\n",
      "\u001b[1m153/153\u001b[0m \u001b[32m━━━━━━━━━━━━━━━━━━━━\u001b[0m\u001b[37m\u001b[0m \u001b[1m1s\u001b[0m 3ms/step - loss: 1.8525e-06 - val_loss: 1.2483e-06\n",
      "Epoch 7/100\n",
      "\u001b[1m153/153\u001b[0m \u001b[32m━━━━━━━━━━━━━━━━━━━━\u001b[0m\u001b[37m\u001b[0m \u001b[1m1s\u001b[0m 3ms/step - loss: 1.1104e-06 - val_loss: 7.7256e-07\n",
      "Epoch 8/100\n",
      "\u001b[1m153/153\u001b[0m \u001b[32m━━━━━━━━━━━━━━━━━━━━\u001b[0m\u001b[37m\u001b[0m \u001b[1m1s\u001b[0m 3ms/step - loss: 6.9460e-07 - val_loss: 5.0470e-07\n",
      "Epoch 9/100\n",
      "\u001b[1m153/153\u001b[0m \u001b[32m━━━━━━━━━━━━━━━━━━━━\u001b[0m\u001b[37m\u001b[0m \u001b[1m1s\u001b[0m 3ms/step - loss: 4.6184e-07 - val_loss: 3.5338e-07\n",
      "Epoch 10/100\n",
      "\u001b[1m153/153\u001b[0m \u001b[32m━━━━━━━━━━━━━━━━━━━━\u001b[0m\u001b[37m\u001b[0m \u001b[1m1s\u001b[0m 3ms/step - loss: 3.2482e-07 - val_loss: 2.5266e-07\n",
      "Epoch 11/100\n",
      "\u001b[1m153/153\u001b[0m \u001b[32m━━━━━━━━━━━━━━━━━━━━\u001b[0m\u001b[37m\u001b[0m \u001b[1m1s\u001b[0m 4ms/step - loss: 2.3520e-07 - val_loss: 1.8758e-07\n",
      "Epoch 12/100\n",
      "\u001b[1m153/153\u001b[0m \u001b[32m━━━━━━━━━━━━━━━━━━━━\u001b[0m\u001b[37m\u001b[0m \u001b[1m1s\u001b[0m 3ms/step - loss: 1.7370e-07 - val_loss: 1.4020e-07\n",
      "Epoch 13/100\n",
      "\u001b[1m153/153\u001b[0m \u001b[32m━━━━━━━━━━━━━━━━━━━━\u001b[0m\u001b[37m\u001b[0m \u001b[1m1s\u001b[0m 3ms/step - loss: 1.2913e-07 - val_loss: 1.0376e-07\n",
      "Epoch 14/100\n",
      "\u001b[1m153/153\u001b[0m \u001b[32m━━━━━━━━━━━━━━━━━━━━\u001b[0m\u001b[37m\u001b[0m \u001b[1m1s\u001b[0m 4ms/step - loss: 9.8377e-08 - val_loss: 8.0757e-08\n",
      "Epoch 15/100\n",
      "\u001b[1m153/153\u001b[0m \u001b[32m━━━━━━━━━━━━━━━━━━━━\u001b[0m\u001b[37m\u001b[0m \u001b[1m1s\u001b[0m 3ms/step - loss: 7.7449e-08 - val_loss: 6.7010e-08\n",
      "Epoch 16/100\n",
      "\u001b[1m153/153\u001b[0m \u001b[32m━━━━━━━━━━━━━━━━━━━━\u001b[0m\u001b[37m\u001b[0m \u001b[1m1s\u001b[0m 4ms/step - loss: 6.3023e-08 - val_loss: 5.5791e-08\n",
      "Epoch 17/100\n",
      "\u001b[1m153/153\u001b[0m \u001b[32m━━━━━━━━━━━━━━━━━━━━\u001b[0m\u001b[37m\u001b[0m \u001b[1m1s\u001b[0m 4ms/step - loss: 5.2284e-08 - val_loss: 4.3506e-08\n",
      "Epoch 18/100\n",
      "\u001b[1m153/153\u001b[0m \u001b[32m━━━━━━━━━━━━━━━━━━━━\u001b[0m\u001b[37m\u001b[0m \u001b[1m1s\u001b[0m 3ms/step - loss: 4.1997e-08 - val_loss: 3.9388e-08\n",
      "Epoch 19/100\n",
      "\u001b[1m153/153\u001b[0m \u001b[32m━━━━━━━━━━━━━━━━━━━━\u001b[0m\u001b[37m\u001b[0m \u001b[1m1s\u001b[0m 4ms/step - loss: 3.8162e-08 - val_loss: 3.0838e-08\n",
      "Epoch 20/100\n",
      "\u001b[1m153/153\u001b[0m \u001b[32m━━━━━━━━━━━━━━━━━━━━\u001b[0m\u001b[37m\u001b[0m \u001b[1m1s\u001b[0m 6ms/step - loss: 2.8881e-08 - val_loss: 2.5995e-08\n",
      "Epoch 21/100\n",
      "\u001b[1m153/153\u001b[0m \u001b[32m━━━━━━━━━━━━━━━━━━━━\u001b[0m\u001b[37m\u001b[0m \u001b[1m1s\u001b[0m 5ms/step - loss: 2.7152e-08 - val_loss: 2.8111e-08\n",
      "Epoch 22/100\n",
      "\u001b[1m153/153\u001b[0m \u001b[32m━━━━━━━━━━━━━━━━━━━━\u001b[0m\u001b[37m\u001b[0m \u001b[1m1s\u001b[0m 3ms/step - loss: 2.3162e-08 - val_loss: 2.1184e-08\n",
      "Epoch 23/100\n",
      "\u001b[1m153/153\u001b[0m \u001b[32m━━━━━━━━━━━━━━━━━━━━\u001b[0m\u001b[37m\u001b[0m \u001b[1m1s\u001b[0m 4ms/step - loss: 1.8039e-08 - val_loss: 1.3747e-08\n",
      "Epoch 24/100\n",
      "\u001b[1m153/153\u001b[0m \u001b[32m━━━━━━━━━━━━━━━━━━━━\u001b[0m\u001b[37m\u001b[0m \u001b[1m1s\u001b[0m 4ms/step - loss: 1.4761e-08 - val_loss: 1.2606e-08\n",
      "Epoch 25/100\n",
      "\u001b[1m153/153\u001b[0m \u001b[32m━━━━━━━━━━━━━━━━━━━━\u001b[0m\u001b[37m\u001b[0m \u001b[1m1s\u001b[0m 4ms/step - loss: 1.2551e-08 - val_loss: 1.1849e-08\n",
      "Epoch 26/100\n",
      "\u001b[1m153/153\u001b[0m \u001b[32m━━━━━━━━━━━━━━━━━━━━\u001b[0m\u001b[37m\u001b[0m \u001b[1m1s\u001b[0m 3ms/step - loss: 1.1090e-08 - val_loss: 9.6639e-09\n",
      "Epoch 27/100\n",
      "\u001b[1m153/153\u001b[0m \u001b[32m━━━━━━━━━━━━━━━━━━━━\u001b[0m\u001b[37m\u001b[0m \u001b[1m1s\u001b[0m 4ms/step - loss: 1.0075e-08 - val_loss: 1.0108e-08\n",
      "Epoch 28/100\n",
      "\u001b[1m153/153\u001b[0m \u001b[32m━━━━━━━━━━━━━━━━━━━━\u001b[0m\u001b[37m\u001b[0m \u001b[1m1s\u001b[0m 4ms/step - loss: 1.3937e-08 - val_loss: 1.4452e-08\n",
      "Epoch 29/100\n",
      "\u001b[1m153/153\u001b[0m \u001b[32m━━━━━━━━━━━━━━━━━━━━\u001b[0m\u001b[37m\u001b[0m \u001b[1m1s\u001b[0m 3ms/step - loss: 1.6840e-08 - val_loss: 1.1111e-08\n",
      "Epoch 30/100\n",
      "\u001b[1m153/153\u001b[0m \u001b[32m━━━━━━━━━━━━━━━━━━━━\u001b[0m\u001b[37m\u001b[0m \u001b[1m1s\u001b[0m 3ms/step - loss: 8.4572e-09 - val_loss: 8.2164e-09\n",
      "Epoch 31/100\n",
      "\u001b[1m153/153\u001b[0m \u001b[32m━━━━━━━━━━━━━━━━━━━━\u001b[0m\u001b[37m\u001b[0m \u001b[1m1s\u001b[0m 3ms/step - loss: 9.2521e-09 - val_loss: 7.1496e-09\n",
      "Epoch 32/100\n",
      "\u001b[1m153/153\u001b[0m \u001b[32m━━━━━━━━━━━━━━━━━━━━\u001b[0m\u001b[37m\u001b[0m \u001b[1m1s\u001b[0m 3ms/step - loss: 9.3281e-09 - val_loss: 8.1797e-09\n",
      "Epoch 33/100\n",
      "\u001b[1m153/153\u001b[0m \u001b[32m━━━━━━━━━━━━━━━━━━━━\u001b[0m\u001b[37m\u001b[0m \u001b[1m1s\u001b[0m 4ms/step - loss: 8.1507e-09 - val_loss: 7.3504e-09\n",
      "Epoch 34/100\n",
      "\u001b[1m153/153\u001b[0m \u001b[32m━━━━━━━━━━━━━━━━━━━━\u001b[0m\u001b[37m\u001b[0m \u001b[1m1s\u001b[0m 3ms/step - loss: 6.8007e-09 - val_loss: 6.9648e-09\n",
      "Epoch 35/100\n",
      "\u001b[1m153/153\u001b[0m \u001b[32m━━━━━━━━━━━━━━━━━━━━\u001b[0m\u001b[37m\u001b[0m \u001b[1m1s\u001b[0m 3ms/step - loss: 8.8062e-09 - val_loss: 1.9439e-08\n",
      "Epoch 36/100\n",
      "\u001b[1m153/153\u001b[0m \u001b[32m━━━━━━━━━━━━━━━━━━━━\u001b[0m\u001b[37m\u001b[0m \u001b[1m1s\u001b[0m 3ms/step - loss: 1.5649e-08 - val_loss: 7.1103e-09\n",
      "Epoch 37/100\n",
      "\u001b[1m153/153\u001b[0m \u001b[32m━━━━━━━━━━━━━━━━━━━━\u001b[0m\u001b[37m\u001b[0m \u001b[1m1s\u001b[0m 3ms/step - loss: 1.2352e-08 - val_loss: 1.9998e-08\n",
      "Epoch 38/100\n",
      "\u001b[1m153/153\u001b[0m \u001b[32m━━━━━━━━━━━━━━━━━━━━\u001b[0m\u001b[37m\u001b[0m \u001b[1m1s\u001b[0m 3ms/step - loss: 2.1520e-08 - val_loss: 7.2072e-09\n",
      "Epoch 39/100\n",
      "\u001b[1m153/153\u001b[0m \u001b[32m━━━━━━━━━━━━━━━━━━━━\u001b[0m\u001b[37m\u001b[0m \u001b[1m1s\u001b[0m 3ms/step - loss: 1.2013e-08 - val_loss: 1.7570e-08\n",
      "Epoch 40/100\n",
      "\u001b[1m153/153\u001b[0m \u001b[32m━━━━━━━━━━━━━━━━━━━━\u001b[0m\u001b[37m\u001b[0m \u001b[1m1s\u001b[0m 5ms/step - loss: 9.2818e-09 - val_loss: 4.9155e-09\n",
      "Epoch 41/100\n",
      "\u001b[1m153/153\u001b[0m \u001b[32m━━━━━━━━━━━━━━━━━━━━\u001b[0m\u001b[37m\u001b[0m \u001b[1m1s\u001b[0m 6ms/step - loss: 2.6972e-08 - val_loss: 4.1625e-08\n",
      "Epoch 42/100\n",
      "\u001b[1m153/153\u001b[0m \u001b[32m━━━━━━━━━━━━━━━━━━━━\u001b[0m\u001b[37m\u001b[0m \u001b[1m1s\u001b[0m 5ms/step - loss: 4.8355e-08 - val_loss: 9.4091e-08\n",
      "Epoch 43/100\n",
      "\u001b[1m153/153\u001b[0m \u001b[32m━━━━━━━━━━━━━━━━━━━━\u001b[0m\u001b[37m\u001b[0m \u001b[1m1s\u001b[0m 3ms/step - loss: 2.2128e-08 - val_loss: 3.3398e-08\n",
      "Epoch 44/100\n",
      "\u001b[1m153/153\u001b[0m \u001b[32m━━━━━━━━━━━━━━━━━━━━\u001b[0m\u001b[37m\u001b[0m \u001b[1m1s\u001b[0m 3ms/step - loss: 2.4997e-08 - val_loss: 6.9466e-09\n",
      "Epoch 45/100\n",
      "\u001b[1m153/153\u001b[0m \u001b[32m━━━━━━━━━━━━━━━━━━━━\u001b[0m\u001b[37m\u001b[0m \u001b[1m1s\u001b[0m 3ms/step - loss: 4.7199e-08 - val_loss: 4.5831e-08\n",
      "Epoch 46/100\n",
      "\u001b[1m153/153\u001b[0m \u001b[32m━━━━━━━━━━━━━━━━━━━━\u001b[0m\u001b[37m\u001b[0m \u001b[1m1s\u001b[0m 4ms/step - loss: 3.4954e-08 - val_loss: 1.5169e-08\n",
      "Epoch 47/100\n",
      "\u001b[1m153/153\u001b[0m \u001b[32m━━━━━━━━━━━━━━━━━━━━\u001b[0m\u001b[37m\u001b[0m \u001b[1m1s\u001b[0m 4ms/step - loss: 3.5309e-08 - val_loss: 3.1336e-08\n",
      "Epoch 48/100\n",
      "\u001b[1m153/153\u001b[0m \u001b[32m━━━━━━━━━━━━━━━━━━━━\u001b[0m\u001b[37m\u001b[0m \u001b[1m1s\u001b[0m 3ms/step - loss: 2.5493e-08 - val_loss: 9.9914e-09\n",
      "Epoch 49/100\n",
      "\u001b[1m153/153\u001b[0m \u001b[32m━━━━━━━━━━━━━━━━━━━━\u001b[0m\u001b[37m\u001b[0m \u001b[1m1s\u001b[0m 3ms/step - loss: 2.5515e-08 - val_loss: 3.6691e-07\n",
      "Epoch 50/100\n",
      "\u001b[1m153/153\u001b[0m \u001b[32m━━━━━━━━━━━━━━━━━━━━\u001b[0m\u001b[37m\u001b[0m \u001b[1m1s\u001b[0m 3ms/step - loss: 1.5697e-07 - val_loss: 6.0997e-09\n",
      "\u001b[1m1/1\u001b[0m \u001b[32m━━━━━━━━━━━━━━━━━━━━\u001b[0m\u001b[37m\u001b[0m \u001b[1m1s\u001b[0m 550ms/step\n"
     ]
    },
    {
     "data": {
      "image/png": "[encoded data removed]",
      "text/plain": [
       "<Figure size 1200x400 with 6 Axes>"
      ]
     },
     "metadata": {},
     "output_type": "display_data"
    }
   ],
   "source": [
    "import numpy as np\n",
    "import tensorflow as tf\n",
    "from tensorflow.keras import layers, models, callbacks\n",
    "import matplotlib.pyplot as plt\n",
    "\n",
    "\n",
    "\n",
    "# --- DAE Definition with Channel Dimension Support ---\n",
    "def create_dae(input_shape):\n",
    "    def renormalize(x):\n",
    "        x_sum = tf.reduce_sum(x, axis=[1, 2, 3], keepdims=True)\n",
    "        x = x / (x_sum + 1e-8) * 8.0\n",
    "        return x\n",
    "    flat_dim = np.prod(input_shape)\n",
    "    model = tf.keras.Sequential([\n",
    "        layers.Input(shape=input_shape),\n",
    "        layers.Flatten(),\n",
    "        \n",
    "        # Encoder\n",
    "        layers.Dense(64, activation='relu'),\n",
    "        layers.Dense(32, activation='relu'),\n",
    "        layers.Dense(16, activation='relu'),\n",
    "        \n",
    "        # Decoder\n",
    "        layers.Dense(64, activation='relu'),\n",
    "        layers.Dense(32, activation='relu'),\n",
    "        layers.Dense(flat_dim, activation='sigmoid'),\n",
    "        layers.Reshape(target_shape=input_shape),\n",
    "        layers.Lambda(renormalize)\n",
    "    ])\n",
    "    return model\n",
    "\n",
    "# --- Main Execution ---\n",
    "if __name__ == '__main__':\n",
    "    input_shape = (64, 64, 1)\n",
    "\n",
    "\n",
    "    dae = create_dae(input_shape)\n",
    "    # change loss to JS div\n",
    "    dae.compile(optimizer='adam', loss=jensen_shannon_divergence_loss)\n",
    "\n",
    "    early_stop = callbacks.EarlyStopping(monitor='val_loss', patience=10, restore_best_weights=True)\n",
    "    dae.fit(x_train, y_train,\n",
    "            validation_data=(x_val, y_val),\n",
    "            epochs=100,\n",
    "            batch_size=5,\n",
    "            callbacks=[early_stop],\n",
    "            verbose=1)\n",
    "\n",
    "    # --- Predict and Evaluate ---\n",
    "    i = 0\n",
    "    denoised_norm = dae.predict(x_test[i:i+1])[0, ..., 0]\n",
    "    denoised = denoised_norm\n",
    "    noisy_input = x_test[i, ..., 0]\n",
    "    true_clean = y_test\n",
    "\n",
    "    # --- Plot ---\n",
    "    plt.figure(figsize=(12, 4))\n",
    "\n",
    "    plt.subplot(1, 3, 1)\n",
    "    plt.imshow(noisy_input, cmap='viridis')\n",
    "    plt.title(\"Noisy Input\")\n",
    "    plt.colorbar()\n",
    "\n",
    "    plt.subplot(1, 3, 2)\n",
    "    plt.imshow(denoised, cmap='viridis')\n",
    "    plt.title(\"Denoised Output\")\n",
    "    plt.colorbar()\n",
    "\n",
    "    plt.subplot(1, 3, 3)\n",
    "    plt.imshow(true_clean[0,:,:,0], cmap='viridis')\n",
    "    plt.title(\"Clean Target\")\n",
    "    plt.colorbar()\n",
    "\n",
    "    plt.tight_layout()\n",
    "    plt.show()\n",
    "\n",
    "\n",
    "    \n",
    "    "
   ]
  },
  {
   "cell_type": "code",
   "execution_count": 15,
   "id": "1f69fe5b",
   "metadata": {},
   "outputs": [
    {
     "name": "stdout",
     "output_type": "stream",
     "text": [
      "0.00018603075729815274\n",
      "0.1465650367842726\n",
      "0.00018897609022625796\n",
      "0.1465650367842726\n"
     ]
    }
   ],
   "source": [
    "# norm check after denosing and check that the norm of the denormalized y is the same as the refernce \n",
    "print(np.linalg.norm(denoised-true_clean[0,:,:,0]))\n",
    "print(np.linalg.norm(true_clean[0,:,:,0]))\n",
    "print(np.linalg.norm(denoised-minorized_ref_d))\n",
    "\n",
    "#print(true_clean)\n",
    "print(np.linalg.norm(y_test[0]))"
   ]
  },
  {
   "cell_type": "code",
   "execution_count": 16,
   "id": "148351b9",
   "metadata": {},
   "outputs": [
    {
     "name": "stdout",
     "output_type": "stream",
     "text": [
      "[[0.00336325 0.00360994 0.00388201 ... 0.00295713 0.00303012 0.00316455]\n",
      " [0.00361107 0.00387596 0.00415099 ... 0.00311211 0.00321911 0.00338715]\n",
      " [0.00387982 0.00415024 0.00441452 ... 0.00330125 0.00344222 0.00363792]\n",
      " ...\n",
      " [0.00295578 0.00311345 0.00330085 ... 0.00271778 0.00276567 0.00284225]\n",
      " [0.00303053 0.00321949 0.00344136 ... 0.00276501 0.00281069 0.0028947 ]\n",
      " [0.00316348 0.00338725 0.00363907 ... 0.00284276 0.00289351 0.00299824]]\n"
     ]
    }
   ],
   "source": [
    "print(denoised)\n"
   ]
  },
  {
   "cell_type": "code",
   "execution_count": 17,
   "id": "a16382e1",
   "metadata": {},
   "outputs": [
    {
     "name": "stdout",
     "output_type": "stream",
     "text": [
      "[[0.00335897 0.00360506 0.0038763  ... 0.00295437 0.00302717 0.00316067]\n",
      " [0.003606   0.00387001 0.00414452 ... 0.00310887 0.00321549 0.00338272]\n",
      " [0.00387392 0.00414361 0.00440738 ... 0.00329717 0.00343779 0.00363266]\n",
      " ...\n",
      " [0.00295282 0.00311034 0.00329691 ... 0.00271579 0.00276383 0.00284006]\n",
      " [0.0030275  0.00321572 0.00343687 ... 0.00276296 0.00280839 0.00289216]\n",
      " [0.00315997 0.00338295 0.00363385 ... 0.00284034 0.00289105 0.00299542]]\n"
     ]
    }
   ],
   "source": [
    "print(true_clean[0,:,:,0])"
   ]
  },
  {
   "cell_type": "code",
   "execution_count": 18,
   "id": "e45d6655",
   "metadata": {},
   "outputs": [
    {
     "name": "stdout",
     "output_type": "stream",
     "text": [
      "[[0.00336817 0.00359332 0.00387409 ... 0.00295352 0.00304323 0.00310214]\n",
      " [0.00363091 0.00386033 0.00415078 ... 0.00308644 0.0031901  0.00339762]\n",
      " [0.00384037 0.00419592 0.00442088 ... 0.00329687 0.00341836 0.00364176]\n",
      " ...\n",
      " [0.00296766 0.00313701 0.00330249 ... 0.00267179 0.00276092 0.00281963]\n",
      " [0.00304827 0.00318332 0.00342785 ... 0.00277196 0.00280762 0.00284773]\n",
      " [0.00313643 0.00340111 0.00362394 ... 0.00288958 0.00290256 0.00295895]]\n",
      "1.3356941478415152e-05\n"
     ]
    }
   ],
   "source": [
    "# check norm before denoising \n",
    "print(x_test[0,:,:,0])\n",
    "print(np.linalg.norm(x_test[0,:,:,0])-np.linalg.norm(true_clean[0,:,:,0]))"
   ]
  },
  {
   "cell_type": "code",
   "execution_count": 19,
   "id": "8d63e856-1f91-4a9b-9c7a-1d15a39ad38a",
   "metadata": {},
   "outputs": [
    {
     "name": "stdout",
     "output_type": "stream",
     "text": [
      "(124, 64, 64, 1)\n"
     ]
    }
   ],
   "source": [
    "print(x_test.shape)"
   ]
  },
  {
   "cell_type": "code",
   "execution_count": 20,
   "id": "fc24e880",
   "metadata": {},
   "outputs": [
    {
     "name": "stdout",
     "output_type": "stream",
     "text": [
      "(124, 64, 64)\n",
      "\u001b[1m4/4\u001b[0m \u001b[32m━━━━━━━━━━━━━━━━━━━━\u001b[0m\u001b[37m\u001b[0m \u001b[1m3s\u001b[0m 468ms/step\n",
      "DAE JSD (denoised vs. clean): tf.Tensor(2.363832e-09, shape=(), dtype=float32)\n",
      "DAE JSD (noise vs. clean): tf.Tensor(1.3202337e-05, shape=(), dtype=float32)\n",
      "\u001b[1m4/4\u001b[0m \u001b[32m━━━━━━━━━━━━━━━━━━━━\u001b[0m\u001b[37m\u001b[0m \u001b[1m0s\u001b[0m 14ms/step\n",
      "DAE JSD (denoised vs. dft): tf.Tensor(1.6362339e-08, shape=(), dtype=float32)\n",
      "mean: tf.Tensor(1.232427e-07, shape=(), dtype=float32)\n",
      "\n",
      "\u001b[1m4/4\u001b[0m \u001b[32m━━━━━━━━━━━━━━━━━━━━\u001b[0m\u001b[37m\u001b[0m \u001b[1m0s\u001b[0m 18ms/step\n",
      "DAE JSD (denoised vs. dft): tf.Tensor(1.7751711e-08, shape=(), dtype=float32)\n",
      "\n",
      "\u001b[1m1/1\u001b[0m \u001b[32m━━━━━━━━━━━━━━━━━━━━\u001b[0m\u001b[37m\u001b[0m \u001b[1m0s\u001b[0m 64ms/step\n",
      "mean_out: tf.Tensor(3.047348e-07, shape=(), dtype=float32)\n"
     ]
    }
   ],
   "source": [
    "\n",
    "y_dft = np.zeros((len(x_test),64,64))\n",
    "\n",
    "for i in range (y_dft.shape[0]):\n",
    "    y_dft[i]=minorized_ref_d\n",
    "print(y_dft.shape)\n",
    "#check divergence of denoised vs not denoised matrix\n",
    "print(\"DAE JSD (denoised vs. clean):\", jensen_shannon_divergence_loss(dae.predict(x_test.copy()), y_test.copy()))\n",
    "print(\"DAE JSD (noise vs. clean):\", jensen_shannon_divergence_loss(x_test.copy(), y_test.copy()))\n",
    "print(\"DAE JSD (denoised vs. dft):\", jensen_shannon_divergence_loss(dae.predict(x_test.copy()), y_dft.copy()))\n",
    "print(\"mean:\", jensen_shannon_divergence_loss(np.mean(x_test.copy(),axis=0), y_dft[0].copy()))\n",
    "print()\n",
    "print(\"DAE JSD (denoised vs. dft):\", jensen_shannon_divergence_loss(np.mean(dae.predict(x_test.copy()),\n",
    "                                                                            axis=0), y_dft[0].copy()))\n",
    "print()\n",
    "mean_pred = dae.predict(np.mean(x_test.copy(),axis=0).reshape(1,64,64,1))\n",
    "\n",
    "                        \n",
    "print(\"mean_out:\", jensen_shannon_divergence_loss(np.squeeze(mean_pred), y_dft[0].copy()))\n"
   ]
  },
  {
   "cell_type": "code",
   "execution_count": 21,
   "id": "04eb1011-b3a6-489e-bfe7-9d45aec3ed3f",
   "metadata": {},
   "outputs": [
    {
     "name": "stdout",
     "output_type": "stream",
     "text": [
      "mean: tf.Tensor(1.232427e-07, shape=(), dtype=float32)\n",
      "DAE JSD (noise vs. dft): tf.Tensor(1.3187233e-05, shape=(), dtype=float32)\n",
      "\u001b[1m4/4\u001b[0m \u001b[32m━━━━━━━━━━━━━━━━━━━━\u001b[0m\u001b[37m\u001b[0m \u001b[1m0s\u001b[0m 15ms/step\n",
      "DAE JSD (denoised vs. dft): tf.Tensor(1.6362339e-08, shape=(), dtype=float32)\n"
     ]
    }
   ],
   "source": [
    "#nooise vs dft\n",
    "# denoised vs dft\n",
    "print(\"mean:\", jensen_shannon_divergence_loss(np.mean(x_test.copy(),axis=0), y_dft[0].copy()))\n",
    "print(\"DAE JSD (noise vs. dft):\", jensen_shannon_divergence_loss(x_test.copy(), y_dft.copy()))\n",
    "print(\"DAE JSD (denoised vs. dft):\", jensen_shannon_divergence_loss(dae.predict(x_test.copy()), y_dft.copy()))\n"
   ]
  },
  {
   "cell_type": "code",
   "execution_count": 22,
   "id": "997b5190-341c-487f-988c-42c71bbd634e",
   "metadata": {},
   "outputs": [
    {
     "name": "stdout",
     "output_type": "stream",
     "text": [
      "(64, 64)\n",
      "(64, 64)\n",
      "mean: tf.Tensor(1.5119305e-08, shape=(), dtype=float32)\n",
      "8.163265306122451\n"
     ]
    }
   ],
   "source": [
    "a = .35\n",
    "x_m = np.squeeze(np.mean(x_test.copy(),axis=0))\n",
    "print(x_m.shape)\n",
    "print(y_dft[0].shape)\n",
    "print(\"mean:\", jensen_shannon_divergence_loss(a*x_m+(1-a)*y_dft[0], y_dft[0].copy()))\n",
    "#print(\"mean:\", jensen_shannon_divergence_loss((1-a)*np.mean(x_test.copy(),axis=0)+a*y_dft[0].copy(), y_dft[0].copy()))\n",
    "print(1/a**2)"
   ]
  },
  {
   "cell_type": "code",
   "execution_count": 23,
   "id": "e4a10f2f",
   "metadata": {},
   "outputs": [
    {
     "name": "stdout",
     "output_type": "stream",
     "text": [
      "number of electron is should = 8 8.0\n"
     ]
    }
   ],
   "source": [
    "#check the number of electrons\n",
    "# need to ensure this is kept true throught taining\n",
    "print(\"number of electron is should = 8\",np.sum(denoised.sum(axis=1)))\n"
   ]
  },
  {
   "cell_type": "code",
   "execution_count": null,
   "id": "d90df8c3",
   "metadata": {},
   "outputs": [],
   "source": []
  },
  {
   "cell_type": "code",
   "execution_count": 37,
   "id": "42f23853",
   "metadata": {},
   "outputs": [
    {
     "name": "stdout",
     "output_type": "stream",
     "text": [
      "Epoch 1/100\n",
      "\u001b[1m39/39\u001b[0m \u001b[32m━━━━━━━━━━━━━━━━━━━━\u001b[0m\u001b[37m\u001b[0m \u001b[1m5s\u001b[0m 66ms/step - loss: 0.0997 - val_loss: 0.0325\n",
      "Epoch 2/100\n",
      "\u001b[1m39/39\u001b[0m \u001b[32m━━━━━━━━━━━━━━━━━━━━\u001b[0m\u001b[37m\u001b[0m \u001b[1m1s\u001b[0m 18ms/step - loss: 0.0305 - val_loss: 0.0079\n",
      "Epoch 3/100\n",
      "\u001b[1m39/39\u001b[0m \u001b[32m━━━━━━━━━━━━━━━━━━━━\u001b[0m\u001b[37m\u001b[0m \u001b[1m1s\u001b[0m 9ms/step - loss: 0.0023 - val_loss: 8.2352e-04\n",
      "Epoch 4/100\n",
      "\u001b[1m39/39\u001b[0m \u001b[32m━━━━━━━━━━━━━━━━━━━━\u001b[0m\u001b[37m\u001b[0m \u001b[1m0s\u001b[0m 7ms/step - loss: 7.2966e-04 - val_loss: 5.8616e-04\n",
      "Epoch 5/100\n",
      "\u001b[1m39/39\u001b[0m \u001b[32m━━━━━━━━━━━━━━━━━━━━\u001b[0m\u001b[37m\u001b[0m \u001b[1m0s\u001b[0m 7ms/step - loss: 5.6981e-04 - val_loss: 5.3128e-04\n",
      "Epoch 6/100\n",
      "\u001b[1m39/39\u001b[0m \u001b[32m━━━━━━━━━━━━━━━━━━━━\u001b[0m\u001b[37m\u001b[0m \u001b[1m1s\u001b[0m 13ms/step - loss: 5.2253e-04 - val_loss: 5.0066e-04\n",
      "Epoch 7/100\n",
      "\u001b[1m39/39\u001b[0m \u001b[32m━━━━━━━━━━━━━━━━━━━━\u001b[0m\u001b[37m\u001b[0m \u001b[1m0s\u001b[0m 8ms/step - loss: 4.9559e-04 - val_loss: 4.8176e-04\n",
      "Epoch 8/100\n",
      "\u001b[1m39/39\u001b[0m \u001b[32m━━━━━━━━━━━━━━━━━━━━\u001b[0m\u001b[37m\u001b[0m \u001b[1m1s\u001b[0m 15ms/step - loss: 4.7798e-04 - val_loss: 4.6721e-04\n",
      "Epoch 9/100\n",
      "\u001b[1m39/39\u001b[0m \u001b[32m━━━━━━━━━━━━━━━━━━━━\u001b[0m\u001b[37m\u001b[0m \u001b[1m0s\u001b[0m 7ms/step - loss: 4.6403e-04 - val_loss: 4.5490e-04\n",
      "Epoch 10/100\n",
      "\u001b[1m39/39\u001b[0m \u001b[32m━━━━━━━━━━━━━━━━━━━━\u001b[0m\u001b[37m\u001b[0m \u001b[1m0s\u001b[0m 8ms/step - loss: 4.5211e-04 - val_loss: 4.4395e-04\n",
      "Epoch 11/100\n",
      "\u001b[1m39/39\u001b[0m \u001b[32m━━━━━━━━━━━━━━━━━━━━\u001b[0m\u001b[37m\u001b[0m \u001b[1m0s\u001b[0m 7ms/step - loss: 4.4141e-04 - val_loss: 4.3402e-04\n",
      "Epoch 12/100\n",
      "\u001b[1m39/39\u001b[0m \u001b[32m━━━━━━━━━━━━━━━━━━━━\u001b[0m\u001b[37m\u001b[0m \u001b[1m0s\u001b[0m 7ms/step - loss: 4.3167e-04 - val_loss: 4.2478e-04\n",
      "Epoch 13/100\n",
      "\u001b[1m39/39\u001b[0m \u001b[32m━━━━━━━━━━━━━━━━━━━━\u001b[0m\u001b[37m\u001b[0m \u001b[1m0s\u001b[0m 7ms/step - loss: 4.2261e-04 - val_loss: 4.1630e-04\n",
      "Epoch 14/100\n",
      "\u001b[1m39/39\u001b[0m \u001b[32m━━━━━━━━━━━━━━━━━━━━\u001b[0m\u001b[37m\u001b[0m \u001b[1m0s\u001b[0m 7ms/step - loss: 4.1418e-04 - val_loss: 4.0804e-04\n",
      "Epoch 15/100\n",
      "\u001b[1m39/39\u001b[0m \u001b[32m━━━━━━━━━━━━━━━━━━━━\u001b[0m\u001b[37m\u001b[0m \u001b[1m0s\u001b[0m 7ms/step - loss: 4.0605e-04 - val_loss: 3.9889e-04\n",
      "Epoch 16/100\n",
      "\u001b[1m39/39\u001b[0m \u001b[32m━━━━━━━━━━━━━━━━━━━━\u001b[0m\u001b[37m\u001b[0m \u001b[1m0s\u001b[0m 8ms/step - loss: 3.9680e-04 - val_loss: 3.9165e-04\n",
      "Epoch 17/100\n",
      "\u001b[1m39/39\u001b[0m \u001b[32m━━━━━━━━━━━━━━━━━━━━\u001b[0m\u001b[37m\u001b[0m \u001b[1m0s\u001b[0m 8ms/step - loss: 3.9002e-04 - val_loss: 3.8494e-04\n",
      "Epoch 18/100\n",
      "\u001b[1m39/39\u001b[0m \u001b[32m━━━━━━━━━━━━━━━━━━━━\u001b[0m\u001b[37m\u001b[0m \u001b[1m1s\u001b[0m 12ms/step - loss: 3.8324e-04 - val_loss: 3.7789e-04\n",
      "Epoch 19/100\n",
      "\u001b[1m39/39\u001b[0m \u001b[32m━━━━━━━━━━━━━━━━━━━━\u001b[0m\u001b[37m\u001b[0m \u001b[1m0s\u001b[0m 8ms/step - loss: 3.7602e-04 - val_loss: 3.7033e-04\n",
      "Epoch 20/100\n",
      "\u001b[1m39/39\u001b[0m \u001b[32m━━━━━━━━━━━━━━━━━━━━\u001b[0m\u001b[37m\u001b[0m \u001b[1m0s\u001b[0m 7ms/step - loss: 3.6831e-04 - val_loss: 3.6209e-04\n",
      "Epoch 21/100\n",
      "\u001b[1m39/39\u001b[0m \u001b[32m━━━━━━━━━━━━━━━━━━━━\u001b[0m\u001b[37m\u001b[0m \u001b[1m1s\u001b[0m 13ms/step - loss: 3.5988e-04 - val_loss: 3.5296e-04\n",
      "Epoch 22/100\n",
      "\u001b[1m39/39\u001b[0m \u001b[32m━━━━━━━━━━━━━━━━━━━━\u001b[0m\u001b[37m\u001b[0m \u001b[1m0s\u001b[0m 8ms/step - loss: 3.5044e-04 - val_loss: 3.4273e-04\n",
      "Epoch 23/100\n",
      "\u001b[1m39/39\u001b[0m \u001b[32m━━━━━━━━━━━━━━━━━━━━\u001b[0m\u001b[37m\u001b[0m \u001b[1m0s\u001b[0m 7ms/step - loss: 3.3993e-04 - val_loss: 3.3118e-04\n",
      "Epoch 24/100\n",
      "\u001b[1m39/39\u001b[0m \u001b[32m━━━━━━━━━━━━━━━━━━━━\u001b[0m\u001b[37m\u001b[0m \u001b[1m0s\u001b[0m 8ms/step - loss: 3.2810e-04 - val_loss: 3.1818e-04\n",
      "Epoch 25/100\n",
      "\u001b[1m39/39\u001b[0m \u001b[32m━━━━━━━━━━━━━━━━━━━━\u001b[0m\u001b[37m\u001b[0m \u001b[1m0s\u001b[0m 8ms/step - loss: 3.1459e-04 - val_loss: 3.0376e-04\n",
      "Epoch 26/100\n",
      "\u001b[1m39/39\u001b[0m \u001b[32m━━━━━━━━━━━━━━━━━━━━\u001b[0m\u001b[37m\u001b[0m \u001b[1m0s\u001b[0m 9ms/step - loss: 2.9991e-04 - val_loss: 2.8803e-04\n",
      "Epoch 27/100\n",
      "\u001b[1m39/39\u001b[0m \u001b[32m━━━━━━━━━━━━━━━━━━━━\u001b[0m\u001b[37m\u001b[0m \u001b[1m0s\u001b[0m 7ms/step - loss: 2.8397e-04 - val_loss: 2.7172e-04\n",
      "Epoch 28/100\n",
      "\u001b[1m39/39\u001b[0m \u001b[32m━━━━━━━━━━━━━━━━━━━━\u001b[0m\u001b[37m\u001b[0m \u001b[1m0s\u001b[0m 7ms/step - loss: 2.6771e-04 - val_loss: 2.5610e-04\n",
      "Epoch 29/100\n",
      "\u001b[1m39/39\u001b[0m \u001b[32m━━━━━━━━━━━━━━━━━━━━\u001b[0m\u001b[37m\u001b[0m \u001b[1m0s\u001b[0m 8ms/step - loss: 2.5239e-04 - val_loss: 2.4139e-04\n",
      "Epoch 30/100\n",
      "\u001b[1m39/39\u001b[0m \u001b[32m━━━━━━━━━━━━━━━━━━━━\u001b[0m\u001b[37m\u001b[0m \u001b[1m0s\u001b[0m 8ms/step - loss: 2.3790e-04 - val_loss: 2.2784e-04\n",
      "Epoch 31/100\n",
      "\u001b[1m39/39\u001b[0m \u001b[32m━━━━━━━━━━━━━━━━━━━━\u001b[0m\u001b[37m\u001b[0m \u001b[1m1s\u001b[0m 22ms/step - loss: 2.2478e-04 - val_loss: 2.1573e-04\n",
      "Epoch 32/100\n",
      "\u001b[1m39/39\u001b[0m \u001b[32m━━━━━━━━━━━━━━━━━━━━\u001b[0m\u001b[37m\u001b[0m \u001b[1m1s\u001b[0m 14ms/step - loss: 2.1300e-04 - val_loss: 2.0510e-04\n",
      "Epoch 33/100\n",
      "\u001b[1m39/39\u001b[0m \u001b[32m━━━━━━━━━━━━━━━━━━━━\u001b[0m\u001b[37m\u001b[0m \u001b[1m1s\u001b[0m 9ms/step - loss: 2.0303e-04 - val_loss: 1.9625e-04\n",
      "Epoch 34/100\n",
      "\u001b[1m39/39\u001b[0m \u001b[32m━━━━━━━━━━━━━━━━━━━━\u001b[0m\u001b[37m\u001b[0m \u001b[1m0s\u001b[0m 8ms/step - loss: 1.9437e-04 - val_loss: 1.9050e-04\n",
      "Epoch 35/100\n",
      "\u001b[1m39/39\u001b[0m \u001b[32m━━━━━━━━━━━━━━━━━━━━\u001b[0m\u001b[37m\u001b[0m \u001b[1m0s\u001b[0m 7ms/step - loss: 1.9773e-04 - val_loss: 3.6771e-04\n",
      "Epoch 36/100\n",
      "\u001b[1m39/39\u001b[0m \u001b[32m━━━━━━━━━━━━━━━━━━━━\u001b[0m\u001b[37m\u001b[0m \u001b[1m0s\u001b[0m 7ms/step - loss: 3.3645e-04 - val_loss: 2.2064e-04\n",
      "Epoch 37/100\n",
      "\u001b[1m39/39\u001b[0m \u001b[32m━━━━━━━━━━━━━━━━━━━━\u001b[0m\u001b[37m\u001b[0m \u001b[1m0s\u001b[0m 8ms/step - loss: 2.1108e-04 - val_loss: 1.8271e-04\n",
      "Epoch 38/100\n",
      "\u001b[1m39/39\u001b[0m \u001b[32m━━━━━━━━━━━━━━━━━━━━\u001b[0m\u001b[37m\u001b[0m \u001b[1m0s\u001b[0m 7ms/step - loss: 1.8715e-04 - val_loss: 1.8006e-04\n",
      "Epoch 39/100\n",
      "\u001b[1m39/39\u001b[0m \u001b[32m━━━━━━━━━━━━━━━━━━━━\u001b[0m\u001b[37m\u001b[0m \u001b[1m0s\u001b[0m 7ms/step - loss: 1.7828e-04 - val_loss: 1.6522e-04\n",
      "Epoch 40/100\n",
      "\u001b[1m39/39\u001b[0m \u001b[32m━━━━━━━━━━━━━━━━━━━━\u001b[0m\u001b[37m\u001b[0m \u001b[1m0s\u001b[0m 8ms/step - loss: 1.6459e-04 - val_loss: 1.6208e-04\n",
      "Epoch 41/100\n",
      "\u001b[1m39/39\u001b[0m \u001b[32m━━━━━━━━━━━━━━━━━━━━\u001b[0m\u001b[37m\u001b[0m \u001b[1m0s\u001b[0m 8ms/step - loss: 1.6360e-04 - val_loss: 1.6518e-04\n",
      "Epoch 42/100\n",
      "\u001b[1m39/39\u001b[0m \u001b[32m━━━━━━━━━━━━━━━━━━━━\u001b[0m\u001b[37m\u001b[0m \u001b[1m1s\u001b[0m 7ms/step - loss: 1.6662e-04 - val_loss: 2.0272e-04\n",
      "Epoch 43/100\n",
      "\u001b[1m39/39\u001b[0m \u001b[32m━━━━━━━━━━━━━━━━━━━━\u001b[0m\u001b[37m\u001b[0m \u001b[1m0s\u001b[0m 7ms/step - loss: 3.2067e-04 - val_loss: 2.6213e-04\n",
      "Epoch 44/100\n",
      "\u001b[1m39/39\u001b[0m \u001b[32m━━━━━━━━━━━━━━━━━━━━\u001b[0m\u001b[37m\u001b[0m \u001b[1m0s\u001b[0m 7ms/step - loss: 1.9401e-04 - val_loss: 1.5775e-04\n",
      "Epoch 45/100\n",
      "\u001b[1m39/39\u001b[0m \u001b[32m━━━━━━━━━━━━━━━━━━━━\u001b[0m\u001b[37m\u001b[0m \u001b[1m1s\u001b[0m 15ms/step - loss: 1.5345e-04 - val_loss: 1.4890e-04\n",
      "Epoch 46/100\n",
      "\u001b[1m39/39\u001b[0m \u001b[32m━━━━━━━━━━━━━━━━━━━━\u001b[0m\u001b[37m\u001b[0m \u001b[1m0s\u001b[0m 6ms/step - loss: 1.4831e-04 - val_loss: 1.4693e-04\n",
      "Epoch 47/100\n",
      "\u001b[1m39/39\u001b[0m \u001b[32m━━━━━━━━━━━━━━━━━━━━\u001b[0m\u001b[37m\u001b[0m \u001b[1m0s\u001b[0m 7ms/step - loss: 1.4737e-04 - val_loss: 1.4943e-04\n",
      "Epoch 48/100\n",
      "\u001b[1m39/39\u001b[0m \u001b[32m━━━━━━━━━━━━━━━━━━━━\u001b[0m\u001b[37m\u001b[0m \u001b[1m1s\u001b[0m 6ms/step - loss: 0.0012 - val_loss: 0.0201\n",
      "Epoch 49/100\n",
      "\u001b[1m39/39\u001b[0m \u001b[32m━━━━━━━━━━━━━━━━━━━━\u001b[0m\u001b[37m\u001b[0m \u001b[1m0s\u001b[0m 7ms/step - loss: 0.0174 - val_loss: 0.0025\n",
      "Epoch 50/100\n",
      "\u001b[1m39/39\u001b[0m \u001b[32m━━━━━━━━━━━━━━━━━━━━\u001b[0m\u001b[37m\u001b[0m \u001b[1m0s\u001b[0m 7ms/step - loss: 0.0022 - val_loss: 0.0014\n",
      "Epoch 51/100\n",
      "\u001b[1m39/39\u001b[0m \u001b[32m━━━━━━━━━━━━━━━━━━━━\u001b[0m\u001b[37m\u001b[0m \u001b[1m0s\u001b[0m 8ms/step - loss: 0.0012 - val_loss: 7.9600e-04\n",
      "Epoch 52/100\n",
      "\u001b[1m39/39\u001b[0m \u001b[32m━━━━━━━━━━━━━━━━━━━━\u001b[0m\u001b[37m\u001b[0m \u001b[1m0s\u001b[0m 8ms/step - loss: 6.9111e-04 - val_loss: 4.6340e-04\n",
      "Epoch 53/100\n",
      "\u001b[1m39/39\u001b[0m \u001b[32m━━━━━━━━━━━━━━━━━━━━\u001b[0m\u001b[37m\u001b[0m \u001b[1m0s\u001b[0m 8ms/step - loss: 4.3840e-04 - val_loss: 3.9079e-04\n",
      "Epoch 54/100\n",
      "\u001b[1m39/39\u001b[0m \u001b[32m━━━━━━━━━━━━━━━━━━━━\u001b[0m\u001b[37m\u001b[0m \u001b[1m1s\u001b[0m 13ms/step - loss: 3.8273e-04 - val_loss: 3.6416e-04\n",
      "Epoch 55/100\n",
      "\u001b[1m39/39\u001b[0m \u001b[32m━━━━━━━━━━━━━━━━━━━━\u001b[0m\u001b[37m\u001b[0m \u001b[1m0s\u001b[0m 7ms/step - loss: 3.5952e-04 - val_loss: 3.4771e-04\n",
      "Epoch 56/100\n",
      "\u001b[1m39/39\u001b[0m \u001b[32m━━━━━━━━━━━━━━━━━━━━\u001b[0m\u001b[37m\u001b[0m \u001b[1m0s\u001b[0m 8ms/step - loss: 3.4422e-04 - val_loss: 3.3497e-04\n",
      "WARNING:tensorflow:6 out of the last 22 calls to <function TensorFlowTrainer.make_predict_function.<locals>.one_step_on_data_distributed at 0x7fd27413a5c0> triggered tf.function retracing. Tracing is expensive and the excessive number of tracings could be due to (1) creating @tf.function repeatedly in a loop, (2) passing tensors with different shapes, (3) passing Python objects instead of tensors. For (1), please define your @tf.function outside of the loop. For (2), @tf.function has reduce_retracing=True option that can avoid unnecessary retracing. For (3), please refer to https://www.tensorflow.org/guide/function#controlling_retracing and https://www.tensorflow.org/api_docs/python/tf/function for  more details.\n",
      "\u001b[1m1/1\u001b[0m \u001b[32m━━━━━━━━━━━━━━━━━━━━\u001b[0m\u001b[37m\u001b[0m \u001b[1m1s\u001b[0m 542ms/step\n"
     ]
    },
    {
     "data": {
      "image/png": "[encoded data removed]",
      "text/plain": [
       "<Figure size 1200x400 with 6 Axes>"
      ]
     },
     "metadata": {},
     "output_type": "display_data"
    }
   ],
   "source": [
    "import numpy as np\n",
    "import tensorflow as tf\n",
    "from tensorflow.keras import layers, models, callbacks\n",
    "import matplotlib.pyplot as plt\n",
    "\n",
    "\n",
    "\n",
    "def create_cae(input_shape, target_sum=8.0):\n",
    "    input_layer = layers.Input(shape=input_shape)\n",
    "    # Renormalize output to have a fixed sum (e.g., 8 electrons)\n",
    "    def renormalize(x):\n",
    "        x_sum = tf.reduce_sum(x, axis=[1, 2, 3], keepdims=True)\n",
    "        return x / (x_sum + 1e-8) * target_sum\n",
    "    # Encoder\n",
    "    x = layers.Conv2D(16, (3, 3), activation='relu', padding='same')(input_layer)\n",
    "    #x = layers.Lambda(renormalize)(x)\n",
    "    x = layers.Conv2D(8, (3, 3), activation='relu', padding='same')(x)\n",
    "    #x = layers.Lambda(renormalize)(x)\n",
    "\n",
    "    # Decoder\n",
    "    x = layers.Conv2D(8, (3, 3), activation='relu', padding='same')(x)\n",
    "    #x = layers.Lambda(renormalize)(x)\n",
    "    x = layers.Conv2D(16, (3, 3), activation='relu', padding='same')(x)\n",
    "    #x = layers.Lambda(renormalize)(x)\n",
    "    x = layers.Conv2D(1, (3, 3), activation='relu', padding='same')(x)  # use relu to ensure non-negativity\n",
    "\n",
    "\n",
    "\n",
    "    output_layer = layers.Lambda(renormalize)(x)\n",
    "\n",
    "    model = models.Model(inputs=input_layer, outputs=output_layer)\n",
    "    return model\n",
    "\n",
    "# --- Main ---\n",
    "if __name__ == '__main__':\n",
    "    input_shape = (64, 64, 1)  # CAE expects 4D shape with channel\n",
    "\n",
    "    # Create model\n",
    "    cae = create_cae(input_shape)\n",
    "    cae.compile(optimizer='adam', loss=jensen_shannon_divergence_loss)\n",
    "\n",
    "\n",
    "\n",
    "    # --- Early stopping ---\n",
    "    early_stop = callbacks.EarlyStopping(monitor='val_loss', patience=10, restore_best_weights=True)\n",
    "\n",
    "    # --- Train ---\n",
    "    cae.fit(x_train, y_train,\n",
    "            validation_data=(x_val, y_val),\n",
    "            epochs=100,\n",
    "            batch_size=20,\n",
    "            callbacks=[early_stop],\n",
    "            verbose=1)\n",
    "\n",
    "    # --- Predict and plot ---\n",
    "    i = 0  # test sample index\n",
    "    denoised_norm = cae.predict(x_test[i:i+1])[0, ..., 0]\n",
    "    denoised = denoised_norm\n",
    "\n",
    "    # --- Plot ---\n",
    "    plt.figure(figsize=(12, 4))\n",
    "\n",
    "    plt.subplot(1, 3, 1)\n",
    "    plt.imshow(x_test[i, ..., 0], cmap='viridis')\n",
    "    plt.title(\"Noisy Input\")\n",
    "    plt.colorbar()\n",
    "\n",
    "    plt.subplot(1, 3, 2)\n",
    "    plt.imshow(denoised, cmap='viridis')\n",
    "    plt.title(\"Denoised Output\")\n",
    "    plt.colorbar()\n",
    "\n",
    "    plt.subplot(1, 3, 3)\n",
    "    plt.imshow(y_test[0], cmap='viridis')\n",
    "    plt.title(\"Clean Target\")\n",
    "    plt.colorbar()\n",
    "\n",
    "    plt.tight_layout()\n",
    "    plt.show()\n",
    "\n"
   ]
  },
  {
   "cell_type": "code",
   "execution_count": 20,
   "id": "68714846-b478-4760-9d88-7cc2cb89545a",
   "metadata": {},
   "outputs": [
    {
     "name": "stdout",
     "output_type": "stream",
     "text": [
      "torch.Size([20, 1, 74, 74]) torch.Size([20, 1, 64, 64])\n"
     ]
    },
    {
     "ename": "RuntimeError",
     "evalue": "The size of tensor a (74) must match the size of tensor b (64) at non-singleton dimension 3",
     "output_type": "error",
     "traceback": [
      "\u001b[31m---------------------------------------------------------------------------\u001b[39m",
      "\u001b[31mRuntimeError\u001b[39m                              Traceback (most recent call last)",
      "\u001b[36mCell\u001b[39m\u001b[36m \u001b[39m\u001b[32mIn[20]\u001b[39m\u001b[32m, line 85\u001b[39m\n\u001b[32m     83\u001b[39m optimizer.zero_grad()\n\u001b[32m     84\u001b[39m preds = model(xb)\n\u001b[32m---> \u001b[39m\u001b[32m85\u001b[39m loss = \u001b[43mjensen_shannon_divergence_loss\u001b[49m\u001b[43m(\u001b[49m\u001b[43mpreds\u001b[49m\u001b[43m,\u001b[49m\u001b[43m \u001b[49m\u001b[43myb\u001b[49m\u001b[43m)\u001b[49m\n\u001b[32m     86\u001b[39m loss.backward()\n\u001b[32m     87\u001b[39m optimizer.step()\n",
      "\u001b[36mCell\u001b[39m\u001b[36m \u001b[39m\u001b[32mIn[20]\u001b[39m\u001b[32m, line 21\u001b[39m, in \u001b[36mjensen_shannon_divergence_loss\u001b[39m\u001b[34m(y_pred, y_true)\u001b[39m\n\u001b[32m     19\u001b[39m y_true = torch.clamp(y_true, \u001b[32m1e-8\u001b[39m, \u001b[32m1.0\u001b[39m)\n\u001b[32m     20\u001b[39m \u001b[38;5;28mprint\u001b[39m(y_pred.shape,y_true.shape)\n\u001b[32m---> \u001b[39m\u001b[32m21\u001b[39m m = \u001b[32m0.5\u001b[39m * (\u001b[43my_pred\u001b[49m\u001b[43m \u001b[49m\u001b[43m+\u001b[49m\u001b[43m \u001b[49m\u001b[43my_true\u001b[49m)\n\u001b[32m     22\u001b[39m kl1 = torch.sum(y_true * torch.log(y_true / m), dim=(\u001b[32m1\u001b[39m, \u001b[32m2\u001b[39m, \u001b[32m3\u001b[39m))\n\u001b[32m     23\u001b[39m kl2 = torch.sum(y_pred * torch.log(y_pred / m), dim=(\u001b[32m1\u001b[39m, \u001b[32m2\u001b[39m, \u001b[32m3\u001b[39m))\n",
      "\u001b[31mRuntimeError\u001b[39m: The size of tensor a (74) must match the size of tensor b (64) at non-singleton dimension 3"
     ]
    }
   ],
   "source": [
    "import torch\n",
    "import torch.nn as nn\n",
    "import torch.nn.functional as F\n",
    "from torch.utils.data import DataLoader, TensorDataset\n",
    "import matplotlib.pyplot as plt\n",
    "import numpy as np\n",
    "\n",
    "x_train_t = torch.tensor(x_train.copy(), dtype=torch.float32).permute(0, 3, 1, 2)\n",
    "y_train_t = torch.tensor(y_train.copy(), dtype=torch.float32).permute(0, 3, 1, 2)\n",
    "x_val_t = torch.tensor(x_val.copy(), dtype=torch.float32).permute(0, 3, 1, 2)\n",
    "y_val_t = torch.tensor(y_val.copy(), dtype=torch.float32).permute(0, 3, 1, 2)\n",
    "x_test_t = torch.tensor(x_test.copy(), dtype=torch.float32).permute(0, 3, 1, 2)\n",
    "y_test_t = torch.tensor(y_test.copy(), dtype=torch.float32).permute(0, 3, 1, 2)\n",
    "\n",
    "\n",
    "# --- Jensen-Shannon Divergence Loss ---\n",
    "def jensen_shannon_divergence_loss(y_pred, y_true):\n",
    "    y_pred = torch.clamp(y_pred, 1e-8, 1.0)\n",
    "    y_true = torch.clamp(y_true, 1e-8, 1.0)\n",
    "    print(y_pred.shape,y_true.shape)\n",
    "    m = 0.5 * (y_pred + y_true)\n",
    "    kl1 = torch.sum(y_true * torch.log(y_true / m), dim=(1, 2, 3))\n",
    "    kl2 = torch.sum(y_pred * torch.log(y_pred / m), dim=(1, 2, 3))\n",
    "    return 0.5 * (kl1 + kl2).mean()\n",
    "\n",
    "# --- CAE with Circular Padding ---\n",
    "class CAE(nn.Module):\n",
    "    def __init__(self, input_channels=1, target_sum=8.0):\n",
    "        super(CAE, self).__init__()\n",
    "        self.target_sum = target_sum\n",
    "\n",
    "        self.enc1 = nn.Conv2d(input_channels, 16, kernel_size=3,stride=1, padding='same', padding_mode='circular')\n",
    "        self.enc2 = nn.Conv2d(16, 8, kernel_size=3,stride=1, padding='same', padding_mode='circular')\n",
    "        self.dec1 = nn.Conv2d(8, 8, kernel_size=3,stride=1, padding='same', padding_mode='circular')\n",
    "        self.dec2 = nn.Conv2d(8, 16, kernel_size=3,stride=1, padding='same', padding_mode='circular')\n",
    "        self.dec3 = nn.Conv2d(16, 1, kernel_size=3,stride=1, padding='same', padding_mode='circular')\n",
    "\n",
    "    def circular_pad(self, x, pad=1):\n",
    "        return F.pad(x, (pad, pad, pad, pad), mode='circular')\n",
    "\n",
    "    def renormalize(self, x):\n",
    "        x_sum = x.sum(dim=(1, 2, 3), keepdim=True) + 1e-8\n",
    "        return x / x_sum * self.target_sum\n",
    "\n",
    "    def forward(self, x):\n",
    "        x = self.circular_pad(x, pad=1)\n",
    "        x = F.relu(self.enc1(x))\n",
    "\n",
    "        x = self.circular_pad(x, pad=1)\n",
    "        x = F.relu(self.enc2(x))\n",
    "\n",
    "        x = self.circular_pad(x, pad=1)\n",
    "        x = F.relu(self.dec1(x))\n",
    "\n",
    "        x = self.circular_pad(x, pad=1)\n",
    "        x = F.relu(self.dec2(x))\n",
    "\n",
    "        x = self.circular_pad(x, pad=1)\n",
    "        x = F.relu(self.dec3(x))\n",
    "\n",
    "        return self.renormalize(x)\n",
    "\n",
    "\n",
    "# --- Data Loaders ---\n",
    "train_loader = DataLoader(TensorDataset(x_train_t, y_train_t), batch_size=20, shuffle=False)\n",
    "val_loader = DataLoader(TensorDataset(x_val_t, y_val_t), batch_size=10)\n",
    "\n",
    "# --- Model, Optimizer ---\n",
    "device = torch.device('cuda' if torch.cuda.is_available() else 'cpu')\n",
    "model = CAE().to(device)\n",
    "optimizer = torch.optim.Adam(model.parameters(), lr=1e-3)\n",
    "\n",
    "# --- Training Loop ---\n",
    "best_val_loss = float('inf')\n",
    "patience = 10\n",
    "patience_counter = 0\n",
    "\n",
    "for epoch in range(100):\n",
    "    model.train()\n",
    "    train_loss = 0\n",
    "    for xb, yb in train_loader:\n",
    "        xb, yb = xb.to(device), yb.to(device)\n",
    "        optimizer.zero_grad()\n",
    "        preds = model(xb)\n",
    "        loss = jensen_shannon_divergence_loss(preds, yb)\n",
    "        loss.backward()\n",
    "        optimizer.step()\n",
    "        train_loss += loss.item()\n",
    "    train_loss /= len(train_loader)\n",
    "\n",
    "    # Validation\n",
    "    model.eval()\n",
    "    val_loss = 0\n",
    "    with torch.no_grad():\n",
    "        for xb, yb in val_loader:\n",
    "            xb, yb = xb.to(device), yb.to(device)\n",
    "            preds = model(xb)\n",
    "            loss = jensen_shannon_divergence_loss(preds, yb)\n",
    "            val_loss += loss.item()\n",
    "    val_loss /= len(val_loader)\n",
    "\n",
    "    print(f\"Epoch {epoch+1}, Train Loss: {train_loss:.5f}, Val Loss: {val_loss:.5f}\")\n",
    "\n",
    "    if val_loss < best_val_loss:\n",
    "        best_val_loss = val_loss\n",
    "        best_model = model.state_dict()\n",
    "        patience_counter = 0\n",
    "    else:\n",
    "        patience_counter += 1\n",
    "        if patience_counter >= patience:\n",
    "            print(\"Early stopping\")\n",
    "            break\n",
    "\n",
    "# --- Evaluation ---\n",
    "model.load_state_dict(best_model)\n",
    "model.eval()\n",
    "\n",
    "with torch.no_grad():\n",
    "    i = 0\n",
    "    input_img = x_test_t[i:i+1].to(device)\n",
    "    target_img = y_test_t[i:i+1].to(device)\n",
    "    output_img = model(input_img).cpu().numpy()[0, 0]\n",
    "    input_img = input_img.cpu().numpy()[0, 0]\n",
    "    target_img = target_img.cpu().numpy()[0, 0]\n",
    "\n",
    "# --- Plot ---\n",
    "plt.figure(figsize=(12, 4))\n",
    "\n",
    "plt.subplot(1, 3, 1)\n",
    "plt.imshow(input_img, cmap='viridis')\n",
    "plt.title(\"Noisy Input\")\n",
    "plt.colorbar()\n",
    "\n",
    "plt.subplot(1, 3, 2)\n",
    "plt.imshow(output_img, cmap='viridis')\n",
    "plt.title(\"Denoised Output\")\n",
    "plt.colorbar()\n",
    "\n",
    "plt.subplot(1, 3, 3)\n",
    "plt.imshow(target_img, cmap='viridis')\n",
    "plt.title(\"Clean Target\")\n",
    "plt.colorbar()\n",
    "\n",
    "plt.tight_layout()\n",
    "plt.show()\n"
   ]
  },
  {
   "cell_type": "code",
   "execution_count": 20,
   "id": "c0d3a044-3fc3-4a58-b295-3629efd35a08",
   "metadata": {},
   "outputs": [
    {
     "name": "stdout",
     "output_type": "stream",
     "text": [
      "(765, 64, 64, 1)\n",
      "(765, 64, 64, 1)\n"
     ]
    }
   ],
   "source": [
    "print(x_train.shape)\n",
    "print(y_train.shape)"
   ]
  },
  {
   "cell_type": "code",
   "execution_count": 30,
   "id": "5fbfa74a",
   "metadata": {
    "scrolled": true
   },
   "outputs": [
    {
     "name": "stdout",
     "output_type": "stream",
     "text": [
      "0.0014868490319796819\n",
      "0.1465650367842726\n",
      "0.00148905437763528\n",
      "0.1465650367842726\n"
     ]
    }
   ],
   "source": [
    "true_clean = y_test\n",
    "# norm check after denosing and check that the norm of the denormalized y is the same as the refernce \n",
    "print(np.linalg.norm(denoised-true_clean[0,:,:,0]))\n",
    "print(np.linalg.norm(true_clean[0,:,:,0]))\n",
    "print(np.linalg.norm(denoised-minorized_ref_d))\n",
    "\n",
    "#print(true_clean)\n",
    "print(np.linalg.norm(y_test[0]))"
   ]
  },
  {
   "cell_type": "code",
   "execution_count": 31,
   "id": "2228a59f-4995-41fc-8b21-154d92789705",
   "metadata": {},
   "outputs": [
    {
     "name": "stdout",
     "output_type": "stream",
     "text": [
      "(124, 64, 64)\n",
      "\u001b[1m4/4\u001b[0m \u001b[32m━━━━━━━━━━━━━━━━━━━━\u001b[0m\u001b[37m\u001b[0m \u001b[1m1s\u001b[0m 174ms/step\n",
      "DAE JSD (denoised vs. clean): tf.Tensor(1.4329388e-05, shape=(), dtype=float32)\n",
      "DAE JSD (noise vs. clean): tf.Tensor(1.3202337e-05, shape=(), dtype=float32)\n",
      "\u001b[1m4/4\u001b[0m \u001b[32m━━━━━━━━━━━━━━━━━━━━\u001b[0m\u001b[37m\u001b[0m \u001b[1m0s\u001b[0m 13ms/step\n",
      "DAE JSD (denoised vs. dft): tf.Tensor(1.4355868e-05, shape=(), dtype=float32)\n",
      "mean: tf.Tensor(1.232427e-07, shape=(), dtype=float32)\n",
      "\n",
      "\u001b[1m4/4\u001b[0m \u001b[32m━━━━━━━━━━━━━━━━━━━━\u001b[0m\u001b[37m\u001b[0m \u001b[1m0s\u001b[0m 16ms/step\n",
      "DAE JSD (denoised vs. dft): tf.Tensor(1.3535374e-05, shape=(), dtype=float32)\n",
      "\n",
      "\u001b[1m1/1\u001b[0m \u001b[32m━━━━━━━━━━━━━━━━━━━━\u001b[0m\u001b[37m\u001b[0m \u001b[1m0s\u001b[0m 89ms/step\n",
      "mean_out: tf.Tensor(1.3557325e-05, shape=(), dtype=float32)\n"
     ]
    }
   ],
   "source": [
    "\n",
    "y_dft = np.zeros((len(x_test),64,64))\n",
    "\n",
    "for i in range (y_dft.shape[0]):\n",
    "    y_dft[i]=minorized_ref_d\n",
    "print(y_dft.shape)\n",
    "#check divergence of denoised vs not denoised matrix\n",
    "print(\"DAE JSD (denoised vs. clean):\", jensen_shannon_divergence_loss(cae.predict(x_test.copy()), y_test.copy()))\n",
    "print(\"DAE JSD (noise vs. clean):\", jensen_shannon_divergence_loss(x_test.copy(), y_test.copy()))\n",
    "print(\"DAE JSD (denoised vs. dft):\", jensen_shannon_divergence_loss(cae.predict(x_test.copy()), y_dft.copy()))\n",
    "print(\"mean:\", jensen_shannon_divergence_loss(np.mean(x_test.copy(),axis=0), y_dft[0].copy()))\n",
    "print()\n",
    "print(\"DAE JSD (denoised vs. dft):\", jensen_shannon_divergence_loss(np.mean(cae.predict(x_test.copy()),\n",
    "                                                                            axis=0), y_dft[0].copy()))\n",
    "print()\n",
    "mean_pred = cae.predict(np.mean(x_test.copy(),axis=0).reshape(1,64,64,1))\n",
    "\n",
    "                        \n",
    "print(\"mean_out:\", jensen_shannon_divergence_loss(np.squeeze(mean_pred), y_dft[0].copy()))\n"
   ]
  },
  {
   "cell_type": "code",
   "execution_count": 32,
   "id": "70bb0ad3-bd51-4aa4-a48a-0cecee998de5",
   "metadata": {},
   "outputs": [
    {
     "name": "stdout",
     "output_type": "stream",
     "text": [
      "mean: tf.Tensor(1.232427e-07, shape=(), dtype=float32)\n",
      "DAE JSD (noise vs. dft): tf.Tensor(1.3187233e-05, shape=(), dtype=float32)\n",
      "\u001b[1m4/4\u001b[0m \u001b[32m━━━━━━━━━━━━━━━━━━━━\u001b[0m\u001b[37m\u001b[0m \u001b[1m0s\u001b[0m 14ms/step\n",
      "DAE JSD (denoised vs. dft): tf.Tensor(1.4355868e-05, shape=(), dtype=float32)\n"
     ]
    }
   ],
   "source": [
    "#nooise vs dft\n",
    "# denoised vs dft\n",
    "print(\"mean:\", jensen_shannon_divergence_loss(np.mean(x_test.copy(),axis=0), y_dft[0].copy()))\n",
    "print(\"DAE JSD (noise vs. dft):\", jensen_shannon_divergence_loss(x_test.copy(), y_dft.copy()))\n",
    "print(\"DAE JSD (denoised vs. dft):\", jensen_shannon_divergence_loss(cae.predict(x_test.copy()), y_dft.copy()))\n"
   ]
  },
  {
   "cell_type": "code",
   "execution_count": 24,
   "id": "584f5cab-7587-4604-bf31-6cb58e877228",
   "metadata": {},
   "outputs": [
    {
     "name": "stdout",
     "output_type": "stream",
     "text": [
      "(64, 64)\n",
      "(64, 64)\n",
      "mean: tf.Tensor(1.5119305e-08, shape=(), dtype=float32)\n",
      "8.163265306122451\n"
     ]
    }
   ],
   "source": [
    "a = .35\n",
    "x_m = np.squeeze(np.mean(x_test.copy(),axis=0))\n",
    "print(x_m.shape)\n",
    "print(y_dft[0].shape)\n",
    "print(\"mean:\", jensen_shannon_divergence_loss(a*x_m+(1-a)*y_dft[0], y_dft[0].copy()))\n",
    "#print(\"mean:\", jensen_shannon_divergence_loss((1-a)*np.mean(x_test.copy(),axis=0)+a*y_dft[0].copy(), y_dft[0].copy()))\n",
    "print(1/a**2)"
   ]
  },
  {
   "cell_type": "code",
   "execution_count": 25,
   "id": "bce34118-5ceb-4d52-86ee-bd0ab583a9d1",
   "metadata": {},
   "outputs": [
    {
     "name": "stdout",
     "output_type": "stream",
     "text": [
      "number of electron is should = 8 7.9999995\n"
     ]
    }
   ],
   "source": [
    "#check the number of electrons\n",
    "# need to ensure this is kept true throught taining\n",
    "print(\"number of electron is should = 8\",np.sum(denoised.sum(axis=1)))\n"
   ]
  },
  {
   "cell_type": "code",
   "execution_count": 16,
   "id": "40c46984-fc2f-4f78-8863-9f9e3f93534f",
   "metadata": {},
   "outputs": [],
   "source": [
    "import torch\n",
    "\n",
    "# Convert numpy to torch tensors\n",
    "x_train_t = torch.tensor(x_train, dtype=torch.float32).permute(0, 3, 1, 2)  # (N, 1, 64, 64)\n",
    "y_train_t = torch.tensor(y_train, dtype=torch.float32).permute(0, 3, 1, 2)\n",
    "x_val_t   = torch.tensor(x_val,   dtype=torch.float32).permute(0, 3, 1, 2)\n",
    "y_val_t   = torch.tensor(y_val,   dtype=torch.float32).permute(0, 3, 1, 2)\n",
    "x_test_t  = torch.tensor(x_test,  dtype=torch.float32).permute(0, 3, 1, 2)\n",
    "y_test_t  = torch.tensor(y_test,  dtype=torch.float32).permute(0, 3, 1, 2)\n"
   ]
  },
  {
   "cell_type": "code",
   "execution_count": 17,
   "id": "12b4176c-0911-41f0-98d4-07a382454b0b",
   "metadata": {},
   "outputs": [],
   "source": [
    "import torch.nn as nn\n",
    "\n",
    "class PatchEmbedding2D(nn.Module):\n",
    "    def __init__(self, in_channels=1, patch_size=8, emb_dim=128, img_size=64):\n",
    "        super().__init__()\n",
    "        self.patch_size = patch_size\n",
    "        self.num_patches = (img_size // patch_size) ** 2\n",
    "        self.proj = nn.Conv2d(in_channels, emb_dim, kernel_size=patch_size, stride=patch_size)\n",
    "        self.pos_embed = nn.Parameter(torch.randn(1, self.num_patches, emb_dim))\n",
    "\n",
    "    def forward(self, x):\n",
    "        x = self.proj(x)  # (B, emb_dim, H/P, W/P)\n",
    "        x = x.flatten(2).transpose(1, 2)  # (B, num_patches, emb_dim)\n",
    "        return x + self.pos_embed\n",
    "\n",
    "class ViTDensityRegressor(nn.Module):\n",
    "    def __init__(self, patch_size=8, emb_dim=128, depth=4, heads=4, mlp_dim=256, img_size=64):\n",
    "        super().__init__()\n",
    "        self.patch_embed = PatchEmbedding2D(in_channels=1, patch_size=patch_size, emb_dim=emb_dim, img_size=img_size)\n",
    "\n",
    "        encoder_layer = nn.TransformerEncoderLayer(d_model=emb_dim, nhead=heads, dim_feedforward=mlp_dim, batch_first=True)\n",
    "        self.encoder = nn.TransformerEncoder(encoder_layer, num_layers=depth)\n",
    "\n",
    "        self.head = nn.Linear(emb_dim, patch_size * patch_size)\n",
    "\n",
    "        self.img_size = img_size\n",
    "        self.patch_size = patch_size\n",
    "\n",
    "    def forward(self, x):\n",
    "        x = self.patch_embed(x)        # (B, N, emb_dim)\n",
    "        x = self.encoder(x)            # (B, N, emb_dim)\n",
    "        x = self.head(x)               # (B, N, P*P)\n",
    "        B, N, _ = x.shape\n",
    "        x = x.view(B, 1, int(self.img_size / self.patch_size), int(self.img_size / self.patch_size), self.patch_size, self.patch_size)\n",
    "        x = x.permute(0, 1, 2, 4, 3, 5).reshape(B, 1, self.img_size, self.img_size)\n",
    "        return x\n"
   ]
  },
  {
   "cell_type": "code",
   "execution_count": 18,
   "id": "17fd5261-2f3b-43ed-86cc-59a86f752a43",
   "metadata": {},
   "outputs": [],
   "source": [
    "from torch.utils.data import DataLoader, TensorDataset\n",
    "\n",
    "train_loader = DataLoader(TensorDataset(x_train_t, y_train_t), batch_size=32, shuffle=True)\n",
    "val_loader   = DataLoader(TensorDataset(x_val_t,   y_val_t),   batch_size=32)\n",
    "\n",
    "model = ViTDensityRegressor()\n",
    "device = torch.device('cuda' if torch.cuda.is_available() else 'cpu')\n",
    "model = model.to(device)\n",
    "\n",
    "criterion = nn.MSELoss()\n",
    "optimizer = torch.optim.Adam(model.parameters(), lr=1e-4)\n"
   ]
  },
  {
   "cell_type": "code",
   "execution_count": 19,
   "id": "4cabb79c-7b44-4ffd-a15a-7c178b4fa0ab",
   "metadata": {},
   "outputs": [
    {
     "name": "stdout",
     "output_type": "stream",
     "text": [
      "Epoch 1 | Train Loss: 1.6448e-01\n",
      "Epoch 2 | Train Loss: 2.8205e-02\n",
      "Epoch 3 | Train Loss: 1.4973e-02\n",
      "Epoch 4 | Train Loss: 1.2786e-02\n",
      "Epoch 5 | Train Loss: 1.1586e-02\n",
      "Epoch 6 | Train Loss: 1.0661e-02\n",
      "Epoch 7 | Train Loss: 9.9051e-03\n",
      "Epoch 8 | Train Loss: 9.2526e-03\n",
      "Epoch 9 | Train Loss: 8.7056e-03\n",
      "Epoch 10 | Train Loss: 8.1961e-03\n"
     ]
    }
   ],
   "source": [
    "# Training loop\n",
    "for epoch in range(10):\n",
    "    model.train()\n",
    "    total_loss = 0\n",
    "    for xb, yb in train_loader:\n",
    "        xb, yb = xb.to(device), yb.to(device)\n",
    "        pred = model(xb)\n",
    "        loss = criterion(pred, yb)\n",
    "\n",
    "        optimizer.zero_grad()\n",
    "        loss.backward()\n",
    "        optimizer.step()\n",
    "        total_loss += loss.item()\n",
    "\n",
    "    print(f\"Epoch {epoch+1} | Train Loss: {total_loss / len(train_loader):.4e}\")\n"
   ]
  },
  {
   "cell_type": "code",
   "execution_count": 20,
   "id": "2e9b6b75-8b28-4ac5-b264-9625eab1675c",
   "metadata": {},
   "outputs": [
    {
     "data": {
      "image/png": "[encoded data removed]",
      "text/plain": [
       "<Figure size 1200x400 with 6 Axes>"
      ]
     },
     "metadata": {},
     "output_type": "display_data"
    }
   ],
   "source": [
    "model.eval()\n",
    "with torch.no_grad():\n",
    "    i = 0\n",
    "    x_sample = x_test_t[i:i+1].to(device)\n",
    "    pred = model(x_sample)[0, 0].cpu().numpy()\n",
    "\n",
    "import matplotlib.pyplot as plt\n",
    "plt.figure(figsize=(12, 4))\n",
    "plt.subplot(1, 3, 1)\n",
    "plt.imshow(x_test[i, ..., 0], cmap='viridis')\n",
    "plt.title(\"Input\")\n",
    "plt.colorbar()\n",
    "\n",
    "plt.subplot(1, 3, 2)\n",
    "plt.imshow(pred, cmap='viridis')\n",
    "plt.title(\"Predicted Density\")\n",
    "plt.colorbar()\n",
    "\n",
    "plt.subplot(1, 3, 3)\n",
    "plt.imshow(y_test[i, ..., 0], cmap='viridis')\n",
    "plt.title(\"True Density\")\n",
    "plt.colorbar()\n",
    "plt.tight_layout()\n",
    "plt.show()\n"
   ]
  },
  {
   "cell_type": "code",
   "execution_count": null,
   "id": "175aba0e-35d5-4a8a-9225-56e7db87861b",
   "metadata": {},
   "outputs": [],
   "source": []
  }
 ],
 "metadata": {
  "kernelspec": {
   "display_name": "SCGSR",
   "language": "python",
   "name": "env"
  },
  "language_info": {
   "codemirror_mode": {
    "name": "ipython",
    "version": 3
   },
   "file_extension": ".py",
   "mimetype": "text/x-python",
   "name": "python",
   "nbconvert_exporter": "python",
   "pygments_lexer": "ipython3",
   "version": "3.12.9"
  }
 },
 "nbformat": 4,
 "nbformat_minor": 5
}
