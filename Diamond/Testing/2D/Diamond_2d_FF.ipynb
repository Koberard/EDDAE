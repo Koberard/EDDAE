{
 "cells": [
  {
   "cell_type": "code",
   "execution_count": 1,
   "id": "adbfdc98-ee96-40a0-8303-4e887b1f07a4",
   "metadata": {},
   "outputs": [
    {
     "name": "stderr",
     "output_type": "stream",
     "text": [
      "2025-06-23 08:02:14.099911: E external/local_xla/xla/stream_executor/cuda/cuda_fft.cc:467] Unable to register cuFFT factory: Attempting to register factory for plugin cuFFT when one has already been registered\n",
      "WARNING: All log messages before absl::InitializeLog() is called are written to STDERR\n",
      "E0000 00:00:1750690934.120807  322731 cuda_dnn.cc:8579] Unable to register cuDNN factory: Attempting to register factory for plugin cuDNN when one has already been registered\n",
      "E0000 00:00:1750690934.125861  322731 cuda_blas.cc:1407] Unable to register cuBLAS factory: Attempting to register factory for plugin cuBLAS when one has already been registered\n",
      "W0000 00:00:1750690934.143987  322731 computation_placer.cc:177] computation placer already registered. Please check linkage and avoid linking the same target more than once.\n",
      "W0000 00:00:1750690934.144018  322731 computation_placer.cc:177] computation placer already registered. Please check linkage and avoid linking the same target more than once.\n",
      "W0000 00:00:1750690934.144020  322731 computation_placer.cc:177] computation placer already registered. Please check linkage and avoid linking the same target more than once.\n",
      "W0000 00:00:1750690934.144022  322731 computation_placer.cc:177] computation placer already registered. Please check linkage and avoid linking the same target more than once.\n",
      "2025-06-23 08:02:14.150663: I tensorflow/core/platform/cpu_feature_guard.cc:210] This TensorFlow binary is optimized to use available CPU instructions in performance-critical operations.\n",
      "To enable the following instructions: AVX2 FMA, in other operations, rebuild TensorFlow with the appropriate compiler flags.\n"
     ]
    }
   ],
   "source": [
    "import h5py\n",
    "import numpy as np\n",
    "import os\n",
    "import matplotlib.pyplot as plt\n",
    "import os\n",
    "import tensorflow as tf"
   ]
  },
  {
   "cell_type": "code",
   "execution_count": 2,
   "id": "3d755537-d8f0-4658-98e5-736975bba3b0",
   "metadata": {},
   "outputs": [
    {
     "name": "stdout",
     "output_type": "stream",
     "text": [
      "(64, 64, 64)\n"
     ]
    },
    {
     "data": {
      "text/plain": [
       "(64, 64)"
      ]
     },
     "execution_count": 2,
     "metadata": {},
     "output_type": "execute_result"
    }
   ],
   "source": [
    "# minorized reference\n",
    "with h5py.File('/global/u2/k/kberard/SCGSR/Research/Diamond/Data/density_tot_ref.h5', 'r') as file:\n",
    "    #print(\"Keys: %s\" % file.keys())\n",
    "    ref_d = file['density'][:]\n",
    "#print(ref_d)\n",
    "print(ref_d.shape)\n",
    "minorized_ref_d = (np.sum(ref_d,axis=2))\n",
    "minorized_ref_d.shape\n",
    "\n"
   ]
  },
  {
   "cell_type": "code",
   "execution_count": 3,
   "id": "7582d1c8-72cb-404a-bb2a-f3abe8a2f7af",
   "metadata": {},
   "outputs": [],
   "source": [
    "####################################################################################################################################################\n",
    "def stochastic_density(d,N):\n",
    "    # poisson model\n",
    "    #  accurate and fast for all values of N\n",
    "    # N  = number of MC samples\n",
    "    assert isinstance(d,np.ndarray)\n",
    "    assert isinstance(N,(int,float,np.int64,np.float64))\n",
    "    assert N>0\n",
    "    ds = np.random.poisson(N*d)/N\n",
    "    ds*= d.sum()/ds.sum()\n",
    "    return ds\n",
    "#end def stochastic_density\n",
    "\n",
    "####################################################################################################################################################"
   ]
  },
  {
   "cell_type": "code",
   "execution_count": 4,
   "id": "03435d66-f7d6-4849-affd-b6148638e563",
   "metadata": {},
   "outputs": [
    {
     "name": "stdout",
     "output_type": "stream",
     "text": [
      "(64, 64, 64)\n",
      "train generated\n"
     ]
    }
   ],
   "source": [
    "print(ref_d.shape)\n",
    "\"\"\"y_train_3d = np.zeros((5000,64,64,64))\n",
    "for i in range (len(y_train_3d)):\n",
    "    y_train_3d[i] =  stochastic_density(ref_d,4770000)\n",
    "y_train = (np.sum(y_train_3d,axis=2))\"\"\"\n",
    "\n",
    "x_train_3d = np.zeros((5000,64,64,64))\n",
    "for i in range (int(len(x_train_3d)/5)):\n",
    "    for j in range (5):     \n",
    "        x_train_3d[i*(j+1)] =  stochastic_density(ref_d,10000*(j+1))\n",
    "x_train = (np.sum(x_train_3d,axis=2))\n",
    "\n",
    "print(\"train generated\")"
   ]
  },
  {
   "cell_type": "code",
   "execution_count": 5,
   "id": "369ba0d1-16fd-481a-b246-d4288e31450e",
   "metadata": {},
   "outputs": [
    {
     "name": "stdout",
     "output_type": "stream",
     "text": [
      "(64, 64, 64)\n",
      "val generated\n"
     ]
    }
   ],
   "source": [
    "print(ref_d.shape)\n",
    "\"\"\"y_val_3d = np.zeros((1000,64,64,64))\n",
    "for i in range (len(y_val_3d)):\n",
    "    y_val_3d[i] =  stochastic_density(ref_d,4770000)\n",
    "y_val = (np.sum(y_val_3d,axis=2))\"\"\"\n",
    "\n",
    "x_val_3d = np.zeros((1000,64,64,64))\n",
    "for i in range (int(len(x_val_3d)/5)):\n",
    "    for j in range (5):     \n",
    "        x_val_3d[i*(j+1)] =  stochastic_density(ref_d,10000*(j+1))\n",
    "x_val = (np.sum(x_val_3d,axis=2))\n",
    "print(\"val generated\")"
   ]
  },
  {
   "cell_type": "code",
   "execution_count": 6,
   "id": "be221ba3-9e1d-4b84-8922-baa9ed1bc496",
   "metadata": {},
   "outputs": [],
   "source": [
    "#################  add more diverse set of training data and fix overfilling!!!!!!!!!!"
   ]
  },
  {
   "cell_type": "code",
   "execution_count": 7,
   "id": "b82751b5-d10b-4e02-a112-91e313c1ecb6",
   "metadata": {},
   "outputs": [
    {
     "name": "stdout",
     "output_type": "stream",
     "text": [
      "(64, 64, 64)\n",
      "test generated\n",
      "500\n"
     ]
    }
   ],
   "source": [
    "print(ref_d.shape)\n",
    "\"\"\"y_test_3d = np.zeros((500,64,64,64))\n",
    "for i in range (len(y_test_3d)):\n",
    "    y_test_3d[i] =  stochastic_density(ref_d,4770000)\n",
    "y_test = (np.sum(y_test_3d,axis=2))\"\"\"\n",
    "count = 0\n",
    "x_test_3d = np.zeros((500,64,64,64))\n",
    "for i in range (int(len(x_test_3d)/5)):\n",
    "    for j in range (5):   \n",
    "        count+=1\n",
    "        x_test_3d[i*(j+1)] =  stochastic_density(ref_d,10000*(j+1))\n",
    "x_test = (np.sum(x_test_3d,axis=2))\n",
    "print(\"test generated\")\n",
    "print(count)"
   ]
  },
  {
   "cell_type": "code",
   "execution_count": 8,
   "id": "b74dfa5b-9c12-4d2c-be05-5b36b908f8e5",
   "metadata": {},
   "outputs": [
    {
     "data": {
      "text/plain": [
       "'y_tvt = stochastic_density(ref_d,4770000)\\nprint(y_tvt.shape)\\nprint(\"target error is =\",np.linalg.norm(ref_d-tot_VMC_d[1]))\\nprint(\"current error is =\",np.linalg.norm(ref_d-y_tvt[1]))'"
      ]
     },
     "execution_count": 8,
     "metadata": {},
     "output_type": "execute_result"
    }
   ],
   "source": [
    "################## Test what number of samples #####################\n",
    "\"\"\"y_tvt = stochastic_density(ref_d,4770000)\n",
    "print(y_tvt.shape)\n",
    "print(\"target error is =\",np.linalg.norm(ref_d-tot_VMC_d[1]))\n",
    "print(\"current error is =\",np.linalg.norm(ref_d-y_tvt[1]))\"\"\""
   ]
  },
  {
   "cell_type": "code",
   "execution_count": 9,
   "id": "9c86a511-02d0-4c46-8745-feb3acabaf27",
   "metadata": {},
   "outputs": [
    {
     "name": "stdout",
     "output_type": "stream",
     "text": [
      "here\n"
     ]
    }
   ],
   "source": [
    "y_test_3d = np.zeros((x_test.shape[0],64,64,64))\n",
    "y_train_3d = np.zeros((x_train.shape[0],64,64,64))\n",
    "y_val_3d = np.zeros((x_val.shape[0],64,64,64))\n",
    "for i in range (y_test_3d.shape[0]):\n",
    "    y_test_3d[i]=stochastic_density(ref_d,1000000)\n",
    "y_test = (np.sum(y_test_3d,axis=2))\n",
    "\n",
    "for i in range (y_train_3d.shape[0]):\n",
    "    y_train_3d[i]=stochastic_density(ref_d,1000000)\n",
    "y_train = (np.sum(y_train_3d,axis=2))\n",
    "\n",
    "for i in range (y_val_3d.shape[0]):\n",
    "    y_val_3d[i]=stochastic_density(ref_d,1000000)\n",
    "y_val = (np.sum(y_val_3d,axis=2))\n",
    "print(\"here\")"
   ]
  },
  {
   "cell_type": "code",
   "execution_count": 10,
   "id": "7c98364a-c7de-4f33-a76e-a352649d218f",
   "metadata": {},
   "outputs": [
    {
     "name": "stdout",
     "output_type": "stream",
     "text": [
      "here\n"
     ]
    }
   ],
   "source": [
    "print(\"here\")"
   ]
  },
  {
   "cell_type": "code",
   "execution_count": 19,
   "id": "06998933-c670-4d1c-b6b1-a52578f9c71e",
   "metadata": {},
   "outputs": [],
   "source": [
    "\"\"\"y_test = np.zeros((x_test.shape))\n",
    "y_train = np.zeros((x_train.shape))\n",
    "y_val = np.zeros((x_val.shape))\n",
    "for i in range (y_test.shape[0]):\n",
    "    y_test[i]=minorized_ref_d\n",
    "\n",
    "for i in range (y_train.shape[0]):\n",
    "    y_train[i]=minorized_ref_d\n",
    "\n",
    "for i in range (y_val.shape[0]):\n",
    "    y_val[i]=minorized_ref_d\"\"\""
   ]
  },
  {
   "cell_type": "code",
   "execution_count": 11,
   "id": "9f035da2-94b3-4b60-80ac-e8f6ad5071d5",
   "metadata": {},
   "outputs": [],
   "source": [
    "# Add channel dimension\n",
    "x_train = x_train[..., np.newaxis]\n",
    "x_val   = x_val[..., np.newaxis]\n",
    "x_test  = x_test[..., np.newaxis]\n",
    "\n",
    "y_train = y_train[..., np.newaxis]\n",
    "y_val   = y_val[..., np.newaxis]\n",
    "y_test   = y_test[..., np.newaxis]"
   ]
  },
  {
   "cell_type": "code",
   "execution_count": 12,
   "id": "3809fe58-ca0f-48e8-9b81-eb5626a66d49",
   "metadata": {},
   "outputs": [],
   "source": [
    "import tensorflow as tf\n",
    "\n",
    "def jensen_shannon_divergence_loss(y_true, y_pred):\n",
    "    y_t = tf.cast(y_true, tf.float32)\n",
    "    y_p = tf.cast(y_pred, tf.float32)\n",
    "\n",
    "    y_t = tf.reshape(y_t, [tf.shape(y_t)[0], -1])\n",
    "    y_p = tf.reshape(y_p, [tf.shape(y_p)[0], -1])\n",
    "\n",
    "    y_t /= tf.reduce_sum(y_t, axis=1, keepdims=True) + 1e-8\n",
    "    y_p /= tf.reduce_sum(y_p, axis=1, keepdims=True) + 1e-8\n",
    "\n",
    "    m = 0.5 * (y_t + y_p)\n",
    "\n",
    "    kl_true = tf.reduce_sum(y_t * tf.math.log((y_t + 1e-8) / (m + 1e-8)), axis=1)\n",
    "    kl_pred = tf.reduce_sum(y_p * tf.math.log((y_p + 1e-8) / (m + 1e-8)), axis=1)\n",
    "\n",
    "    jsd = 0.5 * (kl_true + kl_pred)\n",
    "\n",
    "    return tf.reduce_mean(jsd)\n"
   ]
  },
  {
   "cell_type": "code",
   "execution_count": 17,
   "id": "f583decd",
   "metadata": {},
   "outputs": [
    {
     "name": "stdout",
     "output_type": "stream",
     "text": [
      "Epoch 1/100\n"
     ]
    },
    {
     "name": "stderr",
     "output_type": "stream",
     "text": [
      "2025-06-23 08:10:18.780134: I external/local_xla/xla/stream_executor/cuda/subprocess_compilation.cc:346] ptxas warning : Registers are spilled to local memory in function 'gemm_fusion_dot_274', 132 bytes spill stores, 132 bytes spill loads\n",
      "\n",
      "2025-06-23 08:10:18.945920: I external/local_xla/xla/stream_executor/cuda/subprocess_compilation.cc:346] ptxas warning : Registers are spilled to local memory in function 'gemm_fusion_dot_274', 92 bytes spill stores, 92 bytes spill loads\n",
      "\n",
      "2025-06-23 08:10:18.958769: I external/local_xla/xla/stream_executor/cuda/subprocess_compilation.cc:346] ptxas warning : Registers are spilled to local memory in function 'gemm_fusion_dot_536', 32 bytes spill stores, 32 bytes spill loads\n",
      "\n",
      "2025-06-23 08:10:19.040919: I external/local_xla/xla/stream_executor/cuda/subprocess_compilation.cc:346] ptxas warning : Registers are spilled to local memory in function 'gemm_fusion_dot_536', 36 bytes spill stores, 36 bytes spill loads\n",
      "\n",
      "2025-06-23 08:10:19.076881: I external/local_xla/xla/stream_executor/cuda/subprocess_compilation.cc:346] ptxas warning : Registers are spilled to local memory in function 'gemm_fusion_dot_274', 112 bytes spill stores, 112 bytes spill loads\n",
      "\n",
      "2025-06-23 08:10:19.123562: I external/local_xla/xla/stream_executor/cuda/subprocess_compilation.cc:346] ptxas warning : Registers are spilled to local memory in function 'gemm_fusion_dot_274', 356 bytes spill stores, 356 bytes spill loads\n",
      "\n",
      "2025-06-23 08:10:19.176857: I external/local_xla/xla/stream_executor/cuda/subprocess_compilation.cc:346] ptxas warning : Registers are spilled to local memory in function 'gemm_fusion_dot_536', 436 bytes spill stores, 436 bytes spill loads\n",
      "\n",
      "2025-06-23 08:10:19.220710: I external/local_xla/xla/stream_executor/cuda/subprocess_compilation.cc:346] ptxas warning : Registers are spilled to local memory in function 'gemm_fusion_dot_536', 528 bytes spill stores, 528 bytes spill loads\n",
      "\n",
      "2025-06-23 08:10:19.327400: I external/local_xla/xla/stream_executor/cuda/subprocess_compilation.cc:346] ptxas warning : Registers are spilled to local memory in function 'gemm_fusion_dot_536', 484 bytes spill stores, 484 bytes spill loads\n",
      "\n",
      "2025-06-23 08:10:19.509440: I external/local_xla/xla/stream_executor/cuda/subprocess_compilation.cc:346] ptxas warning : Registers are spilled to local memory in function 'gemm_fusion_dot_536', 420 bytes spill stores, 420 bytes spill loads\n",
      "\n",
      "2025-06-23 08:10:19.595087: I external/local_xla/xla/stream_executor/cuda/subprocess_compilation.cc:346] ptxas warning : Registers are spilled to local memory in function 'gemm_fusion_dot_274', 1276 bytes spill stores, 1900 bytes spill loads\n",
      "\n"
     ]
    },
    {
     "name": "stdout",
     "output_type": "stream",
     "text": [
      "\u001b[1m100/100\u001b[0m \u001b[32m━━━━━━━━━━━━━━━━━━━━\u001b[0m\u001b[37m\u001b[0m \u001b[1m7s\u001b[0m 18ms/step - loss: 0.0480 - val_loss: 0.0473\n",
      "Epoch 2/100\n",
      "\u001b[1m100/100\u001b[0m \u001b[32m━━━━━━━━━━━━━━━━━━━━\u001b[0m\u001b[37m\u001b[0m \u001b[1m1s\u001b[0m 4ms/step - loss: 0.0464 - val_loss: 0.0388\n",
      "Epoch 3/100\n",
      "\u001b[1m100/100\u001b[0m \u001b[32m━━━━━━━━━━━━━━━━━━━━\u001b[0m\u001b[37m\u001b[0m \u001b[1m0s\u001b[0m 4ms/step - loss: 0.0313 - val_loss: 0.0102\n",
      "Epoch 4/100\n",
      "\u001b[1m100/100\u001b[0m \u001b[32m━━━━━━━━━━━━━━━━━━━━\u001b[0m\u001b[37m\u001b[0m \u001b[1m0s\u001b[0m 4ms/step - loss: 0.0083 - val_loss: 0.0051\n",
      "Epoch 5/100\n",
      "\u001b[1m100/100\u001b[0m \u001b[32m━━━━━━━━━━━━━━━━━━━━\u001b[0m\u001b[37m\u001b[0m \u001b[1m1s\u001b[0m 8ms/step - loss: 0.0044 - val_loss: 0.0025\n",
      "Epoch 6/100\n",
      "\u001b[1m100/100\u001b[0m \u001b[32m━━━━━━━━━━━━━━━━━━━━\u001b[0m\u001b[37m\u001b[0m \u001b[1m0s\u001b[0m 4ms/step - loss: 0.0021 - val_loss: 8.5012e-04\n",
      "Epoch 7/100\n",
      "\u001b[1m100/100\u001b[0m \u001b[32m━━━━━━━━━━━━━━━━━━━━\u001b[0m\u001b[37m\u001b[0m \u001b[1m0s\u001b[0m 4ms/step - loss: 6.4453e-04 - val_loss: 2.7299e-04\n",
      "Epoch 8/100\n",
      "\u001b[1m100/100\u001b[0m \u001b[32m━━━━━━━━━━━━━━━━━━━━\u001b[0m\u001b[37m\u001b[0m \u001b[1m0s\u001b[0m 4ms/step - loss: 2.3104e-04 - val_loss: 1.5890e-04\n",
      "Epoch 9/100\n",
      "\u001b[1m100/100\u001b[0m \u001b[32m━━━━━━━━━━━━━━━━━━━━\u001b[0m\u001b[37m\u001b[0m \u001b[1m0s\u001b[0m 3ms/step - loss: 1.4746e-04 - val_loss: 1.2126e-04\n",
      "Epoch 10/100\n",
      "\u001b[1m100/100\u001b[0m \u001b[32m━━━━━━━━━━━━━━━━━━━━\u001b[0m\u001b[37m\u001b[0m \u001b[1m1s\u001b[0m 4ms/step - loss: 1.1554e-04 - val_loss: 1.0141e-04\n",
      "Epoch 11/100\n",
      "\u001b[1m100/100\u001b[0m \u001b[32m━━━━━━━━━━━━━━━━━━━━\u001b[0m\u001b[37m\u001b[0m \u001b[1m0s\u001b[0m 4ms/step - loss: 9.8136e-05 - val_loss: 8.9502e-05\n",
      "Epoch 12/100\n",
      "\u001b[1m100/100\u001b[0m \u001b[32m━━━━━━━━━━━━━━━━━━━━\u001b[0m\u001b[37m\u001b[0m \u001b[1m1s\u001b[0m 4ms/step - loss: 8.7534e-05 - val_loss: 8.1960e-05\n",
      "Epoch 13/100\n",
      "\u001b[1m100/100\u001b[0m \u001b[32m━━━━━━━━━━━━━━━━━━━━\u001b[0m\u001b[37m\u001b[0m \u001b[1m0s\u001b[0m 4ms/step - loss: 8.0630e-05 - val_loss: 7.6999e-05\n",
      "Epoch 14/100\n",
      "\u001b[1m100/100\u001b[0m \u001b[32m━━━━━━━━━━━━━━━━━━━━\u001b[0m\u001b[37m\u001b[0m \u001b[1m1s\u001b[0m 4ms/step - loss: 7.6195e-05 - val_loss: 7.3657e-05\n",
      "Epoch 15/100\n",
      "\u001b[1m100/100\u001b[0m \u001b[32m━━━━━━━━━━━━━━━━━━━━\u001b[0m\u001b[37m\u001b[0m \u001b[1m1s\u001b[0m 8ms/step - loss: 7.3036e-05 - val_loss: 7.1338e-05\n",
      "Epoch 16/100\n",
      "\u001b[1m100/100\u001b[0m \u001b[32m━━━━━━━━━━━━━━━━━━━━\u001b[0m\u001b[37m\u001b[0m \u001b[1m1s\u001b[0m 4ms/step - loss: 7.1010e-05 - val_loss: 6.9718e-05\n",
      "Epoch 17/100\n",
      "\u001b[1m100/100\u001b[0m \u001b[32m━━━━━━━━━━━━━━━━━━━━\u001b[0m\u001b[37m\u001b[0m \u001b[1m0s\u001b[0m 4ms/step - loss: 6.9440e-05 - val_loss: 6.8541e-05\n",
      "Epoch 18/100\n",
      "\u001b[1m100/100\u001b[0m \u001b[32m━━━━━━━━━━━━━━━━━━━━\u001b[0m\u001b[37m\u001b[0m \u001b[1m1s\u001b[0m 4ms/step - loss: 6.8360e-05 - val_loss: 6.7672e-05\n",
      "Epoch 19/100\n",
      "\u001b[1m100/100\u001b[0m \u001b[32m━━━━━━━━━━━━━━━━━━━━\u001b[0m\u001b[37m\u001b[0m \u001b[1m1s\u001b[0m 4ms/step - loss: 6.7532e-05 - val_loss: 6.7014e-05\n",
      "Epoch 20/100\n",
      "\u001b[1m100/100\u001b[0m \u001b[32m━━━━━━━━━━━━━━━━━━━━\u001b[0m\u001b[37m\u001b[0m \u001b[1m0s\u001b[0m 4ms/step - loss: 6.6946e-05 - val_loss: 6.6516e-05\n",
      "Epoch 21/100\n",
      "\u001b[1m100/100\u001b[0m \u001b[32m━━━━━━━━━━━━━━━━━━━━\u001b[0m\u001b[37m\u001b[0m \u001b[1m1s\u001b[0m 8ms/step - loss: 6.6471e-05 - val_loss: 6.6125e-05\n",
      "Epoch 22/100\n",
      "\u001b[1m100/100\u001b[0m \u001b[32m━━━━━━━━━━━━━━━━━━━━\u001b[0m\u001b[37m\u001b[0m \u001b[1m0s\u001b[0m 4ms/step - loss: 6.6121e-05 - val_loss: 6.5814e-05\n",
      "Epoch 23/100\n",
      "\u001b[1m100/100\u001b[0m \u001b[32m━━━━━━━━━━━━━━━━━━━━\u001b[0m\u001b[37m\u001b[0m \u001b[1m0s\u001b[0m 4ms/step - loss: 6.5810e-05 - val_loss: 6.5560e-05\n",
      "Epoch 24/100\n",
      "\u001b[1m100/100\u001b[0m \u001b[32m━━━━━━━━━━━━━━━━━━━━\u001b[0m\u001b[37m\u001b[0m \u001b[1m0s\u001b[0m 4ms/step - loss: 6.5611e-05 - val_loss: 6.5349e-05\n",
      "Epoch 25/100\n",
      "\u001b[1m100/100\u001b[0m \u001b[32m━━━━━━━━━━━━━━━━━━━━\u001b[0m\u001b[37m\u001b[0m \u001b[1m1s\u001b[0m 8ms/step - loss: 6.5394e-05 - val_loss: 6.5204e-05\n",
      "Epoch 26/100\n",
      "\u001b[1m100/100\u001b[0m \u001b[32m━━━━━━━━━━━━━━━━━━━━\u001b[0m\u001b[37m\u001b[0m \u001b[1m0s\u001b[0m 4ms/step - loss: 6.5237e-05 - val_loss: 6.5061e-05\n",
      "Epoch 27/100\n",
      "\u001b[1m100/100\u001b[0m \u001b[32m━━━━━━━━━━━━━━━━━━━━\u001b[0m\u001b[37m\u001b[0m \u001b[1m1s\u001b[0m 4ms/step - loss: 6.5099e-05 - val_loss: 6.4952e-05\n",
      "Epoch 28/100\n",
      "\u001b[1m100/100\u001b[0m \u001b[32m━━━━━━━━━━━━━━━━━━━━\u001b[0m\u001b[37m\u001b[0m \u001b[1m1s\u001b[0m 4ms/step - loss: 6.4955e-05 - val_loss: 6.4852e-05\n",
      "Epoch 29/100\n",
      "\u001b[1m100/100\u001b[0m \u001b[32m━━━━━━━━━━━━━━━━━━━━\u001b[0m\u001b[37m\u001b[0m \u001b[1m0s\u001b[0m 4ms/step - loss: 6.4900e-05 - val_loss: 6.4771e-05\n",
      "Epoch 30/100\n",
      "\u001b[1m100/100\u001b[0m \u001b[32m━━━━━━━━━━━━━━━━━━━━\u001b[0m\u001b[37m\u001b[0m \u001b[1m0s\u001b[0m 4ms/step - loss: 6.4826e-05 - val_loss: 6.4710e-05\n",
      "Epoch 31/100\n",
      "\u001b[1m100/100\u001b[0m \u001b[32m━━━━━━━━━━━━━━━━━━━━\u001b[0m\u001b[37m\u001b[0m \u001b[1m1s\u001b[0m 8ms/step - loss: 6.4726e-05 - val_loss: 6.4648e-05\n",
      "Epoch 32/100\n",
      "\u001b[1m100/100\u001b[0m \u001b[32m━━━━━━━━━━━━━━━━━━━━\u001b[0m\u001b[37m\u001b[0m \u001b[1m1s\u001b[0m 4ms/step - loss: 6.4684e-05 - val_loss: 6.4602e-05\n",
      "Epoch 33/100\n",
      "\u001b[1m100/100\u001b[0m \u001b[32m━━━━━━━━━━━━━━━━━━━━\u001b[0m\u001b[37m\u001b[0m \u001b[1m1s\u001b[0m 4ms/step - loss: 6.4652e-05 - val_loss: 6.4563e-05\n",
      "Epoch 34/100\n",
      "\u001b[1m100/100\u001b[0m \u001b[32m━━━━━━━━━━━━━━━━━━━━\u001b[0m\u001b[37m\u001b[0m \u001b[1m0s\u001b[0m 4ms/step - loss: 6.4588e-05 - val_loss: 6.4526e-05\n",
      "Epoch 35/100\n",
      "\u001b[1m100/100\u001b[0m \u001b[32m━━━━━━━━━━━━━━━━━━━━\u001b[0m\u001b[37m\u001b[0m \u001b[1m1s\u001b[0m 4ms/step - loss: 6.4582e-05 - val_loss: 6.4482e-05\n",
      "Epoch 36/100\n",
      "\u001b[1m100/100\u001b[0m \u001b[32m━━━━━━━━━━━━━━━━━━━━\u001b[0m\u001b[37m\u001b[0m \u001b[1m0s\u001b[0m 4ms/step - loss: 6.4550e-05 - val_loss: 6.4463e-05\n",
      "Epoch 37/100\n",
      "\u001b[1m100/100\u001b[0m \u001b[32m━━━━━━━━━━━━━━━━━━━━\u001b[0m\u001b[37m\u001b[0m \u001b[1m0s\u001b[0m 4ms/step - loss: 6.4520e-05 - val_loss: 6.4423e-05\n",
      "Epoch 38/100\n",
      "\u001b[1m100/100\u001b[0m \u001b[32m━━━━━━━━━━━━━━━━━━━━\u001b[0m\u001b[37m\u001b[0m \u001b[1m0s\u001b[0m 4ms/step - loss: 6.4479e-05 - val_loss: 6.4420e-05\n",
      "Epoch 39/100\n",
      "\u001b[1m100/100\u001b[0m \u001b[32m━━━━━━━━━━━━━━━━━━━━\u001b[0m\u001b[37m\u001b[0m \u001b[1m1s\u001b[0m 4ms/step - loss: 6.4470e-05 - val_loss: 6.4393e-05\n",
      "Epoch 40/100\n",
      "\u001b[1m100/100\u001b[0m \u001b[32m━━━━━━━━━━━━━━━━━━━━\u001b[0m\u001b[37m\u001b[0m \u001b[1m0s\u001b[0m 4ms/step - loss: 6.4453e-05 - val_loss: 6.4362e-05\n",
      "Epoch 41/100\n",
      "\u001b[1m100/100\u001b[0m \u001b[32m━━━━━━━━━━━━━━━━━━━━\u001b[0m\u001b[37m\u001b[0m \u001b[1m1s\u001b[0m 4ms/step - loss: 6.4440e-05 - val_loss: 6.4355e-05\n",
      "Epoch 42/100\n",
      "\u001b[1m100/100\u001b[0m \u001b[32m━━━━━━━━━━━━━━━━━━━━\u001b[0m\u001b[37m\u001b[0m \u001b[1m1s\u001b[0m 4ms/step - loss: 6.4442e-05 - val_loss: 6.4338e-05\n",
      "Epoch 43/100\n",
      "\u001b[1m100/100\u001b[0m \u001b[32m━━━━━━━━━━━━━━━━━━━━\u001b[0m\u001b[37m\u001b[0m \u001b[1m1s\u001b[0m 4ms/step - loss: 6.4414e-05 - val_loss: 6.4325e-05\n",
      "Epoch 44/100\n",
      "\u001b[1m100/100\u001b[0m \u001b[32m━━━━━━━━━━━━━━━━━━━━\u001b[0m\u001b[37m\u001b[0m \u001b[1m0s\u001b[0m 4ms/step - loss: 6.4380e-05 - val_loss: 6.4320e-05\n",
      "Epoch 45/100\n",
      "\u001b[1m100/100\u001b[0m \u001b[32m━━━━━━━━━━━━━━━━━━━━\u001b[0m\u001b[37m\u001b[0m \u001b[1m1s\u001b[0m 4ms/step - loss: 6.4368e-05 - val_loss: 6.4317e-05\n",
      "Epoch 46/100\n",
      "\u001b[1m100/100\u001b[0m \u001b[32m━━━━━━━━━━━━━━━━━━━━\u001b[0m\u001b[37m\u001b[0m \u001b[1m0s\u001b[0m 3ms/step - loss: 6.4370e-05 - val_loss: 6.4307e-05\n",
      "Epoch 47/100\n",
      "\u001b[1m100/100\u001b[0m \u001b[32m━━━━━━━━━━━━━━━━━━━━\u001b[0m\u001b[37m\u001b[0m \u001b[1m0s\u001b[0m 4ms/step - loss: 6.4359e-05 - val_loss: 6.4300e-05\n",
      "Epoch 48/100\n",
      "\u001b[1m100/100\u001b[0m \u001b[32m━━━━━━━━━━━━━━━━━━━━\u001b[0m\u001b[37m\u001b[0m \u001b[1m1s\u001b[0m 4ms/step - loss: 6.4366e-05 - val_loss: 6.4298e-05\n",
      "Epoch 49/100\n",
      "\u001b[1m100/100\u001b[0m \u001b[32m━━━━━━━━━━━━━━━━━━━━\u001b[0m\u001b[37m\u001b[0m \u001b[1m1s\u001b[0m 4ms/step - loss: 6.4339e-05 - val_loss: 6.4277e-05\n",
      "Epoch 50/100\n",
      "\u001b[1m100/100\u001b[0m \u001b[32m━━━━━━━━━━━━━━━━━━━━\u001b[0m\u001b[37m\u001b[0m \u001b[1m0s\u001b[0m 4ms/step - loss: 6.4326e-05 - val_loss: 6.4284e-05\n",
      "Epoch 51/100\n",
      "\u001b[1m100/100\u001b[0m \u001b[32m━━━━━━━━━━━━━━━━━━━━\u001b[0m\u001b[37m\u001b[0m \u001b[1m1s\u001b[0m 8ms/step - loss: 6.4321e-05 - val_loss: 6.4271e-05\n",
      "Epoch 52/100\n",
      "\u001b[1m100/100\u001b[0m \u001b[32m━━━━━━━━━━━━━━━━━━━━\u001b[0m\u001b[37m\u001b[0m \u001b[1m0s\u001b[0m 4ms/step - loss: 6.4343e-05 - val_loss: 6.4259e-05\n",
      "Epoch 53/100\n",
      "\u001b[1m100/100\u001b[0m \u001b[32m━━━━━━━━━━━━━━━━━━━━\u001b[0m\u001b[37m\u001b[0m \u001b[1m0s\u001b[0m 4ms/step - loss: 6.4333e-05 - val_loss: 6.4273e-05\n",
      "Epoch 54/100\n",
      "\u001b[1m100/100\u001b[0m \u001b[32m━━━━━━━━━━━━━━━━━━━━\u001b[0m\u001b[37m\u001b[0m \u001b[1m0s\u001b[0m 4ms/step - loss: 6.4312e-05 - val_loss: 6.4262e-05\n",
      "Epoch 55/100\n",
      "\u001b[1m100/100\u001b[0m \u001b[32m━━━━━━━━━━━━━━━━━━━━\u001b[0m\u001b[37m\u001b[0m \u001b[1m1s\u001b[0m 4ms/step - loss: 6.4323e-05 - val_loss: 6.4266e-05\n",
      "Epoch 56/100\n",
      "\u001b[1m100/100\u001b[0m \u001b[32m━━━━━━━━━━━━━━━━━━━━\u001b[0m\u001b[37m\u001b[0m \u001b[1m1s\u001b[0m 4ms/step - loss: 6.4321e-05 - val_loss: 6.4245e-05\n",
      "Epoch 57/100\n",
      "\u001b[1m100/100\u001b[0m \u001b[32m━━━━━━━━━━━━━━━━━━━━\u001b[0m\u001b[37m\u001b[0m \u001b[1m0s\u001b[0m 4ms/step - loss: 6.4316e-05 - val_loss: 6.4247e-05\n",
      "Epoch 58/100\n",
      "\u001b[1m100/100\u001b[0m \u001b[32m━━━━━━━━━━━━━━━━━━━━\u001b[0m\u001b[37m\u001b[0m \u001b[1m1s\u001b[0m 4ms/step - loss: 6.4327e-05 - val_loss: 6.4247e-05\n",
      "Epoch 59/100\n",
      "\u001b[1m100/100\u001b[0m \u001b[32m━━━━━━━━━━━━━━━━━━━━\u001b[0m\u001b[37m\u001b[0m \u001b[1m0s\u001b[0m 4ms/step - loss: 6.4292e-05 - val_loss: 6.4252e-05\n",
      "Epoch 60/100\n",
      "\u001b[1m100/100\u001b[0m \u001b[32m━━━━━━━━━━━━━━━━━━━━\u001b[0m\u001b[37m\u001b[0m \u001b[1m0s\u001b[0m 4ms/step - loss: 6.4314e-05 - val_loss: 6.4243e-05\n",
      "Epoch 61/100\n",
      "\u001b[1m100/100\u001b[0m \u001b[32m━━━━━━━━━━━━━━━━━━━━\u001b[0m\u001b[37m\u001b[0m \u001b[1m0s\u001b[0m 3ms/step - loss: 6.4278e-05 - val_loss: 6.4247e-05\n",
      "Epoch 62/100\n",
      "\u001b[1m100/100\u001b[0m \u001b[32m━━━━━━━━━━━━━━━━━━━━\u001b[0m\u001b[37m\u001b[0m \u001b[1m1s\u001b[0m 4ms/step - loss: 6.4316e-05 - val_loss: 6.4244e-05\n",
      "Epoch 63/100\n",
      "\u001b[1m100/100\u001b[0m \u001b[32m━━━━━━━━━━━━━━━━━━━━\u001b[0m\u001b[37m\u001b[0m \u001b[1m0s\u001b[0m 4ms/step - loss: 6.4308e-05 - val_loss: 6.4245e-05\n",
      "Epoch 64/100\n",
      "\u001b[1m100/100\u001b[0m \u001b[32m━━━━━━━━━━━━━━━━━━━━\u001b[0m\u001b[37m\u001b[0m \u001b[1m0s\u001b[0m 4ms/step - loss: 6.4320e-05 - val_loss: 6.4249e-05\n",
      "Epoch 65/100\n",
      "\u001b[1m100/100\u001b[0m \u001b[32m━━━━━━━━━━━━━━━━━━━━\u001b[0m\u001b[37m\u001b[0m \u001b[1m1s\u001b[0m 4ms/step - loss: 6.4288e-05 - val_loss: 6.4234e-05\n",
      "Epoch 66/100\n",
      "\u001b[1m100/100\u001b[0m \u001b[32m━━━━━━━━━━━━━━━━━━━━\u001b[0m\u001b[37m\u001b[0m \u001b[1m1s\u001b[0m 4ms/step - loss: 6.4281e-05 - val_loss: 6.4233e-05\n",
      "Epoch 67/100\n",
      "\u001b[1m100/100\u001b[0m \u001b[32m━━━━━━━━━━━━━━━━━━━━\u001b[0m\u001b[37m\u001b[0m \u001b[1m1s\u001b[0m 4ms/step - loss: 6.4288e-05 - val_loss: 6.4227e-05\n",
      "Epoch 68/100\n",
      "\u001b[1m100/100\u001b[0m \u001b[32m━━━━━━━━━━━━━━━━━━━━\u001b[0m\u001b[37m\u001b[0m \u001b[1m0s\u001b[0m 4ms/step - loss: 6.4279e-05 - val_loss: 6.4235e-05\n",
      "Epoch 69/100\n",
      "\u001b[1m100/100\u001b[0m \u001b[32m━━━━━━━━━━━━━━━━━━━━\u001b[0m\u001b[37m\u001b[0m \u001b[1m0s\u001b[0m 3ms/step - loss: 6.4308e-05 - val_loss: 6.4243e-05\n",
      "Epoch 70/100\n",
      "\u001b[1m100/100\u001b[0m \u001b[32m━━━━━━━━━━━━━━━━━━━━\u001b[0m\u001b[37m\u001b[0m \u001b[1m0s\u001b[0m 4ms/step - loss: 6.4272e-05 - val_loss: 6.4239e-05\n",
      "Epoch 71/100\n",
      "\u001b[1m100/100\u001b[0m \u001b[32m━━━━━━━━━━━━━━━━━━━━\u001b[0m\u001b[37m\u001b[0m \u001b[1m0s\u001b[0m 4ms/step - loss: 6.4322e-05 - val_loss: 6.4228e-05\n",
      "Epoch 72/100\n",
      "\u001b[1m100/100\u001b[0m \u001b[32m━━━━━━━━━━━━━━━━━━━━\u001b[0m\u001b[37m\u001b[0m \u001b[1m1s\u001b[0m 4ms/step - loss: 6.4308e-05 - val_loss: 6.4231e-05\n",
      "Epoch 73/100\n",
      "\u001b[1m100/100\u001b[0m \u001b[32m━━━━━━━━━━━━━━━━━━━━\u001b[0m\u001b[37m\u001b[0m \u001b[1m1s\u001b[0m 4ms/step - loss: 6.4300e-05 - val_loss: 6.4230e-05\n",
      "Epoch 74/100\n",
      "\u001b[1m100/100\u001b[0m \u001b[32m━━━━━━━━━━━━━━━━━━━━\u001b[0m\u001b[37m\u001b[0m \u001b[1m1s\u001b[0m 9ms/step - loss: 6.4301e-05 - val_loss: 6.4213e-05\n",
      "Epoch 75/100\n",
      "\u001b[1m100/100\u001b[0m \u001b[32m━━━━━━━━━━━━━━━━━━━━\u001b[0m\u001b[37m\u001b[0m \u001b[1m1s\u001b[0m 4ms/step - loss: 6.4267e-05 - val_loss: 6.4221e-05\n",
      "Epoch 76/100\n",
      "\u001b[1m100/100\u001b[0m \u001b[32m━━━━━━━━━━━━━━━━━━━━\u001b[0m\u001b[37m\u001b[0m \u001b[1m1s\u001b[0m 4ms/step - loss: 6.4303e-05 - val_loss: 6.4236e-05\n",
      "Epoch 77/100\n",
      "\u001b[1m100/100\u001b[0m \u001b[32m━━━━━━━━━━━━━━━━━━━━\u001b[0m\u001b[37m\u001b[0m \u001b[1m1s\u001b[0m 4ms/step - loss: 6.4317e-05 - val_loss: 6.4235e-05\n",
      "Epoch 78/100\n",
      "\u001b[1m100/100\u001b[0m \u001b[32m━━━━━━━━━━━━━━━━━━━━\u001b[0m\u001b[37m\u001b[0m \u001b[1m1s\u001b[0m 4ms/step - loss: 6.4318e-05 - val_loss: 6.4222e-05\n",
      "Epoch 79/100\n",
      "\u001b[1m100/100\u001b[0m \u001b[32m━━━━━━━━━━━━━━━━━━━━\u001b[0m\u001b[37m\u001b[0m \u001b[1m1s\u001b[0m 4ms/step - loss: 6.4276e-05 - val_loss: 6.4220e-05\n",
      "Epoch 80/100\n",
      "\u001b[1m100/100\u001b[0m \u001b[32m━━━━━━━━━━━━━━━━━━━━\u001b[0m\u001b[37m\u001b[0m \u001b[1m1s\u001b[0m 9ms/step - loss: 6.4295e-05 - val_loss: 6.4225e-05\n",
      "Epoch 81/100\n",
      "\u001b[1m100/100\u001b[0m \u001b[32m━━━━━━━━━━━━━━━━━━━━\u001b[0m\u001b[37m\u001b[0m \u001b[1m1s\u001b[0m 4ms/step - loss: 6.4250e-05 - val_loss: 6.4225e-05\n",
      "Epoch 82/100\n",
      "\u001b[1m100/100\u001b[0m \u001b[32m━━━━━━━━━━━━━━━━━━━━\u001b[0m\u001b[37m\u001b[0m \u001b[1m1s\u001b[0m 4ms/step - loss: 6.4295e-05 - val_loss: 6.4229e-05\n",
      "Epoch 83/100\n",
      "\u001b[1m100/100\u001b[0m \u001b[32m━━━━━━━━━━━━━━━━━━━━\u001b[0m\u001b[37m\u001b[0m \u001b[1m1s\u001b[0m 8ms/step - loss: 6.4318e-05 - val_loss: 6.4221e-05\n",
      "Epoch 84/100\n",
      "\u001b[1m100/100\u001b[0m \u001b[32m━━━━━━━━━━━━━━━━━━━━\u001b[0m\u001b[37m\u001b[0m \u001b[1m1s\u001b[0m 4ms/step - loss: 6.4287e-05 - val_loss: 6.4223e-05\n",
      "\u001b[1m1/1\u001b[0m \u001b[32m━━━━━━━━━━━━━━━━━━━━\u001b[0m\u001b[37m\u001b[0m \u001b[1m1s\u001b[0m 518ms/step\n"
     ]
    },
    {
     "data": {
      "image/png": "[encoded data removed]",
      "text/plain": [
       "<Figure size 1200x400 with 6 Axes>"
      ]
     },
     "metadata": {},
     "output_type": "display_data"
    }
   ],
   "source": [
    "import numpy as np\n",
    "import tensorflow as tf\n",
    "from tensorflow.keras import layers, models, callbacks\n",
    "import matplotlib.pyplot as plt\n",
    "\n",
    "\n",
    "\n",
    "# --- DAE Definition with Channel Dimension Support ---\n",
    "def create_dae(input_shape):\n",
    "    def renormalize(x):\n",
    "        x_sum = tf.reduce_sum(x, axis=[1, 2, 3], keepdims=True)\n",
    "        x = x / (x_sum + 1e-8) * 8.0\n",
    "        return x\n",
    "    flat_dim = np.prod(input_shape)\n",
    "    model = tf.keras.Sequential([\n",
    "        layers.Input(shape=input_shape),\n",
    "        layers.Flatten(),\n",
    "        \n",
    "        # Encoder\n",
    "        layers.Dense(16, activation='relu'),\n",
    "        layers.Dense(32, activation='relu'),\n",
    "        layers.Dense(64, activation='relu'),\n",
    "        layers.Dense(128, activation='relu'),\n",
    "        \n",
    "\n",
    "        layers.Dense(flat_dim, activation='sigmoid'),\n",
    "        layers.Reshape(target_shape=input_shape),\n",
    "        layers.Lambda(renormalize)\n",
    "    ])\n",
    "    return model\n",
    "\n",
    "# --- Main Execution ---\n",
    "if __name__ == '__main__':\n",
    "    input_shape = (64, 64, 1)\n",
    "\n",
    "\n",
    "    dae = create_dae(input_shape)\n",
    "    # change loss to JS div\n",
    "    custom_optimizer = tf.keras.optimizers.Adam(learning_rate=0.0001)\n",
    "    dae.compile(optimizer=custom_optimizer, loss=jensen_shannon_divergence_loss)\n",
    "\n",
    "    early_stop = callbacks.EarlyStopping(monitor='val_loss', patience=10, restore_best_weights=True)\n",
    "    dae.fit(x_train, y_train,\n",
    "            validation_data=(x_val, y_val),\n",
    "            epochs=100,\n",
    "            batch_size=50,\n",
    "            callbacks=[early_stop],\n",
    "            verbose=1)\n",
    "\n",
    "    # --- Predict and Evaluate ---\n",
    "    i = 0\n",
    "    denoised_norm = dae.predict(x_test[i:i+1])[0, ..., 0]\n",
    "    denoised = denoised_norm\n",
    "    noisy_input = x_test[i, ..., 0]\n",
    "    true_clean = y_test\n",
    "\n",
    "    # --- Plot ---\n",
    "    plt.figure(figsize=(12, 4))\n",
    "\n",
    "    plt.subplot(1, 3, 1)\n",
    "    plt.imshow(noisy_input, cmap='viridis')\n",
    "    plt.title(\"Noisy Input\")\n",
    "    plt.colorbar()\n",
    "\n",
    "    plt.subplot(1, 3, 2)\n",
    "    plt.imshow(denoised, cmap='viridis')\n",
    "    plt.title(\"Denoised Output\")\n",
    "    plt.colorbar()\n",
    "\n",
    "    plt.subplot(1, 3, 3)\n",
    "    plt.imshow(true_clean[0,:,:,0], cmap='viridis')\n",
    "    plt.title(\"Clean Target\")\n",
    "    plt.colorbar()\n",
    "\n",
    "    plt.tight_layout()\n",
    "    plt.show()\n",
    "\n",
    "\n",
    "    \n",
    "    "
   ]
  },
  {
   "cell_type": "code",
   "execution_count": 20,
   "id": "96e6a343-4725-429d-8518-c0808118250d",
   "metadata": {},
   "outputs": [
    {
     "name": "stdout",
     "output_type": "stream",
     "text": [
      "Mean vs DFT 2 norm diff\n",
      "0.060973487288985585\n",
      "prediction of one test sample vs DFT\n",
      "0.012530728097518876\n",
      "(64, 64)\n",
      "(64, 64)\n"
     ]
    }
   ],
   "source": [
    "# must beat the model predicting the average\n",
    "test_avg = np.mean(x_test[:,:,:,0],axis=0)\n",
    "print(\"Mean vs DFT 2 norm diff\")\n",
    "print(np.linalg.norm(test_avg-minorized_ref_d))\n",
    "\n",
    "print(\"prediction of one test sample vs DFT\")\n",
    "print(np.linalg.norm(x_test[0,:,:,0]-minorized_ref_d))\n",
    "print(x_test[0,:,:,0].shape)\n",
    "print(minorized_ref_d.shape)"
   ]
  },
  {
   "cell_type": "code",
   "execution_count": 21,
   "id": "70ba453c-b00b-486a-af15-42c32dc2c6be",
   "metadata": {},
   "outputs": [
    {
     "name": "stdout",
     "output_type": "stream",
     "text": [
      "2 norm difference\n",
      "Mean vs DFT 2 norm diff\n",
      "0.060973487288985585\n",
      "prediction of one test sample vs DFT\n",
      "\u001b[1m1/1\u001b[0m \u001b[32m━━━━━━━━━━━━━━━━━━━━\u001b[0m\u001b[37m\u001b[0m \u001b[1m0s\u001b[0m 78ms/step\n",
      "0.00022429421054907974\n",
      "\n",
      "divergence difference\n",
      "\u001b[1m1/1\u001b[0m \u001b[32m━━━━━━━━━━━━━━━━━━━━\u001b[0m\u001b[37m\u001b[0m \u001b[1m0s\u001b[0m 76ms/step\n",
      "JSD (bar{x_test},y_dft): tf.Tensor(1.3557116e-05, shape=(), dtype=float32)\n",
      "JSD (DAE(bar{x}),y_dft): tf.Tensor(4.1026743e-07, shape=(), dtype=float32)\n",
      "\u001b[1m1/1\u001b[0m \u001b[32m━━━━━━━━━━━━━━━━━━━━\u001b[0m\u001b[37m\u001b[0m \u001b[1m0s\u001b[0m 69ms/step\n",
      "JSD (DAE(_i}),y_dft): tf.Tensor(4.4709867e-07, shape=(), dtype=float32)\n"
     ]
    }
   ],
   "source": [
    "# must beat the model predicting the average\n",
    "test_avg = np.mean(x_test[:,:,:,0],axis=0)\n",
    "print(\"2 norm difference\")\n",
    "print(\"Mean vs DFT 2 norm diff\")\n",
    "print(np.linalg.norm(test_avg-minorized_ref_d))\n",
    "\n",
    "print(\"prediction of one test sample vs DFT\")\n",
    "print(np.linalg.norm(dae.predict(x_test[0:0+1])[0,:,:,0]-minorized_ref_d))\n",
    "print()\n",
    "\n",
    "print(\"divergence difference\")\n",
    "mean_pred = dae.predict(np.mean(x_test.copy(),axis=0).reshape(1,64,64,1))                 \n",
    "print(\"JSD (bar{x_test},y_dft):\", jensen_shannon_divergence_loss(test_avg, minorized_ref_d.copy()))\n",
    "print(\"JSD (DAE(bar{x}),y_dft):\", jensen_shannon_divergence_loss(np.squeeze(mean_pred), minorized_ref_d.copy()))\n",
    "print(\"JSD (DAE(_i}),y_dft):\", jensen_shannon_divergence_loss(dae.predict(x_test[0:0+1])[0,:,:,0], minorized_ref_d.copy()))\n",
    "\n",
    "\n"
   ]
  },
  {
   "cell_type": "code",
   "execution_count": 22,
   "id": "42bc8f77-2a95-4309-a043-78d08150a5e9",
   "metadata": {},
   "outputs": [
    {
     "name": "stdout",
     "output_type": "stream",
     "text": [
      "(64, 64, 1)\n"
     ]
    }
   ],
   "source": [
    "print(x_test[0].shape)"
   ]
  },
  {
   "cell_type": "code",
   "execution_count": 23,
   "id": "e4a10f2f",
   "metadata": {},
   "outputs": [
    {
     "name": "stdout",
     "output_type": "stream",
     "text": [
      "number of electron is should = 8 8.0\n"
     ]
    }
   ],
   "source": [
    "#check the number of electrons\n",
    "# need to ensure this is kept true throught taining\n",
    "print(\"number of electron is should = 8\",np.sum(denoised.sum(axis=1)))\n"
   ]
  },
  {
   "cell_type": "code",
   "execution_count": null,
   "id": "ddb889cf-73df-4709-8cd0-a256ea94fcda",
   "metadata": {},
   "outputs": [],
   "source": []
  }
 ],
 "metadata": {
  "kernelspec": {
   "display_name": "MyEnvironment",
   "language": "python",
   "name": "env"
  },
  "language_info": {
   "codemirror_mode": {
    "name": "ipython",
    "version": 3
   },
   "file_extension": ".py",
   "mimetype": "text/x-python",
   "name": "python",
   "nbconvert_exporter": "python",
   "pygments_lexer": "ipython3",
   "version": "3.12.9"
  }
 },
 "nbformat": 4,
 "nbformat_minor": 5
}
