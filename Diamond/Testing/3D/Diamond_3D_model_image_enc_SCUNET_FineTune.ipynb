{
 "cells": [
  {
   "cell_type": "code",
   "execution_count": 1,
   "id": "adbfdc98-ee96-40a0-8303-4e887b1f07a4",
   "metadata": {},
   "outputs": [
    {
     "name": "stderr",
     "output_type": "stream",
     "text": [
      "2025-07-22 09:04:23.763296: E external/local_xla/xla/stream_executor/cuda/cuda_fft.cc:467] Unable to register cuFFT factory: Attempting to register factory for plugin cuFFT when one has already been registered\n",
      "WARNING: All log messages before absl::InitializeLog() is called are written to STDERR\n",
      "E0000 00:00:1753200263.776906  631085 cuda_dnn.cc:8579] Unable to register cuDNN factory: Attempting to register factory for plugin cuDNN when one has already been registered\n",
      "E0000 00:00:1753200263.781271  631085 cuda_blas.cc:1407] Unable to register cuBLAS factory: Attempting to register factory for plugin cuBLAS when one has already been registered\n",
      "W0000 00:00:1753200263.793367  631085 computation_placer.cc:177] computation placer already registered. Please check linkage and avoid linking the same target more than once.\n",
      "W0000 00:00:1753200263.793380  631085 computation_placer.cc:177] computation placer already registered. Please check linkage and avoid linking the same target more than once.\n",
      "W0000 00:00:1753200263.793382  631085 computation_placer.cc:177] computation placer already registered. Please check linkage and avoid linking the same target more than once.\n",
      "W0000 00:00:1753200263.793383  631085 computation_placer.cc:177] computation placer already registered. Please check linkage and avoid linking the same target more than once.\n",
      "2025-07-22 09:04:23.797787: I tensorflow/core/platform/cpu_feature_guard.cc:210] This TensorFlow binary is optimized to use available CPU instructions in performance-critical operations.\n",
      "To enable the following instructions: AVX2 FMA, in other operations, rebuild TensorFlow with the appropriate compiler flags.\n"
     ]
    }
   ],
   "source": [
    "import h5py\n",
    "import os\n",
    "import sys\n",
    "import tensorflow as tf\n",
    "import numpy as np\n",
    "from bm3d import bm3d_rgb, BM3DProfile\n",
    "module_dir = \"/global/u2/k/kberard/SCGSR/Research/Diamond/stock_models/bm3d-4.0.3/bm3d-4.0.3/examples\" \n",
    "sys.path.insert(0, module_dir)\n",
    "from experiment_funcs import get_experiment_noise, get_psnr, get_cropped_psnr\n",
    "from PIL import Image\n",
    "import matplotlib.pyplot as plt\n"
   ]
  },
  {
   "cell_type": "code",
   "execution_count": 2,
   "id": "dfe7a5c7-675e-40ce-b5d7-487a1b43f6fe",
   "metadata": {},
   "outputs": [
    {
     "name": "stderr",
     "output_type": "stream",
     "text": [
      "/global/u2/k/kberard/environments/SCGSR/lib/python3.12/site-packages/tqdm/auto.py:21: TqdmWarning: IProgress not found. Please update jupyter and ipywidgets. See https://ipywidgets.readthedocs.io/en/stable/user_install.html\n",
      "  from .autonotebook import tqdm as notebook_tqdm\n",
      "/global/u2/k/kberard/environments/SCGSR/lib/python3.12/site-packages/timm/models/layers/__init__.py:48: FutureWarning: Importing from timm.models.layers is deprecated, please import via timm.layers\n",
      "  warnings.warn(f\"Importing from {__name__} is deprecated, please import via timm.layers\", FutureWarning)\n"
     ]
    }
   ],
   "source": [
    "import math\n",
    "import torch\n",
    "import torch.nn as nn\n",
    "import numpy as np\n",
    "from thop import profile\n",
    "from einops import rearrange \n",
    "from einops.layers.torch import Rearrange, Reduce\n",
    "from timm.models.layers import trunc_normal_, DropPath"
   ]
  },
  {
   "cell_type": "code",
   "execution_count": 2,
   "id": "098f2929-3d5d-47b7-bcdb-15cea847764a",
   "metadata": {},
   "outputs": [
    {
     "name": "stdout",
     "output_type": "stream",
     "text": [
      "here\n"
     ]
    }
   ],
   "source": [
    "print(\"here\")"
   ]
  },
  {
   "cell_type": "code",
   "execution_count": 2,
   "id": "3de8dc16-f501-4c5e-ad85-1acc29815660",
   "metadata": {},
   "outputs": [],
   "source": [
    "#image denoise methods to try\n",
    "#arciteture only 2024 https://www.nature.com/articles/s41598-024-60139-x\n",
    "# cascaded gaze 2019 https://github.com/Ascend-Research/CascadedGaze\n",
    "# SwinIR 2021 https://github.com/JingyunLiang/SwinIR?tab=readme-ov-file\n",
    "#scunet, ffdnet (compared in nature paper, very close to nat perf) or dnCNN  toolbox with many models https://github.com/cszn/KAIR\n",
    "#scunet it python based \n",
    "# https://pypi.org/project/bm3d/ Bm3d also in nature paper"
   ]
  },
  {
   "cell_type": "code",
   "execution_count": 4,
   "id": "3d755537-d8f0-4658-98e5-736975bba3b0",
   "metadata": {},
   "outputs": [
    {
     "name": "stdout",
     "output_type": "stream",
     "text": [
      "(64, 64, 64)\n"
     ]
    }
   ],
   "source": [
    "# minorized reference\n",
    "with h5py.File('/global/u2/k/kberard/SCGSR/Research/Diamond/Data/density_tot_ref.h5', 'r') as file:\n",
    "    #print(\"Keys: %s\" % file.keys())\n",
    "    ref_d = file['density'][:]\n",
    "#print(ref_d)\n",
    "print(ref_d.shape)\n",
    "\n",
    "\n"
   ]
  },
  {
   "cell_type": "code",
   "execution_count": 5,
   "id": "7582d1c8-72cb-404a-bb2a-f3abe8a2f7af",
   "metadata": {},
   "outputs": [],
   "source": [
    "####################################################################################################################################################\n",
    "def stochastic_density(d,N):\n",
    "    # poisson model\n",
    "    #  accurate and fast for all values of N\n",
    "    # N  = number of MC samples\n",
    "    assert isinstance(d,np.ndarray)\n",
    "    assert isinstance(N,(int,float,np.int64,np.float64))\n",
    "    assert N>0\n",
    "    ds = np.random.poisson(N*d)/N\n",
    "    ds*= d.sum()/ds.sum()\n",
    "    return ds\n",
    "#end def stochastic_density\n",
    "\n",
    "####################################################################################################################################################"
   ]
  },
  {
   "cell_type": "code",
   "execution_count": 6,
   "id": "d25fba79-bae7-46e6-bd70-673815d88c86",
   "metadata": {},
   "outputs": [
    {
     "name": "stdout",
     "output_type": "stream",
     "text": [
      "Train, val, generated\n"
     ]
    }
   ],
   "source": [
    "def generate_single_2d_density(ref_d, noise_level):\n",
    "    noisy_3d = stochastic_density(ref_d, noise_level)  # shape: (64, 64, 64)\n",
    "    return noisy_3d\n",
    "\n",
    "# Noise levels to randomly draw from\n",
    "noise_levels = [10000 * (j + 1) for j in range(5)]  # [10000, 20000, ..., 50000]\n",
    "\n",
    "# Sizes\n",
    "num_train = 5000\n",
    "num_val = 1000\n",
    "num_test = 500\n",
    "\n",
    "# Generate train set with mixed noise levels\n",
    "x_train = np.zeros((num_train, 64, 64,64))\n",
    "for i in range(num_train):\n",
    "    noise_level = np.random.choice(noise_levels)\n",
    "    x_train[i] = generate_single_2d_density(ref_d, noise_level)\n",
    "\n",
    "# Generate val set with mixed noise levels\n",
    "x_val = np.zeros((num_val, 64, 64,64))\n",
    "for i in range(num_val):\n",
    "    noise_level = np.random.choice(noise_levels)\n",
    "    x_val[i] = generate_single_2d_density(ref_d, noise_level)\n",
    "\n",
    "\n",
    "\n",
    "print(\"Train, val, generated\")\n"
   ]
  },
  {
   "cell_type": "code",
   "execution_count": 7,
   "id": "fc3e3001-9a33-4e10-a915-6f34a12b52fb",
   "metadata": {},
   "outputs": [
    {
     "name": "stdout",
     "output_type": "stream",
     "text": [
      "test generated\n"
     ]
    }
   ],
   "source": [
    "# Generate test set with fixed noise level\n",
    "x_test = np.zeros((num_test, 64, 64, 64))\n",
    "for i in range(num_test):\n",
    "    x_test[i] = generate_single_2d_density(ref_d, 100000)\n",
    "print(\"test generated\")"
   ]
  },
  {
   "cell_type": "code",
   "execution_count": 8,
   "id": "361107c4-4800-443c-98f6-b8f14fdbb640",
   "metadata": {},
   "outputs": [
    {
     "name": "stdout",
     "output_type": "stream",
     "text": [
      "(64, 64, 64)\n"
     ]
    }
   ],
   "source": [
    "print(ref_d.shape)"
   ]
  },
  {
   "cell_type": "code",
   "execution_count": 9,
   "id": "c762ad87-a089-4fd6-843b-7790b8069745",
   "metadata": {},
   "outputs": [
    {
     "name": "stdout",
     "output_type": "stream",
     "text": [
      "here\n"
     ]
    }
   ],
   "source": [
    "y_test_3d = np.zeros((x_test.shape[0],64,64,64))\n",
    "y_train_3d = np.zeros((x_train.shape[0],64,64,64))\n",
    "y_val_3d = np.zeros((x_val.shape[0],64,64,64))\n",
    "for i in range (y_test_3d.shape[0]):\n",
    "    y_test_3d[i]=stochastic_density(ref_d,1000000)\n",
    "y_test = y_test_3d\n",
    "for i in range (y_train_3d.shape[0]):\n",
    "    y_train_3d[i]=stochastic_density(ref_d,1000000)\n",
    "y_train = y_train_3d\n",
    "\n",
    "for i in range (y_val_3d.shape[0]):\n",
    "    y_val_3d[i]=stochastic_density(ref_d,1000000)\n",
    "y_val = y_val_3d\n",
    "print(\"here\")"
   ]
  },
  {
   "cell_type": "code",
   "execution_count": 10,
   "id": "d7c0e7ef-cb21-439e-959f-0c1f997b8f2f",
   "metadata": {},
   "outputs": [],
   "source": [
    "import numpy as np\n",
    "\n",
    "def batch_project_3d_to_rgb(x_train_3d, x_val_3d, x_test_3d,\n",
    "                            y_train_3d, y_val_3d, y_test_3d,\n",
    "                            ref_d=None, buffer_scale=1.01):\n",
    "    \"\"\"\n",
    "    Projects all input and output 3D densities to 2D RGB with per-sample normalization.\n",
    "    Optionally includes a single reference density `ref_d`.\n",
    "\n",
    "    Args:\n",
    "        x_train_3d, x_val_3d, x_test_3d, y_train_3d, y_val_3d, y_test_3d: ndarray of shape (N, H, W, D)\n",
    "        ref_d: ndarray of shape (H, W, D), optional reference sample\n",
    "        buffer_scale: float, buffer for normalization (default 1.01)\n",
    "\n",
    "    Returns:\n",
    "        Tuple of normalized RGB arrays in order:\n",
    "        x_train_rgb, x_val_rgb, x_test_rgb,\n",
    "        y_train_rgb, y_val_rgb, y_test_rgb,\n",
    "        ref_d_rgb (or None if not provided)\n",
    "    \"\"\"\n",
    "    def split_sum_rgb(x_3d):\n",
    "        N, H, W, D = x_3d.shape\n",
    "        thirds = np.array_split(np.arange(D), 3)\n",
    "        r = np.sum(x_3d[:, :, :, thirds[0]], axis=-1)\n",
    "        g = np.sum(x_3d[:, :, :, thirds[1]], axis=-1)\n",
    "        b = np.sum(x_3d[:, :, :, thirds[2]], axis=-1)\n",
    "        return np.stack([r, g, b], axis=-1)\n",
    "\n",
    "    def normalize_per_sample(x_rgb):\n",
    "        max_vals = np.max(x_rgb, axis=(1, 2, 3), keepdims=True)\n",
    "        max_vals = np.where(max_vals == 0, 1.0, max_vals)  # Prevent div by zero\n",
    "        return np.clip(x_rgb / (max_vals * buffer_scale), 0, 1)\n",
    "\n",
    "    def single_project_3d_to_rgb(x_3d_single):\n",
    "        thirds = np.array_split(np.arange(x_3d_single.shape[-1]), 3)\n",
    "        r = np.sum(x_3d_single[:, :, thirds[0]], axis=-1)\n",
    "        g = np.sum(x_3d_single[:, :, thirds[1]], axis=-1)\n",
    "        b = np.sum(x_3d_single[:, :, thirds[2]], axis=-1)\n",
    "        rgb = np.stack([r, g, b], axis=-1)\n",
    "        max_val = np.max(rgb)\n",
    "        return np.clip(rgb / (max_val * buffer_scale if max_val > 0 else 1.0), 0, 1)\n",
    "\n",
    "    # Convert to RGB\n",
    "    x_train_rgb = normalize_per_sample(split_sum_rgb(x_train_3d))\n",
    "    x_val_rgb   = normalize_per_sample(split_sum_rgb(x_val_3d))\n",
    "    x_test_rgb  = normalize_per_sample(split_sum_rgb(x_test_3d))\n",
    "    y_train_rgb = normalize_per_sample(split_sum_rgb(y_train_3d))\n",
    "    y_val_rgb   = normalize_per_sample(split_sum_rgb(y_val_3d))\n",
    "    y_test_rgb  = normalize_per_sample(split_sum_rgb(y_test_3d))\n",
    "\n",
    "    # Optional: process ref_d\n",
    "    ref_d_rgb = single_project_3d_to_rgb(ref_d) if ref_d is not None else None\n",
    "\n",
    "    return (\n",
    "        x_train_rgb, x_val_rgb, x_test_rgb,\n",
    "        y_train_rgb, y_val_rgb, y_test_rgb,\n",
    "        ref_d_rgb\n",
    "    )\n"
   ]
  },
  {
   "cell_type": "code",
   "execution_count": 11,
   "id": "5c359b5e-e1ac-48fe-b14f-8deb014adefd",
   "metadata": {},
   "outputs": [
    {
     "name": "stdout",
     "output_type": "stream",
     "text": [
      "done generating\n"
     ]
    }
   ],
   "source": [
    "x_train_rgb, x_val_rgb, x_test_rgb, \\\n",
    "y_train_rgb, y_val_rgb, y_test_rgb, \\\n",
    "ref_d_rgb = batch_project_3d_to_rgb(\n",
    "    x_train, x_val, x_test,\n",
    "    y_train_3d, y_val_3d, y_test_3d,\n",
    "    ref_d=ref_d,  # <== pass your (H, W, D) ref sample here\n",
    "    buffer_scale=1.0\n",
    ")\n",
    "print(\"done generating\")"
   ]
  },
  {
   "cell_type": "code",
   "execution_count": 1,
   "id": "2b2d4aa1-c120-430e-8a55-d83a6c7b50b0",
   "metadata": {},
   "outputs": [],
   "source": [
    "\"\"\"import os\n",
    "save_path = '/pscratch/sd/k/kberard/SCGSR/Data/gen_dat'\n",
    "np.save(os.path.join(save_path, 'x_train_rgb.npy'), x_train_rgb)\n",
    "np.save(os.path.join(save_path, 'x_val_rgb.npy'), x_val_rgb)\n",
    "np.save(os.path.join(save_path, 'x_test_rgb.npy'), x_test_rgb)\n",
    "np.save(os.path.join(save_path, 'y_train_rgb.npy'), y_train_rgb)\n",
    "np.save(os.path.join(save_path, 'y_val_rgb.npy'), y_val_rgb)\n",
    "np.save(os.path.join(save_path, 'y_test_rgb.npy'), y_test_rgb)\n",
    "np.save(os.path.join(save_path, 'ref_d_rgb.npy'), ref_d_rgb)\"\"\"\n",
    "import numpy as np\n",
    "\n",
    "base_path = '/pscratch/sd/k/kberard/SCGSR/Data/gen_dat'\n",
    "\n",
    "x_train_rgb = np.load(f'{base_path}/x_train_rgb.npy')\n",
    "x_val_rgb   = np.load(f'{base_path}/x_val_rgb.npy')\n",
    "x_test_rgb  = np.load(f'{base_path}/x_test_rgb.npy')\n",
    "y_train_rgb = np.load(f'{base_path}/y_train_rgb.npy')\n",
    "y_val_rgb   = np.load(f'{base_path}/y_val_rgb.npy')\n",
    "y_test_rgb  = np.load(f'{base_path}/y_test_rgb.npy')\n",
    "ref_d_rgb   = np.load(f'{base_path}/ref_d_rgb.npy')\n"
   ]
  },
  {
   "cell_type": "code",
   "execution_count": 7,
   "id": "c0451073-3409-4d9c-b2cb-a72997d76029",
   "metadata": {},
   "outputs": [],
   "source": [
    "import sys\n",
    "module_dir = \"/global/u2/k/kberard/SCGSR/Research/Diamond/stock_models/SCUNet\" \n",
    "sys.path.insert(0, module_dir)\n",
    "from models.network_scunet import SCUNet as SCUNet\n",
    "import numpy as np\n",
    "\n",
    "from torch.utils.data import Dataset\n",
    "import torch\n",
    "import numpy as np\n",
    "\n",
    "class RGBDenoiseDataset(Dataset):\n",
    "    def __init__(self, x, y):\n",
    "        # Normalize to [0, 1] and permute axes to (N, C, H, W)\n",
    "        self.x = torch.tensor(np.transpose(x, (0, 3, 1, 2)), dtype=torch.float32) \n",
    "        self.y = torch.tensor(np.transpose(y, (0, 3, 1, 2)), dtype=torch.float32) \n",
    "\n",
    "    def __len__(self):\n",
    "        return len(self.x)\n",
    "\n",
    "    def __getitem__(self, idx):\n",
    "        return self.x[idx], self.y[idx]\n",
    "\n",
    "\n",
    "from torch.utils.data import DataLoader\n",
    "\n",
    "# Datasets\n",
    "train_dataset = RGBDenoiseDataset(x_train_rgb, y_train_rgb)\n",
    "val_dataset   = RGBDenoiseDataset(x_val_rgb, y_val_rgb)\n",
    "test_dataset  = RGBDenoiseDataset(x_test_rgb, y_test_rgb)\n",
    "\n",
    "# DataLoaders\n",
    "train_loader = DataLoader(train_dataset, batch_size=4, shuffle=True)\n",
    "val_loader   = DataLoader(val_dataset, batch_size=4)\n",
    "test_loader  = DataLoader(test_dataset, batch_size=1)\n"
   ]
  },
  {
   "cell_type": "code",
   "execution_count": 8,
   "id": "d2c414fa-e44a-4daa-9a4d-166707f5d4bc",
   "metadata": {},
   "outputs": [
    {
     "name": "stdout",
     "output_type": "stream",
     "text": [
      "Block Initial Type: W, drop_path_rate:0.000000\n",
      "Block Initial Type: SW, drop_path_rate:0.000000\n",
      "Block Initial Type: W, drop_path_rate:0.000000\n",
      "Block Initial Type: SW, drop_path_rate:0.000000\n",
      "Block Initial Type: W, drop_path_rate:0.000000\n",
      "Block Initial Type: SW, drop_path_rate:0.000000\n",
      "Block Initial Type: W, drop_path_rate:0.000000\n",
      "Block Initial Type: SW, drop_path_rate:0.000000\n",
      "Block Initial Type: W, drop_path_rate:0.000000\n",
      "Block Initial Type: SW, drop_path_rate:0.000000\n",
      "Block Initial Type: W, drop_path_rate:0.000000\n",
      "Block Initial Type: SW, drop_path_rate:0.000000\n",
      "Block Initial Type: W, drop_path_rate:0.000000\n",
      "Block Initial Type: SW, drop_path_rate:0.000000\n",
      "Block Initial Type: W, drop_path_rate:0.000000\n",
      "Block Initial Type: SW, drop_path_rate:0.000000\n",
      "Block Initial Type: W, drop_path_rate:0.000000\n",
      "Block Initial Type: SW, drop_path_rate:0.000000\n",
      "Block Initial Type: W, drop_path_rate:0.000000\n",
      "Block Initial Type: SW, drop_path_rate:0.000000\n",
      "Block Initial Type: W, drop_path_rate:0.000000\n",
      "Block Initial Type: SW, drop_path_rate:0.000000\n",
      "Block Initial Type: W, drop_path_rate:0.000000\n",
      "Block Initial Type: SW, drop_path_rate:0.000000\n",
      "Block Initial Type: W, drop_path_rate:0.000000\n",
      "Block Initial Type: SW, drop_path_rate:0.000000\n",
      "Block Initial Type: W, drop_path_rate:0.000000\n",
      "Block Initial Type: SW, drop_path_rate:0.000000\n"
     ]
    }
   ],
   "source": [
    "\n",
    "\n",
    "import torch\n",
    "import sys\n",
    "from models.network_scunet import SCUNet\n",
    "\n",
    "# Add module path and import\n",
    "module_dir = \"/global/u2/k/kberard/SCGSR/Research/Diamond/stock_models/SCUNet\"\n",
    "sys.path.insert(0, module_dir)\n",
    "\n",
    "# Instantiate model\n",
    "device = torch.device(\"cuda\" if torch.cuda.is_available() else \"cpu\")\n",
    "model = SCUNet(in_nc=3, config=[4, 4, 4, 4, 4, 4, 4], dim=64)\n",
    "\n",
    "# Load pretrained weights\n",
    "model_path = '/global/u2/k/kberard/SCGSR/Research/Diamond/stock_models/SCUNet/model_zoo/scunet_color_25.pth'\n",
    "model.load_state_dict(torch.load(model_path, map_location=device), strict=True)\n",
    "model = model.to(device)\n"
   ]
  },
  {
   "cell_type": "code",
   "execution_count": 9,
   "id": "424b14f5-b0f3-442c-ad6d-bddf9190345e",
   "metadata": {},
   "outputs": [
    {
     "name": "stdout",
     "output_type": "stream",
     "text": [
      "Epoch [1/10], Loss: 0.000269\n",
      "Epoch [2/10], Loss: 0.000185\n",
      "Epoch [3/10], Loss: 0.000179\n",
      "Epoch [4/10], Loss: 0.000176\n",
      "Epoch [5/10], Loss: 0.000174\n",
      "Epoch [6/10], Loss: 0.000173\n",
      "Epoch [7/10], Loss: 0.000172\n",
      "Epoch [8/10], Loss: 0.000171\n",
      "Epoch [9/10], Loss: 0.000170\n",
      "Epoch [10/10], Loss: 0.000169\n"
     ]
    }
   ],
   "source": [
    "for param in model.parameters():\n",
    "    param.requires_grad = True\n",
    "import torch.nn as nn\n",
    "import torch.optim as optim\n",
    "\n",
    "criterion = nn.MSELoss()\n",
    "optimizer = optim.Adam(filter(lambda p: p.requires_grad, model.parameters()), lr=1e-4)\n",
    "num_epochs = 10  # adjust as needed\n",
    "\n",
    "for epoch in range(num_epochs):\n",
    "    model.train()\n",
    "    train_loss = 0.0\n",
    "    for noisy, clean in train_loader:\n",
    "        noisy, clean = noisy.to(device), clean.to(device)\n",
    "\n",
    "        optimizer.zero_grad()\n",
    "        output = model(noisy)\n",
    "        loss = criterion(output, clean)\n",
    "        loss.backward()\n",
    "        optimizer.step()\n",
    "        train_loss += loss.item()\n",
    "\n",
    "    avg_loss = train_loss / len(train_loader)\n",
    "    print(f\"Epoch [{epoch+1}/{num_epochs}], Loss: {avg_loss:.6f}\")\n",
    "    \n",
    "    # Optionally evaluate on val_loader each epoch\n",
    "torch.save(model, 'scunet_finetuned')\n"
   ]
  },
  {
   "cell_type": "code",
   "execution_count": 10,
   "id": "e7674bb8-3ca3-4863-a211-1093f4f627b1",
   "metadata": {},
   "outputs": [
    {
     "name": "stdout",
     "output_type": "stream",
     "text": [
      "here\n"
     ]
    }
   ],
   "source": [
    "print(\"here\")"
   ]
  },
  {
   "cell_type": "code",
   "execution_count": 11,
   "id": "b3707ed7-38e1-4687-8228-6aeb83113904",
   "metadata": {},
   "outputs": [],
   "source": [
    "from utils import utils_image as util\n",
    "\n",
    "def denoise_with_scunet(rgb_image_np, model, device='cuda'):\n",
    "    \"\"\"\n",
    "    Args:\n",
    "        rgb_image_np: (H, W, 3), float32 or float64, values in [0,1]\n",
    "        model: SCUNet model\n",
    "        device: 'cuda' or 'cpu'\n",
    "    \n",
    "    Returns:\n",
    "        Denoised image (H, W, 3), uint8\n",
    "    \"\"\"\n",
    "    # Make sure image is float32 in [0,1]\n",
    "    img = rgb_image_np.astype(np.float32)\n",
    "    img_tensor = util.single2tensor4(img).to(device)\n",
    "    with torch.no_grad():\n",
    "        output_tensor = model(img_tensor)\n",
    "    output_np = util.tensor2single(output_tensor)\n",
    "    return np.clip(output_np.transpose(1, 2, 0), 0, 1)\n"
   ]
  },
  {
   "cell_type": "code",
   "execution_count": 12,
   "id": "de1371e8-6b72-4a8f-8b15-7cfec2b4eaae",
   "metadata": {},
   "outputs": [],
   "source": [
    "device = 'cuda' if torch.cuda.is_available() else 'cpu'\n",
    "scunet_denoised = denoise_with_scunet(x_train_rgb[0], model, device=device)\n"
   ]
  },
  {
   "cell_type": "code",
   "execution_count": 13,
   "id": "e20b7889-8da4-4ade-8afe-06adfd62b27a",
   "metadata": {},
   "outputs": [
    {
     "name": "stdout",
     "output_type": "stream",
     "text": [
      "(64, 64, 3)\n"
     ]
    },
    {
     "data": {
      "image/png": "[encoded data removed]",
      "text/plain": [
       "<Figure size 1200x400 with 4 Axes>"
      ]
     },
     "metadata": {},
     "output_type": "display_data"
    }
   ],
   "source": [
    "import matplotlib.pyplot as plt\n",
    "x_clean = ref_d_rgb            # shape: (64, 64, 3), dtype: float32\n",
    "                              # or whatever sampling parameter you want\n",
    "x_noisy = x_train_rgb[0] \n",
    "x_denoised = np.transpose(scunet_denoised, (0,2,1))\n",
    "print(x_denoised.shape)\n",
    "\n",
    "# --- Plot ---\n",
    "fig, axs = plt.subplots(1, 4, figsize=(12, 4))\n",
    "axs[0].imshow(ref_d_rgb)\n",
    "axs[0].set_title(\"Clean\")\n",
    "axs[0].axis(\"off\")\n",
    "\n",
    "axs[1].imshow(x_noisy)\n",
    "axs[1].set_title(\"Noisy (Poisson)\")\n",
    "axs[1].axis(\"off\")\n",
    "\n",
    "\n",
    "axs[2].imshow(x_denoised)\n",
    "axs[2].set_title(\"Scu_Base Denoised Renorm\")\n",
    "axs[2].axis(\"off\")\n",
    "\n",
    "def normalize_per_sample(x_rgb):\n",
    "        max_vals = np.max(x_rgb, axis=(1, 2), keepdims=True)\n",
    "        max_vals = np.where(max_vals == 0, 1.0, max_vals)  # Prevent div by zero\n",
    "        return np.clip(x_rgb / (max_vals * 1), 0, 1)\n",
    "\n",
    "#might need to be renormalized because max is no longer 1\n",
    "renorm_den = normalize_per_sample(x_denoised)\n",
    "axs[3].imshow(renorm_den)\n",
    "axs[3].set_title(\"Scu_base Denoised Renorm\")\n",
    "axs[3].axis(\"off\")\n",
    "\n",
    "plt.tight_layout()\n",
    "plt.show()\n"
   ]
  },
  {
   "cell_type": "code",
   "execution_count": 12,
   "id": "c671bd51-0b29-4d6f-a2a1-0470bea8e6ac",
   "metadata": {},
   "outputs": [
    {
     "name": "stdout",
     "output_type": "stream",
     "text": [
      "1.0\n",
      "3822.646322693739\n",
      "\n",
      "1.0\n",
      "2586.8709677419342\n",
      "\n",
      "0.6670486\n",
      "2585.9922\n",
      "\n",
      "1.0\n",
      "4454.4043\n"
     ]
    }
   ],
   "source": [
    "print(np.max(x_clean))\n",
    "print(np.sum(x_clean,axis=(0,1,2)))\n",
    "print()\n",
    "print(np.max(x_noisy))\n",
    "print(np.sum(x_noisy,axis=(0,1,2)))\n",
    "print()\n",
    "print(np.max(np.clip(x_denoised, 0, 1)))\n",
    "print(np.sum(np.clip(x_denoised, 0, 1),axis=(0,1,2)))\n",
    "print()\n",
    "print(np.max(np.clip(renorm_den, 0, 1)))\n",
    "print(np.sum(np.clip(renorm_den, 0, 1),axis=(0,1,2)))\n",
    "\n"
   ]
  },
  {
   "cell_type": "code",
   "execution_count": 13,
   "id": "1d6d9b0e-1938-4654-84a5-351a1185829c",
   "metadata": {},
   "outputs": [],
   "source": [
    "def jensen_shannon_divergence_loss(y_true, y_pred):\n",
    "    y_t = tf.cast(y_true, tf.float32)\n",
    "    y_p = tf.cast(y_pred, tf.float32)\n",
    "\n",
    "    y_t = tf.reshape(y_t, [tf.shape(y_t)[0], -1])\n",
    "    y_p = tf.reshape(y_p, [tf.shape(y_p)[0], -1])\n",
    "\n",
    "    y_t /= tf.reduce_sum(y_t, axis=1, keepdims=True) + 1e-8\n",
    "    y_p /= tf.reduce_sum(y_p, axis=1, keepdims=True) + 1e-8\n",
    "\n",
    "    m = 0.5 * (y_t + y_p)\n",
    "\n",
    "    kl_true = tf.reduce_sum(y_t * tf.math.log((y_t + 1e-8) / (m + 1e-8)), axis=1)\n",
    "    kl_pred = tf.reduce_sum(y_p * tf.math.log((y_p + 1e-8) / (m + 1e-8)), axis=1)\n",
    "\n",
    "    jsd = 0.5 * (kl_true + kl_pred)\n",
    "\n",
    "    return tf.reduce_mean(jsd)"
   ]
  },
  {
   "cell_type": "code",
   "execution_count": 14,
   "id": "40483d90-776a-46fd-b9b5-9247bde2cc10",
   "metadata": {},
   "outputs": [
    {
     "name": "stdout",
     "output_type": "stream",
     "text": [
      "\n",
      ">>> Evaluation Metrics on BM3D Denoised Image\n",
      "2-norm (x_denoised vs ref_d_rgb): 14.5206\n",
      "2-norm (renormalized vs ref_d_rgb): 8.3471\n"
     ]
    },
    {
     "name": "stderr",
     "output_type": "stream",
     "text": [
      "I0000 00:00:1753200531.370463  631085 gpu_device.cc:2019] Created device /job:localhost/replica:0/task:0/device:GPU:0 with 38366 MB memory:  -> device: 0, name: NVIDIA A100-SXM4-40GB, pci bus id: 0000:03:00.0, compute capability: 8.0\n",
      "I0000 00:00:1753200531.372481  631085 gpu_device.cc:2019] Created device /job:localhost/replica:0/task:0/device:GPU:1 with 38366 MB memory:  -> device: 1, name: NVIDIA A100-SXM4-40GB, pci bus id: 0000:41:00.0, compute capability: 8.0\n",
      "I0000 00:00:1753200531.375836  631085 gpu_device.cc:2019] Created device /job:localhost/replica:0/task:0/device:GPU:2 with 38366 MB memory:  -> device: 2, name: NVIDIA A100-SXM4-40GB, pci bus id: 0000:82:00.0, compute capability: 8.0\n",
      "I0000 00:00:1753200531.377545  631085 gpu_device.cc:2019] Created device /job:localhost/replica:0/task:0/device:GPU:3 with 38366 MB memory:  -> device: 3, name: NVIDIA A100-SXM4-40GB, pci bus id: 0000:c1:00.0, compute capability: 8.0\n"
     ]
    },
    {
     "name": "stdout",
     "output_type": "stream",
     "text": [
      "JSD (x_noisy vs ref_d_rgb): 0.012791\n",
      "JSD (x_denoised vs ref_d_rgb): 0.000138\n",
      "JSD (renormalized vs ref_d_rgb): 0.000138\n"
     ]
    }
   ],
   "source": [
    "# --- Evaluation ---\n",
    "print(\"\\n>>> Evaluation Metrics on BM3D Denoised Image\")\n",
    "\n",
    "# 2-norm difference (before/after renorm)\n",
    "norm_original = np.linalg.norm(x_denoised - x_clean)\n",
    "norm_renormed = np.linalg.norm(renorm_den - x_clean)\n",
    "\n",
    "print(f\"2-norm (x_denoised vs ref_d_rgb): {norm_original:.4f}\")\n",
    "print(f\"2-norm (renormalized vs ref_d_rgb): {norm_renormed:.4f}\")\n",
    "\n",
    "# Jensen-Shannon divergence setup\n",
    "import tensorflow as tf\n",
    "from tensorflow.keras.losses import KLDivergence\n",
    "\n",
    "jsd_noisy = jensen_shannon_divergence_loss(tf.convert_to_tensor(x_noisy, dtype=tf.float32),\n",
    "                                               tf.convert_to_tensor(x_clean, dtype=tf.float32))\n",
    "jsd_original = jensen_shannon_divergence_loss(tf.convert_to_tensor(x_denoised, dtype=tf.float32),\n",
    "                                               tf.convert_to_tensor(x_clean, dtype=tf.float32))\n",
    "jsd_renormed = jensen_shannon_divergence_loss(tf.convert_to_tensor(renorm_den, dtype=tf.float32),\n",
    "                                               tf.convert_to_tensor(x_clean, dtype=tf.float32))\n",
    "print(f\"JSD (x_noisy vs ref_d_rgb): {jsd_noisy.numpy():.6f}\")\n",
    "print(f\"JSD (x_denoised vs ref_d_rgb): {jsd_original.numpy():.6f}\")\n",
    "print(f\"JSD (renormalized vs ref_d_rgb): {jsd_renormed.numpy():.6f}\")"
   ]
  },
  {
   "cell_type": "code",
   "execution_count": null,
   "id": "c9213599-d9af-4230-a070-6eb61e5545c2",
   "metadata": {},
   "outputs": [],
   "source": []
  }
 ],
 "metadata": {
  "kernelspec": {
   "display_name": "SCGSR",
   "language": "python",
   "name": "scgsr"
  },
  "language_info": {
   "codemirror_mode": {
    "name": "ipython",
    "version": 3
   },
   "file_extension": ".py",
   "mimetype": "text/x-python",
   "name": "python",
   "nbconvert_exporter": "python",
   "pygments_lexer": "ipython3",
   "version": "3.12.9"
  }
 },
 "nbformat": 4,
 "nbformat_minor": 5
}
