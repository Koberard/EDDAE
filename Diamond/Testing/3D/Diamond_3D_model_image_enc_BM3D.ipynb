{
 "cells": [
  {
   "cell_type": "code",
   "execution_count": 1,
   "id": "adbfdc98-ee96-40a0-8303-4e887b1f07a4",
   "metadata": {},
   "outputs": [
    {
     "name": "stderr",
     "output_type": "stream",
     "text": [
      "2025-07-31 10:22:16.695465: E external/local_xla/xla/stream_executor/cuda/cuda_fft.cc:467] Unable to register cuFFT factory: Attempting to register factory for plugin cuFFT when one has already been registered\n",
      "WARNING: All log messages before absl::InitializeLog() is called are written to STDERR\n",
      "E0000 00:00:1753982536.709154  866197 cuda_dnn.cc:8579] Unable to register cuDNN factory: Attempting to register factory for plugin cuDNN when one has already been registered\n",
      "E0000 00:00:1753982536.713378  866197 cuda_blas.cc:1407] Unable to register cuBLAS factory: Attempting to register factory for plugin cuBLAS when one has already been registered\n",
      "W0000 00:00:1753982536.725303  866197 computation_placer.cc:177] computation placer already registered. Please check linkage and avoid linking the same target more than once.\n",
      "W0000 00:00:1753982536.725322  866197 computation_placer.cc:177] computation placer already registered. Please check linkage and avoid linking the same target more than once.\n",
      "W0000 00:00:1753982536.725324  866197 computation_placer.cc:177] computation placer already registered. Please check linkage and avoid linking the same target more than once.\n",
      "W0000 00:00:1753982536.725325  866197 computation_placer.cc:177] computation placer already registered. Please check linkage and avoid linking the same target more than once.\n",
      "2025-07-31 10:22:16.729570: I tensorflow/core/platform/cpu_feature_guard.cc:210] This TensorFlow binary is optimized to use available CPU instructions in performance-critical operations.\n",
      "To enable the following instructions: AVX2 FMA, in other operations, rebuild TensorFlow with the appropriate compiler flags.\n"
     ]
    }
   ],
   "source": [
    "import h5py\n",
    "import os\n",
    "import sys\n",
    "import tensorflow as tf\n",
    "import numpy as np\n",
    "from bm3d import bm3d_rgb, BM3DProfile\n",
    "module_dir = \"/global/u2/k/kberard/SCGSR/Research/Diamond/stock_models/bm3d-4.0.3/bm3d-4.0.3/examples\" \n",
    "sys.path.insert(0, module_dir)\n",
    "from experiment_funcs import get_experiment_noise, get_psnr, get_cropped_psnr\n",
    "from PIL import Image\n",
    "import matplotlib.pyplot as plt"
   ]
  },
  {
   "cell_type": "code",
   "execution_count": null,
   "id": "3de8dc16-f501-4c5e-ad85-1acc29815660",
   "metadata": {},
   "outputs": [],
   "source": [
    "#image denoise methods to try\n",
    "#arciteture only 2024 https://www.nature.com/articles/s41598-024-60139-x\n",
    "# cascaded gaze 2019 https://github.com/Ascend-Research/CascadedGaze\n",
    "# SwinIR 2021 https://github.com/JingyunLiang/SwinIR?tab=readme-ov-file\n",
    "#scunet, ffdnet (compared in nature paper, very close to nat perf) or dnCNN  toolbox with many models https://github.com/cszn/KAIR\n",
    "# https://pypi.org/project/bm3d/ Bm3d also in nature paper"
   ]
  },
  {
   "cell_type": "code",
   "execution_count": 2,
   "id": "3d755537-d8f0-4658-98e5-736975bba3b0",
   "metadata": {},
   "outputs": [
    {
     "name": "stdout",
     "output_type": "stream",
     "text": [
      "(64, 64, 64)\n"
     ]
    }
   ],
   "source": [
    "# minorized reference\n",
    "with h5py.File('/global/u2/k/kberard/SCGSR/Research/Diamond/Data/density_tot_ref.h5', 'r') as file:\n",
    "    #print(\"Keys: %s\" % file.keys())\n",
    "    ref_d = file['density'][:]\n",
    "#print(ref_d)\n",
    "print(ref_d.shape)\n",
    "\n",
    "\n"
   ]
  },
  {
   "cell_type": "code",
   "execution_count": 3,
   "id": "7582d1c8-72cb-404a-bb2a-f3abe8a2f7af",
   "metadata": {},
   "outputs": [],
   "source": [
    "####################################################################################################################################################\n",
    "def stochastic_density(d,N):\n",
    "    # poisson model\n",
    "    #  accurate and fast for all values of N\n",
    "    # N  = number of MC samples\n",
    "    assert isinstance(d,np.ndarray)\n",
    "    assert isinstance(N,(int,float,np.int64,np.float64))\n",
    "    assert N>0\n",
    "    ds = np.random.poisson(N*d)/N\n",
    "    ds*= d.sum()/ds.sum()\n",
    "    return ds\n",
    "#end def stochastic_density\n",
    "\n",
    "####################################################################################################################################################"
   ]
  },
  {
   "cell_type": "code",
   "execution_count": 3,
   "id": "d25fba79-bae7-46e6-bd70-673815d88c86",
   "metadata": {},
   "outputs": [
    {
     "name": "stderr",
     "output_type": "stream",
     "text": [
      "\n",
      "KeyboardInterrupt\n",
      "\n",
      "\n",
      "KeyboardInterrupt\n",
      "\n"
     ]
    }
   ],
   "source": [
    "def generate_single_2d_density(ref_d, noise_level):\n",
    "    noisy_3d = stochastic_density(ref_d, noise_level)  # shape: (64, 64, 64)\n",
    "    return noisy_3d\n",
    "\n",
    "# Noise levels to randomly draw from\n",
    "noise_levels = [10000 * (j + 1) for j in range(5)]  # [10000, 20000, ..., 50000]\n",
    "\n",
    "# Sizes\n",
    "num_train = 5000\n",
    "num_val = 1000\n",
    "num_test = 500\n",
    "\n",
    "# Generate train set with mixed noise levels\n",
    "x_train = np.zeros((num_train, 64, 64,64))\n",
    "for i in range(num_train):\n",
    "    noise_level = np.random.choice(noise_levels)\n",
    "    x_train[i] = generate_single_2d_density(ref_d, noise_level)\n",
    "\n",
    "# Generate val set with mixed noise levels\n",
    "x_val = np.zeros((num_val, 64, 64,64))\n",
    "for i in range(num_val):\n",
    "    noise_level = np.random.choice(noise_levels)\n",
    "    x_val[i] = generate_single_2d_density(ref_d, noise_level)\n",
    "\n",
    "\n",
    "\n",
    "print(\"Train, val, generated\")\n"
   ]
  },
  {
   "cell_type": "code",
   "execution_count": null,
   "id": "fc3e3001-9a33-4e10-a915-6f34a12b52fb",
   "metadata": {},
   "outputs": [],
   "source": [
    "# Generate test set with fixed noise level\n",
    "x_test = np.zeros((num_test, 64, 64, 64))\n",
    "for i in range(num_test):\n",
    "    x_test[i] = generate_single_2d_density(ref_d, 100000)\n",
    "print(\"test generated\")"
   ]
  },
  {
   "cell_type": "code",
   "execution_count": null,
   "id": "361107c4-4800-443c-98f6-b8f14fdbb640",
   "metadata": {},
   "outputs": [],
   "source": [
    "print(ref_d.shape)"
   ]
  },
  {
   "cell_type": "code",
   "execution_count": null,
   "id": "c762ad87-a089-4fd6-843b-7790b8069745",
   "metadata": {},
   "outputs": [],
   "source": [
    "y_test_3d = np.zeros((x_test.shape[0],64,64,64))\n",
    "y_train_3d = np.zeros((x_train.shape[0],64,64,64))\n",
    "y_val_3d = np.zeros((x_val.shape[0],64,64,64))\n",
    "for i in range (y_test_3d.shape[0]):\n",
    "    y_test_3d[i]=stochastic_density(ref_d,1000000)\n",
    "y_test = y_test_3d\n",
    "for i in range (y_train_3d.shape[0]):\n",
    "    y_train_3d[i]=stochastic_density(ref_d,1000000)\n",
    "y_train = y_train_3d\n",
    "\n",
    "for i in range (y_val_3d.shape[0]):\n",
    "    y_val_3d[i]=stochastic_density(ref_d,1000000)\n",
    "y_val = y_val_3d\n",
    "print(\"here\")"
   ]
  },
  {
   "cell_type": "code",
   "execution_count": null,
   "id": "949ca1b9-ee1f-4ace-a14b-10eaf02d2da8",
   "metadata": {},
   "outputs": [],
   "source": [
    "import numpy as np\n",
    "\n",
    "def batch_project_3d_to_rgb(x_train_3d, x_val_3d, x_test_3d,\n",
    "                            y_train_3d, y_val_3d, y_test_3d,\n",
    "                            ref_d=None, buffer_scale=1.01):\n",
    "    \"\"\"\n",
    "    Projects all input and output 3D densities to 2D RGB with per-sample normalization.\n",
    "    Optionally includes a single reference density `ref_d`.\n",
    "\n",
    "    Args:\n",
    "        x_train_3d, x_val_3d, x_test_3d, y_train_3d, y_val_3d, y_test_3d: ndarray of shape (N, H, W, D)\n",
    "        ref_d: ndarray of shape (H, W, D), optional reference sample\n",
    "        buffer_scale: float, buffer for normalization (default 1.01)\n",
    "\n",
    "    Returns:\n",
    "        Tuple of normalized RGB arrays in order:\n",
    "        x_train_rgb, x_val_rgb, x_test_rgb,\n",
    "        y_train_rgb, y_val_rgb, y_test_rgb,\n",
    "        ref_d_rgb (or None if not provided)\n",
    "    \"\"\"\n",
    "    def split_sum_rgb(x_3d):\n",
    "        N, H, W, D = x_3d.shape\n",
    "        thirds = np.array_split(np.arange(D), 3)\n",
    "        r = np.sum(x_3d[:, :, :, thirds[0]], axis=-1)\n",
    "        g = np.sum(x_3d[:, :, :, thirds[1]], axis=-1)\n",
    "        b = np.sum(x_3d[:, :, :, thirds[2]], axis=-1)\n",
    "        return np.stack([r, g, b], axis=-1)\n",
    "\n",
    "    def normalize_per_sample(x_rgb):\n",
    "        max_vals = np.max(x_rgb, axis=(1, 2, 3), keepdims=True)\n",
    "        max_vals = np.where(max_vals == 0, 1.0, max_vals)  # Prevent div by zero\n",
    "        return np.clip(x_rgb / (max_vals * buffer_scale), 0, 1)\n",
    "\n",
    "    def single_project_3d_to_rgb(x_3d_single):\n",
    "        thirds = np.array_split(np.arange(x_3d_single.shape[-1]), 3)\n",
    "        r = np.sum(x_3d_single[:, :, thirds[0]], axis=-1)\n",
    "        g = np.sum(x_3d_single[:, :, thirds[1]], axis=-1)\n",
    "        b = np.sum(x_3d_single[:, :, thirds[2]], axis=-1)\n",
    "        rgb = np.stack([r, g, b], axis=-1)\n",
    "        max_val = np.max(rgb)\n",
    "        return np.clip(rgb / (max_val * buffer_scale if max_val > 0 else 1.0), 0, 1)\n",
    "\n",
    "    # Convert to RGB\n",
    "    x_train_rgb = normalize_per_sample(split_sum_rgb(x_train_3d))\n",
    "    x_val_rgb   = normalize_per_sample(split_sum_rgb(x_val_3d))\n",
    "    x_test_rgb  = normalize_per_sample(split_sum_rgb(x_test_3d))\n",
    "    y_train_rgb = normalize_per_sample(split_sum_rgb(y_train_3d))\n",
    "    y_val_rgb   = normalize_per_sample(split_sum_rgb(y_val_3d))\n",
    "    y_test_rgb  = normalize_per_sample(split_sum_rgb(y_test_3d))\n",
    "\n",
    "    # Optional: process ref_d\n",
    "    ref_d_rgb = single_project_3d_to_rgb(ref_d) if ref_d is not None else None\n",
    "\n",
    "    return (\n",
    "        x_train_rgb, x_val_rgb, x_test_rgb,\n",
    "        y_train_rgb, y_val_rgb, y_test_rgb,\n",
    "        ref_d_rgb\n",
    "    )\n"
   ]
  },
  {
   "cell_type": "code",
   "execution_count": null,
   "id": "5b33e0bf-0c74-4715-8ca2-59853546ddda",
   "metadata": {},
   "outputs": [],
   "source": [
    "x_train_rgb, x_val_rgb, x_test_rgb, \\\n",
    "y_train_rgb, y_val_rgb, y_test_rgb, \\\n",
    "ref_d_rgb = batch_project_3d_to_rgb(\n",
    "    x_train, x_val, x_test,\n",
    "    y_train_3d, y_val_3d, y_test_3d,\n",
    "    ref_d=ref_d,  # <== pass your (H, W, D) ref sample here\n",
    "    buffer_scale=1.0\n",
    ")\n",
    "print(\"done generating\")"
   ]
  },
  {
   "cell_type": "code",
   "execution_count": null,
   "id": "0f55f620-d1ca-4e41-9f75-3f098a474955",
   "metadata": {},
   "outputs": [],
   "source": [
    "print"
   ]
  },
  {
   "cell_type": "code",
   "execution_count": 4,
   "id": "2c1d745d-19ec-4ae8-9cd5-1615d032497a",
   "metadata": {},
   "outputs": [
    {
     "name": "stdout",
     "output_type": "stream",
     "text": [
      "ERROR! Session/line number was not unique in database. History logging moved to new session 660\n"
     ]
    }
   ],
   "source": [
    "\"\"\"import os\n",
    "save_path = '/pscratch/sd/k/kberard/SCGSR/Data/gen_dat'\n",
    "np.save(os.path.join(save_path, 'x_train_rgb.npy'), x_train_rgb)\n",
    "np.save(os.path.join(save_path, 'x_val_rgb.npy'), x_val_rgb)\n",
    "np.save(os.path.join(save_path, 'x_test_rgb.npy'), x_test_rgb)\n",
    "np.save(os.path.join(save_path, 'y_train_rgb.npy'), y_train_rgb)\n",
    "np.save(os.path.join(save_path, 'y_val_rgb.npy'), y_val_rgb)\n",
    "np.save(os.path.join(save_path, 'y_test_rgb.npy'), y_test_rgb)\n",
    "np.save(os.path.join(save_path, 'ref_d_rgb.npy'), ref_d_rgb)\"\"\"\n",
    "import numpy as np\n",
    "\n",
    "base_path = '/pscratch/sd/k/kberard/SCGSR/Data/gen_dat'\n",
    "\n",
    "x_train_rgb = np.load(f'{base_path}/x_train_rgb.npy')\n",
    "x_val_rgb   = np.load(f'{base_path}/x_val_rgb.npy')\n",
    "x_test_rgb  = np.load(f'{base_path}/x_test_rgb.npy')\n",
    "y_train_rgb = np.load(f'{base_path}/y_train_rgb.npy')\n",
    "y_val_rgb   = np.load(f'{base_path}/y_val_rgb.npy')\n",
    "y_test_rgb  = np.load(f'{base_path}/y_test_rgb.npy')\n",
    "ref_d_rgb   = np.load(f'{base_path}/ref_d_rgb.npy')\n"
   ]
  },
  {
   "cell_type": "code",
   "execution_count": 5,
   "id": "36bbc1e0-a4a7-456b-a5bd-96b127508f9d",
   "metadata": {},
   "outputs": [
    {
     "data": {
      "image/png": "[encoded data removed]",
      "text/plain": [
       "<Figure size 1200x400 with 4 Axes>"
      ]
     },
     "metadata": {},
     "output_type": "display_data"
    }
   ],
   "source": [
    "\n",
    "\n",
    "x_clean = ref_d_rgb            # shape: (64, 64, 3), dtype: float32\n",
    "                              # or whatever sampling parameter you want\n",
    "x_noisy = x_train_rgb[0] \n",
    "\n",
    "\n",
    "N=100\n",
    "noise_std = np.sqrt(1.0 / N)\n",
    "\n",
    "# --- Run BM3D ---\n",
    "x_denoised = bm3d_rgb(x_noisy, noise_std)  # sigma = standard deviation\n",
    "\n",
    "# --- Plot ---\n",
    "fig, axs = plt.subplots(1, 4, figsize=(12, 4))\n",
    "axs[0].imshow(ref_d_rgb)\n",
    "axs[0].set_title(\"Clean\")\n",
    "axs[0].axis(\"off\")\n",
    "\n",
    "axs[1].imshow(x_noisy)\n",
    "axs[1].set_title(\"Noisy (Poisson)\")\n",
    "axs[1].axis(\"off\")\n",
    "\n",
    "\n",
    "axs[2].imshow(x_denoised)\n",
    "axs[2].set_title(\"BM3D Denoised Renorm\")\n",
    "axs[2].axis(\"off\")\n",
    "\n",
    "def normalize_per_sample(x_rgb):\n",
    "        max_vals = np.max(x_rgb, axis=(1, 2), keepdims=True)\n",
    "        max_vals = np.where(max_vals == 0, 1.0, max_vals)  # Prevent div by zero\n",
    "        return np.clip(x_rgb / (max_vals * 1), 0, 1)\n",
    "\n",
    "#might need to be renormalized because max is no longer 1\n",
    "renorm_den = normalize_per_sample(x_denoised)\n",
    "axs[3].imshow(renorm_den)\n",
    "axs[3].set_title(\"BM3D Denoised Renorm\")\n",
    "axs[3].axis(\"off\")\n",
    "\n",
    "plt.tight_layout()\n",
    "plt.show()\n"
   ]
  },
  {
   "cell_type": "code",
   "execution_count": 8,
   "id": "a19eb251-f967-4eda-9414-839d04dc400a",
   "metadata": {},
   "outputs": [
    {
     "name": "stdout",
     "output_type": "stream",
     "text": [
      "(5000, 64, 64, 3)\n"
     ]
    }
   ],
   "source": [
    "print(x_train_rgb.shape)"
   ]
  },
  {
   "cell_type": "code",
   "execution_count": 15,
   "id": "b4985ebe-5a50-46e5-afca-82100289d12c",
   "metadata": {},
   "outputs": [
    {
     "name": "stdout",
     "output_type": "stream",
     "text": [
      "1.0\n",
      "0.0\n",
      "(5000, 64, 64, 3)\n",
      "Number of zeros: 261\n"
     ]
    }
   ],
   "source": [
    "print(np.max(x_train_rgb))\n",
    "print(np.min(x_train_rgb[10]))\n",
    "print(x_train_rgb.shape)\n",
    "zeros_mask = (x_train_rgb[0] <= 0)\n",
    "num_zeros = np.count_nonzero(zeros_mask)\n",
    "print(f\"Number of zeros: {num_zeros}\")"
   ]
  },
  {
   "cell_type": "code",
   "execution_count": 15,
   "id": "431e6e5e-355c-4d0d-8399-3d7d4da2eedc",
   "metadata": {},
   "outputs": [
    {
     "name": "stdout",
     "output_type": "stream",
     "text": [
      "0.6821662643513785 0.5806451612903223 0.546853408537885 0.8492264610640919\n"
     ]
    }
   ],
   "source": [
    "# Too bright now\n",
    "print(x_clean[0,0,0],x_noisy[0,0,0],x_denoised[0,0,0],renorm_den[0,0,0])"
   ]
  },
  {
   "cell_type": "code",
   "execution_count": 16,
   "id": "c6e27ce4-0032-406a-85fa-913616cc5495",
   "metadata": {},
   "outputs": [
    {
     "name": "stdout",
     "output_type": "stream",
     "text": [
      "1.0\n",
      "3822.646322693739\n",
      "\n",
      "1.0\n",
      "2586.8709677419342\n",
      "\n",
      "0.7135871719288568\n",
      "2591.281102809333\n",
      "\n",
      "1.0\n",
      "4382.53075747165\n"
     ]
    }
   ],
   "source": [
    "print(np.max(x_clean))\n",
    "print(np.sum(x_clean,axis=(0,1,2)))\n",
    "print()\n",
    "print(np.max(x_noisy))\n",
    "print(np.sum(x_noisy,axis=(0,1,2)))\n",
    "print()\n",
    "print(np.max(np.clip(x_denoised, 0, 1)))\n",
    "print(np.sum(np.clip(x_denoised, 0, 1),axis=(0,1,2)))\n",
    "print()\n",
    "print(np.max(np.clip(renorm_den, 0, 1)))\n",
    "print(np.sum(np.clip(renorm_den, 0, 1),axis=(0,1,2)))\n",
    "\n"
   ]
  },
  {
   "cell_type": "code",
   "execution_count": 18,
   "id": "0035c6a7-2f57-4d5b-a98c-eab76493880c",
   "metadata": {},
   "outputs": [],
   "source": [
    "def jensen_shannon_divergence_loss(y_true, y_pred):\n",
    "    y_t = tf.cast(y_true, tf.float32)\n",
    "    y_p = tf.cast(y_pred, tf.float32)\n",
    "\n",
    "    y_t = tf.reshape(y_t, [tf.shape(y_t)[0], -1])\n",
    "    y_p = tf.reshape(y_p, [tf.shape(y_p)[0], -1])\n",
    "\n",
    "    y_t /= tf.reduce_sum(y_t, axis=1, keepdims=True) + 1e-8\n",
    "    y_p /= tf.reduce_sum(y_p, axis=1, keepdims=True) + 1e-8\n",
    "\n",
    "    m = 0.5 * (y_t + y_p)\n",
    "\n",
    "    kl_true = tf.reduce_sum(y_t * tf.math.log((y_t + 1e-8) / (m + 1e-8)), axis=1)\n",
    "    kl_pred = tf.reduce_sum(y_p * tf.math.log((y_p + 1e-8) / (m + 1e-8)), axis=1)\n",
    "\n",
    "    jsd = 0.5 * (kl_true + kl_pred)\n",
    "\n",
    "    return tf.reduce_mean(jsd)"
   ]
  },
  {
   "cell_type": "code",
   "execution_count": 23,
   "id": "b90a8fa0-237f-4909-a770-667d144d86ce",
   "metadata": {
    "scrolled": true
   },
   "outputs": [
    {
     "name": "stdout",
     "output_type": "stream",
     "text": [
      "\n",
      ">>> Evaluation Metrics on BM3D Denoised Image\n",
      "2-norm (x_denoised vs ref_d_rgb): 14.4957\n",
      "2-norm (renormalized vs ref_d_rgb): 8.1491\n",
      "JSD (x_noisy vs ref_d_rgb): 0.012791\n",
      "JSD (x_denoised vs ref_d_rgb): 0.000316\n",
      "JSD (renormalized vs ref_d_rgb): 0.000316\n"
     ]
    }
   ],
   "source": [
    "# --- Evaluation ---\n",
    "print(\"\\n>>> Evaluation Metrics on BM3D Denoised Image\")\n",
    "\n",
    "# 2-norm difference (before/after renorm)\n",
    "norm_original = np.linalg.norm(x_denoised - x_clean)\n",
    "norm_renormed = np.linalg.norm(renorm_den - x_clean)\n",
    "\n",
    "print(f\"2-norm (x_denoised vs ref_d_rgb): {norm_original:.4f}\")\n",
    "print(f\"2-norm (renormalized vs ref_d_rgb): {norm_renormed:.4f}\")\n",
    "\n",
    "# Jensen-Shannon divergence setup\n",
    "import tensorflow as tf\n",
    "from tensorflow.keras.losses import KLDivergence\n",
    "\n",
    "jsd_noisy = jensen_shannon_divergence_loss(tf.convert_to_tensor(x_noisy, dtype=tf.float32),\n",
    "                                               tf.convert_to_tensor(x_clean, dtype=tf.float32))\n",
    "jsd_original = jensen_shannon_divergence_loss(tf.convert_to_tensor(x_denoised, dtype=tf.float32),\n",
    "                                               tf.convert_to_tensor(x_clean, dtype=tf.float32))\n",
    "jsd_renormed = jensen_shannon_divergence_loss(tf.convert_to_tensor(renorm_den, dtype=tf.float32),\n",
    "                                               tf.convert_to_tensor(x_clean, dtype=tf.float32))\n",
    "print(f\"JSD (x_noisy vs ref_d_rgb): {jsd_noisy.numpy():.6f}\")\n",
    "print(f\"JSD (x_denoised vs ref_d_rgb): {jsd_original.numpy():.6f}\")\n",
    "print(f\"JSD (renormalized vs ref_d_rgb): {jsd_renormed.numpy():.6f}\")"
   ]
  },
  {
   "cell_type": "code",
   "execution_count": null,
   "id": "d2c414fa-e44a-4daa-9a4d-166707f5d4bc",
   "metadata": {},
   "outputs": [],
   "source": [
    "#noisy vs dft"
   ]
  }
 ],
 "metadata": {
  "kernelspec": {
   "display_name": "MyEnvironment",
   "language": "python",
   "name": "env"
  },
  "language_info": {
   "codemirror_mode": {
    "name": "ipython",
    "version": 3
   },
   "file_extension": ".py",
   "mimetype": "text/x-python",
   "name": "python",
   "nbconvert_exporter": "python",
   "pygments_lexer": "ipython3",
   "version": "3.12.9"
  }
 },
 "nbformat": 4,
 "nbformat_minor": 5
}
